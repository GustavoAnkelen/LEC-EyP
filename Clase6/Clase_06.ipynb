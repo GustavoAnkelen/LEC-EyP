{
 "cells": [
  {
   "cell_type": "markdown",
   "metadata": {},
   "source": [
    "<img src=\"https://www.promocionachile.cl/img/logos/uai.JPG\" width=\"400\" alt=\"utfsm-logo\" align=\"left\"/>"
   ]
  },
  {
   "cell_type": "markdown",
   "metadata": {},
   "source": [
    "# LEC de Probabilidad y Estadística, Viña del mar.\n",
    "## Sesión 06\n",
    "### Profesores: Gustavo Arcaya - Eduardo Rubio\n",
    "\n",
    "# Objetivos:\n",
    "* Presentar distribuciones continuas especiales\n",
    "    * Distribución Chi-Cuadrado\n",
    "    * Distribución t-Student\n",
    "    \n",
    "* Realizar estimación de parámetros\n",
    "\n",
    "* Calcular intervalos de confianza\n",
    "--------------\n",
    "--------------\n"
   ]
  },
  {
   "cell_type": "markdown",
   "metadata": {},
   "source": [
    "## Distribuciones que provienen de una variable aleatoria que distribuye normal\n",
    "* **Distribución Chi-Cuadrado**\n",
    "\n",
    "Sean $X_i\\sim N(0,1)$, con $i=1,...,n$ independientes. Definamos:\n",
    "$$\n",
    "Y = \\sum_{i=1}^n X_i ^2\n",
    "$$\n",
    "Entonces diremos que $Y$ sigue una distribución chi-cuadrado con $n$ grados de libertad y lo anotaremos como $Y \\sim \\chi^2(n)$.\n",
    "\n",
    "####  Relación con la Gamma\n",
    "La distribución $\\chi^2$ es un caso especial de la distribución gamma. De hecho se tiene que:\n",
    "$$\n",
    "\\chi^2(n) =^d = \\Gamma \\left( \\dfrac{n}{2},\\dfrac{1}{2} \\right)\n",
    "$$\n",
    "-------------"
   ]
  },
  {
   "cell_type": "markdown",
   "metadata": {},
   "source": [
    "### Aplicaciones\n",
    "**Importante:** Suponga que $X_i$ es una muestra aleatoria de tamaño $n$ que viene desde una distribución normal de parámetros $\\mu$ y $\\sigma^2$. Entonces se tiene que:\n",
    "$$\n",
    "\\bar{X} = \\dfrac{1}{n}\\sum_{i=1}^n X_i \\sim N\\left(\\mu,\\dfrac{\\sigma^2}{n}\\right)\n",
    "$$\n",
    "$$\n",
    "\\dfrac{(n-1)S^2}{\\sigma^2} = \\sum_{i=1}^n \\left(\\dfrac{X_i - \\bar{X}}{\\sigma}\\right)^2 \\sim \\chi^2 (n-1)\n",
    "$$\n",
    "\n",
    "### Simulaciones, probabilidades y cuantilies\n",
    "Al igual como vimos en las clases anteriores podemos simular datos que vienen desde esta distribución, al igual que calcular cuantilies y probabilidades"
   ]
  },
  {
   "cell_type": "code",
   "execution_count": 1,
   "metadata": {},
   "outputs": [],
   "source": [
    "grados_de_libertad = 9"
   ]
  },
  {
   "cell_type": "code",
   "execution_count": 2,
   "metadata": {},
   "outputs": [],
   "source": [
    "set.seed(0)\n",
    "chi2=rchisq(10000,grados_de_libertad)"
   ]
  },
  {
   "cell_type": "code",
   "execution_count": 3,
   "metadata": {},
   "outputs": [
    {
     "data": {
      "image/png": "[encoded data removed]",
      "text/plain": [
       "Plot with title \"Histogram of chi2\""
      ]
     },
     "metadata": {
      "image/png": {
       "height": 420,
       "width": 420
      }
     },
     "output_type": "display_data"
    }
   ],
   "source": [
    "hist(chi2)"
   ]
  },
  {
   "cell_type": "markdown",
   "metadata": {},
   "source": [
    "Como antes, podemos usar los comandos `pchisq` y  `qchisq` para entontrar la probabilidad acumulada hasta un valor $x_0$ de la variable aleatoria y para encontrar el valor de $\\hat{x}$ para el cual se alcanza cierto valor de probabilidad acumulada $\\hat{P}$"
   ]
  },
  {
   "cell_type": "code",
   "execution_count": 4,
   "metadata": {},
   "outputs": [
    {
     "data": {
      "text/html": [
       "0.649514787676639"
      ],
      "text/latex": [
       "0.649514787676639"
      ],
      "text/markdown": [
       "0.649514787676639"
      ],
      "text/plain": [
       "[1] 0.6495148"
      ]
     },
     "metadata": {},
     "output_type": "display_data"
    }
   ],
   "source": [
    "pchisq(10,grados_de_libertad)        #<----- pchisq(x_0, grados de libertad) = probabilidad acumulada hasta x_0"
   ]
  },
  {
   "cell_type": "code",
   "execution_count": 5,
   "metadata": {},
   "outputs": [
    {
     "data": {
      "text/html": [
       "10.0059962378522"
      ],
      "text/latex": [
       "10.0059962378522"
      ],
      "text/markdown": [
       "10.0059962378522"
      ],
      "text/plain": [
       "[1] 10.006"
      ]
     },
     "metadata": {},
     "output_type": "display_data"
    }
   ],
   "source": [
    "qchisq(0.65,grados_de_libertad)      #<----- qchisq(P, grados de libertad) = valor en que la variable aleatoria alcanza una probabilidad acumulada P"
   ]
  },
  {
   "cell_type": "markdown",
   "metadata": {
    "jp-MarkdownHeadingCollapsed": true,
    "tags": []
   },
   "source": [
    "----------------\n",
    "\n",
    "### Distribución t-Student\n",
    "La distribución t de Student es la distribución de probabilidad del cociente\n",
    "$$\n",
    "    {\\displaystyle T={\\frac {Z}{\\sqrt {V/k }}}=Z{\\sqrt {\\frac {k }{V}}}} \n",
    "$$\n",
    "donde:\n",
    "*    Z es una variable aleatoria distribuida según una normal estándar(de media 0 y varianza 1).\n",
    "*    V es una variable continua que sigue una distribución $\\chi^2$ con ${k  }$ grados de libertad.\n",
    "*    Z y V son independientes\n",
    "Y anotaremos que $T \\sim t(k)$.\n",
    "---------------"
   ]
  },
  {
   "cell_type": "markdown",
   "metadata": {},
   "source": [
    "### Aplicaciones\n",
    "Sea $X_1,...,X_n$ una muestra aleatoria de tamaño $n$ desde una normal de parámetros $\\mu$ y $\\sigma^2$. Entonces se tiene que:\n",
    "$$\n",
    " \\dfrac{\\bar{X} - \\mu}{\\frac{S}{\\sqrt{n}}} \\sim t(n-1)\n",
    "$$\n",
    "**NOTA** La distribución $t$ es simetrica con respecto al 0.\n",
    "\n",
    "### Simulaciones, probabilidades y cuantiles\n",
    "Nota que para simular la distribución t y calcular probabilidades se debe hacer lo siguiente:"
   ]
  },
  {
   "cell_type": "code",
   "execution_count": 6,
   "metadata": {},
   "outputs": [],
   "source": [
    "grados_de_libertad2 = 15"
   ]
  },
  {
   "cell_type": "code",
   "execution_count": 7,
   "metadata": {},
   "outputs": [],
   "source": [
    "set.seed(96)\n",
    "data=rt(2000,grados_de_libertad2)"
   ]
  },
  {
   "cell_type": "code",
   "execution_count": 8,
   "metadata": {},
   "outputs": [
    {
     "data": {
      "image/png": "[encoded data removed]",
      "text/plain": [
       "Plot with title \"Histogram of data\""
      ]
     },
     "metadata": {
      "image/png": {
       "height": 420,
       "width": 420
      }
     },
     "output_type": "display_data"
    }
   ],
   "source": [
    "hist(data)"
   ]
  },
  {
   "cell_type": "markdown",
   "metadata": {},
   "source": [
    "Como antes, podemos usar los comandos `pt` y  `qt` para entontrar la probabilidad acumulada hasta un valor $x_0$ de la variable aleatoria y para encontrar el valor de $\\hat{x}$ para el cual se alcanza cierto valor de probabilidad acumulada $\\hat{P}$"
   ]
  },
  {
   "cell_type": "code",
   "execution_count": 9,
   "metadata": {},
   "outputs": [
    {
     "data": {
      "text/html": [
       "0.166585067957738"
      ],
      "text/latex": [
       "0.166585067957738"
      ],
      "text/markdown": [
       "0.166585067957738"
      ],
      "text/plain": [
       "[1] 0.1665851"
      ]
     },
     "metadata": {},
     "output_type": "display_data"
    }
   ],
   "source": [
    "pt(-1,grados_de_libertad2)         #<----- pt(x_0, grados de libertad) = probabilidad acumulada hasta x_0"
   ]
  },
  {
   "cell_type": "code",
   "execution_count": 10,
   "metadata": {},
   "outputs": [
    {
     "data": {
      "text/html": [
       "-1.0285328423444"
      ],
      "text/latex": [
       "-1.0285328423444"
      ],
      "text/markdown": [
       "-1.0285328423444"
      ],
      "text/plain": [
       "[1] -1.028533"
      ]
     },
     "metadata": {},
     "output_type": "display_data"
    }
   ],
   "source": [
    "qt(0.16,grados_de_libertad2)       #<----- qt(P, grados de libertad) = valor en que la variable aleatoria alcanza una probabilidad acumulada P"
   ]
  },
  {
   "cell_type": "markdown",
   "metadata": {},
   "source": [
    "--------------\n",
    "-------------\n",
    "\n",
    "## Estimación de parámetros de una distribución normal\n",
    "Suponga que $X\\sim N(\\mu,\\sigma^2)$ entonces nos gustaría estimar el valor de $\\mu$ (que llamamos media poblacional). Para ello utilizaremos una aproximación de $\\mu$ dada por la media muestral $\\bar{X}$ de $n$ datos y anotaremos la estimación $\\hat{\\mu}$ dada por este promedio\n",
    "\n",
    "\n",
    "\\begin{equation}\n",
    "\\hat{\\mu} = \\bar{X} = \\dfrac{1}{n}\\sum X_i\n",
    "\\end{equation}\n",
    "\n",
    "Además tenemos que:\n",
    "\n",
    "\\begin{equation}\n",
    "\\hat{\\mu} \\sim N\\left( \\mu , \\dfrac{\\sigma^2}{n} \\right)\n",
    "\\end{equation}\n",
    "\n",
    "Por otro lado también buscaremos estimar $\\sigma^2$. Para ello aproximaremos $\\sigma^2$ mediante la varianza muestral $S^2$ con $n$ datos y anotaremos:\n",
    "\n",
    "\\begin{equation}\n",
    "\\hat{\\sigma^2} = S^2 = \\dfrac{1}{n}\\sum (X_i - \\overline{X})^2\n",
    "\\end{equation}\n",
    "\n",
    "Además se cumple que:\n",
    "\n",
    "\\begin{equation}\n",
    "(n-1)\\dfrac{S^2}{\\sigma^2} \\sim \\chi^2 (n-1)\n",
    "\\end{equation}\n",
    "\n",
    "y\n",
    "\n",
    "\\begin{equation}\n",
    "\\dfrac{ \\bar{X} - \\mu }{ \\frac{S}{\\sqrt{n}}} \\sim t(n-1)\n",
    "\\end{equation}"
   ]
  },
  {
   "cell_type": "markdown",
   "metadata": {},
   "source": [
    "_De aquí nota que tanto $\\bar{X}$ y $S^2$ son variables aleatorias, por tanto es razonable hablar del concepto de probabilidad._"
   ]
  },
  {
   "cell_type": "markdown",
   "metadata": {},
   "source": [
    "## Intervalos de confianza para $\\mu$ y $\\sigma ^2$"
   ]
  },
  {
   "cell_type": "markdown",
   "metadata": {},
   "source": [
    "#### Para esto, consideremos la siguiente base de datos, con las siguientes especificaciones\n",
    "   * Climbers table: climber_df.csv\n",
    "   * date_first -> date of the first ascension\n",
    "   * date_last -> date of the last ascension\n",
    "   * grades_first -> grade of the first ascension\n",
    "   * grades_last -> grade of the last ascension\n",
    "   * years_cl -> years climbing\n",
    "   * grades_count -> number of routes done by climber\n",
    "   * year_first -> year of the first ascension\n",
    "   * year_last -> year of the last ascension"
   ]
  },
  {
   "cell_type": "code",
   "execution_count": 11,
   "metadata": {},
   "outputs": [],
   "source": [
    "data=read.csv('climber_df.csv')"
   ]
  },
  {
   "cell_type": "code",
   "execution_count": 12,
   "metadata": {},
   "outputs": [
    {
     "data": {
      "text/html": [
       "<table>\n",
       "<thead><tr><th scope=col>user_id</th><th scope=col>country</th><th scope=col>sex</th><th scope=col>height</th><th scope=col>weight</th><th scope=col>age</th><th scope=col>years_cl</th><th scope=col>date_first</th><th scope=col>date_last</th><th scope=col>grades_count</th><th scope=col>grades_first</th><th scope=col>grades_last</th><th scope=col>grades_max</th><th scope=col>grades_mean</th><th scope=col>year_first</th><th scope=col>year_last</th></tr></thead>\n",
       "<tbody>\n",
       "\t<tr><td> 1                 </td><td>SWE                </td><td>0                  </td><td>177                </td><td>73                 </td><td>41                 </td><td>21                 </td><td>1999-02-06 23:00:00</td><td>2001-07-31 22:00:00</td><td> 84                </td><td>36                 </td><td>55                 </td><td>62                 </td><td>46.75000           </td><td>1999               </td><td>2001               </td></tr>\n",
       "\t<tr><td> 3                 </td><td>SWE                </td><td>0                  </td><td>180                </td><td>78                 </td><td>44                 </td><td>22                 </td><td>1999-03-31 22:00:00</td><td>2000-07-19 22:00:00</td><td> 12                </td><td>53                 </td><td>51                 </td><td>59                 </td><td>52.83333           </td><td>1999               </td><td>2000               </td></tr>\n",
       "\t<tr><td> 4                 </td><td>SWE                </td><td>1                  </td><td>165                </td><td>58                 </td><td>33                 </td><td>16                 </td><td>2004-06-30 22:00:00</td><td>2009-05-26 22:00:00</td><td>119                </td><td>53                 </td><td>49                 </td><td>64                 </td><td>53.89076           </td><td>2004               </td><td>2009               </td></tr>\n",
       "\t<tr><td>10                 </td><td>SWE                </td><td>0                  </td><td>167                </td><td>63                 </td><td>52                 </td><td>25                 </td><td>2000-01-14 23:00:00</td><td>2017-06-01 22:00:00</td><td>298                </td><td>53                 </td><td>49                 </td><td>63                 </td><td>49.40604           </td><td>2000               </td><td>2017               </td></tr>\n",
       "\t<tr><td>16                 </td><td>NOR                </td><td>0                  </td><td>177                </td><td>68                 </td><td>44                 </td><td>21                 </td><td>1998-02-27 23:00:00</td><td>2010-05-13 22:00:00</td><td>  5                </td><td>53                 </td><td>49                 </td><td>53                 </td><td>51.40000           </td><td>1998               </td><td>2010               </td></tr>\n",
       "\t<tr><td>17                 </td><td>SWE                </td><td>0                  </td><td>193                </td><td>78                 </td><td>42                 </td><td>17                 </td><td>2001-06-19 22:00:00</td><td>2002-04-30 22:00:00</td><td>  4                </td><td>36                 </td><td>36                 </td><td>36                 </td><td>34.50000           </td><td>2001               </td><td>2002               </td></tr>\n",
       "</tbody>\n",
       "</table>\n"
      ],
      "text/latex": [
       "\\begin{tabular}{r|llllllllllllllll}\n",
       " user\\_id & country & sex & height & weight & age & years\\_cl & date\\_first & date\\_last & grades\\_count & grades\\_first & grades\\_last & grades\\_max & grades\\_mean & year\\_first & year\\_last\\\\\n",
       "\\hline\n",
       "\t  1                  & SWE                 & 0                   & 177                 & 73                  & 41                  & 21                  & 1999-02-06 23:00:00 & 2001-07-31 22:00:00 &  84                 & 36                  & 55                  & 62                  & 46.75000            & 1999                & 2001               \\\\\n",
       "\t  3                  & SWE                 & 0                   & 180                 & 78                  & 44                  & 22                  & 1999-03-31 22:00:00 & 2000-07-19 22:00:00 &  12                 & 53                  & 51                  & 59                  & 52.83333            & 1999                & 2000               \\\\\n",
       "\t  4                  & SWE                 & 1                   & 165                 & 58                  & 33                  & 16                  & 2004-06-30 22:00:00 & 2009-05-26 22:00:00 & 119                 & 53                  & 49                  & 64                  & 53.89076            & 2004                & 2009               \\\\\n",
       "\t 10                  & SWE                 & 0                   & 167                 & 63                  & 52                  & 25                  & 2000-01-14 23:00:00 & 2017-06-01 22:00:00 & 298                 & 53                  & 49                  & 63                  & 49.40604            & 2000                & 2017               \\\\\n",
       "\t 16                  & NOR                 & 0                   & 177                 & 68                  & 44                  & 21                  & 1998-02-27 23:00:00 & 2010-05-13 22:00:00 &   5                 & 53                  & 49                  & 53                  & 51.40000            & 1998                & 2010               \\\\\n",
       "\t 17                  & SWE                 & 0                   & 193                 & 78                  & 42                  & 17                  & 2001-06-19 22:00:00 & 2002-04-30 22:00:00 &   4                 & 36                  & 36                  & 36                  & 34.50000            & 2001                & 2002               \\\\\n",
       "\\end{tabular}\n"
      ],
      "text/markdown": [
       "\n",
       "| user_id | country | sex | height | weight | age | years_cl | date_first | date_last | grades_count | grades_first | grades_last | grades_max | grades_mean | year_first | year_last |\n",
       "|---|---|---|---|---|---|---|---|---|---|---|---|---|---|---|---|\n",
       "|  1                  | SWE                 | 0                   | 177                 | 73                  | 41                  | 21                  | 1999-02-06 23:00:00 | 2001-07-31 22:00:00 |  84                 | 36                  | 55                  | 62                  | 46.75000            | 1999                | 2001                |\n",
       "|  3                  | SWE                 | 0                   | 180                 | 78                  | 44                  | 22                  | 1999-03-31 22:00:00 | 2000-07-19 22:00:00 |  12                 | 53                  | 51                  | 59                  | 52.83333            | 1999                | 2000                |\n",
       "|  4                  | SWE                 | 1                   | 165                 | 58                  | 33                  | 16                  | 2004-06-30 22:00:00 | 2009-05-26 22:00:00 | 119                 | 53                  | 49                  | 64                  | 53.89076            | 2004                | 2009                |\n",
       "| 10                  | SWE                 | 0                   | 167                 | 63                  | 52                  | 25                  | 2000-01-14 23:00:00 | 2017-06-01 22:00:00 | 298                 | 53                  | 49                  | 63                  | 49.40604            | 2000                | 2017                |\n",
       "| 16                  | NOR                 | 0                   | 177                 | 68                  | 44                  | 21                  | 1998-02-27 23:00:00 | 2010-05-13 22:00:00 |   5                 | 53                  | 49                  | 53                  | 51.40000            | 1998                | 2010                |\n",
       "| 17                  | SWE                 | 0                   | 193                 | 78                  | 42                  | 17                  | 2001-06-19 22:00:00 | 2002-04-30 22:00:00 |   4                 | 36                  | 36                  | 36                  | 34.50000            | 2001                | 2002                |\n",
       "\n"
      ],
      "text/plain": [
       "  user_id country sex height weight age years_cl date_first         \n",
       "1  1      SWE     0   177    73     41  21       1999-02-06 23:00:00\n",
       "2  3      SWE     0   180    78     44  22       1999-03-31 22:00:00\n",
       "3  4      SWE     1   165    58     33  16       2004-06-30 22:00:00\n",
       "4 10      SWE     0   167    63     52  25       2000-01-14 23:00:00\n",
       "5 16      NOR     0   177    68     44  21       1998-02-27 23:00:00\n",
       "6 17      SWE     0   193    78     42  17       2001-06-19 22:00:00\n",
       "  date_last           grades_count grades_first grades_last grades_max\n",
       "1 2001-07-31 22:00:00  84          36           55          62        \n",
       "2 2000-07-19 22:00:00  12          53           51          59        \n",
       "3 2009-05-26 22:00:00 119          53           49          64        \n",
       "4 2017-06-01 22:00:00 298          53           49          63        \n",
       "5 2010-05-13 22:00:00   5          53           49          53        \n",
       "6 2002-04-30 22:00:00   4          36           36          36        \n",
       "  grades_mean year_first year_last\n",
       "1 46.75000    1999       2001     \n",
       "2 52.83333    1999       2000     \n",
       "3 53.89076    2004       2009     \n",
       "4 49.40604    2000       2017     \n",
       "5 51.40000    1998       2010     \n",
       "6 34.50000    2001       2002     "
      ]
     },
     "metadata": {},
     "output_type": "display_data"
    }
   ],
   "source": [
    "head(data)"
   ]
  },
  {
   "cell_type": "markdown",
   "metadata": {},
   "source": [
    "Me gustaría saber si es razonable pensar que la variable `peso` sigue una ley normal de parametros $\\mu$ y $\\sigma^2$ por estimar. Para ello notemos que:"
   ]
  },
  {
   "cell_type": "code",
   "execution_count": 13,
   "metadata": {},
   "outputs": [
    {
     "data": {
      "image/png": "[encoded data removed]",
      "text/plain": [
       "Plot with title \"Histogram of data$weight\""
      ]
     },
     "metadata": {
      "image/png": {
       "height": 420,
       "width": 420
      }
     },
     "output_type": "display_data"
    }
   ],
   "source": [
    "hist(data$weight)"
   ]
  },
  {
   "cell_type": "markdown",
   "metadata": {},
   "source": [
    "Esto nos muestra que es bastante razonable pensar que los datos siguen una ley normal, puesto que es casi simetrica, pero no sabria decidir si es normal o t de student por tanto verificare la curtosis y el coeficiente de asimetria."
   ]
  },
  {
   "cell_type": "code",
   "execution_count": 14,
   "metadata": {},
   "outputs": [],
   "source": [
    "library(moments)"
   ]
  },
  {
   "cell_type": "code",
   "execution_count": 15,
   "metadata": {},
   "outputs": [
    {
     "data": {
      "text/html": [
       "3.11843177664367"
      ],
      "text/latex": [
       "3.11843177664367"
      ],
      "text/markdown": [
       "3.11843177664367"
      ],
      "text/plain": [
       "[1] 3.118432"
      ]
     },
     "metadata": {},
     "output_type": "display_data"
    }
   ],
   "source": [
    "kurtosis(data$weight)"
   ]
  },
  {
   "cell_type": "code",
   "execution_count": 16,
   "metadata": {},
   "outputs": [
    {
     "data": {
      "text/html": [
       "-0.21861597704953"
      ],
      "text/latex": [
       "-0.21861597704953"
      ],
      "text/markdown": [
       "-0.21861597704953"
      ],
      "text/plain": [
       "[1] -0.218616"
      ]
     },
     "metadata": {},
     "output_type": "display_data"
    }
   ],
   "source": [
    "skewness(data$weight)"
   ]
  },
  {
   "cell_type": "markdown",
   "metadata": {},
   "source": [
    "Por tanto es razonable pensar que los datos son normales. Buscaremos estimar los parámetros $\\mu$ y $\\sigma^2$, para lo que usaremos los estimadores propuestos en esta sesión "
   ]
  },
  {
   "cell_type": "code",
   "execution_count": 17,
   "metadata": {},
   "outputs": [],
   "source": [
    "barX = mean(data$weight)\n",
    "S2 = var(data$weight)"
   ]
  },
  {
   "cell_type": "code",
   "execution_count": 18,
   "metadata": {},
   "outputs": [
    {
     "data": {
      "text/html": [
       "67.6086757572984"
      ],
      "text/latex": [
       "67.6086757572984"
      ],
      "text/markdown": [
       "67.6086757572984"
      ],
      "text/plain": [
       "[1] 67.60868"
      ]
     },
     "metadata": {},
     "output_type": "display_data"
    },
    {
     "data": {
      "text/html": [
       "93.6504390937404"
      ],
      "text/latex": [
       "93.6504390937404"
      ],
      "text/markdown": [
       "93.6504390937404"
      ],
      "text/plain": [
       "[1] 93.65044"
      ]
     },
     "metadata": {},
     "output_type": "display_data"
    }
   ],
   "source": [
    "barX\n",
    "S2"
   ]
  },
  {
   "cell_type": "markdown",
   "metadata": {},
   "source": [
    "Con eso obtenemos una estimación para la media y la varianza. Ahora nos lo que haremos sera construir un intervalo de confianza para la media y para la varianza."
   ]
  },
  {
   "cell_type": "markdown",
   "metadata": {},
   "source": [
    "**Formulario:**\n",
    "\n",
    "Cuando $\\mu$ es desconocido pero $\\sigma^2$ es conocido se tiene que:\n",
    "$$\n",
    "IC_{\\mu}: \\bar{X} \\pm \\left|Z\\left( \\dfrac{1-\\gamma}{2}\\right)\\right| \\dfrac{\\sigma}{\\sqrt{n}}\n",
    "$$\n",
    "Cuando tanto $\\mu$ como $\\sigma^2$ son desconocidos se tiene que:\n",
    "$$\n",
    "IC_{\\mu}: \\bar{X} \\pm \\left|t\\left( \\dfrac{1-\\gamma}{2} ; n-1 \\right)\\right| \\dfrac{S}{\\sqrt{n}}\n",
    "$$\n",
    "y\n",
    "$$\n",
    "IC_{\\sigma^2}: \\left[\\frac{(n-1) s^{2}}{\\chi^{2}\\left(\\frac{1-\\gamma}{2}+\\gamma \\right)} ; \\frac{(n-1) s^{2}}{\\chi^{2}\\left(\\frac{1-\\gamma}{2}\\right)}\\right]\n",
    "$$"
   ]
  },
  {
   "cell_type": "markdown",
   "metadata": {},
   "source": [
    "Donde $\\gamma$ es el nivel de confianza. "
   ]
  },
  {
   "cell_type": "markdown",
   "metadata": {},
   "source": [
    "### IC para $\\mu$ con $\\sigma^2$ desconocido con la base de datos.\n",
    "Procedemos a encontrar un IC para $\\mu$ y $\\sigma$ con una confianza $\\gamma$."
   ]
  },
  {
   "cell_type": "code",
   "execution_count": 19,
   "metadata": {},
   "outputs": [],
   "source": [
    "# defino\n",
    "n = length(data$weight)\n",
    "gamma = 0.95 #nivel de confianza"
   ]
  },
  {
   "cell_type": "code",
   "execution_count": 20,
   "metadata": {},
   "outputs": [
    {
     "data": {
      "text/html": [
       "67.4272276140396"
      ],
      "text/latex": [
       "67.4272276140396"
      ],
      "text/markdown": [
       "67.4272276140396"
      ],
      "text/plain": [
       "[1] 67.42723"
      ]
     },
     "metadata": {},
     "output_type": "display_data"
    }
   ],
   "source": [
    "LI = barX - abs(qnorm((1-gamma)/2,0,1))*sqrt(S2/n)\n",
    "LI"
   ]
  },
  {
   "cell_type": "code",
   "execution_count": 21,
   "metadata": {},
   "outputs": [
    {
     "data": {
      "text/html": [
       "67.7901239005573"
      ],
      "text/latex": [
       "67.7901239005573"
      ],
      "text/markdown": [
       "67.7901239005573"
      ],
      "text/plain": [
       "[1] 67.79012"
      ]
     },
     "metadata": {},
     "output_type": "display_data"
    }
   ],
   "source": [
    "LS = barX + abs(qnorm((1-gamma)/2,0,1))*sqrt(S2/n)\n",
    "LS"
   ]
  },
  {
   "cell_type": "code",
   "execution_count": 22,
   "metadata": {},
   "outputs": [
    {
     "data": {
      "text/html": [
       "'El intervalo de confianza viene dado por [ 67.4272276140396 ; 67.7901239005573 ]'"
      ],
      "text/latex": [
       "'El intervalo de confianza viene dado por {[} 67.4272276140396 ; 67.7901239005573 {]}'"
      ],
      "text/markdown": [
       "'El intervalo de confianza viene dado por [ 67.4272276140396 ; 67.7901239005573 ]'"
      ],
      "text/plain": [
       "[1] \"El intervalo de confianza viene dado por [ 67.4272276140396 ; 67.7901239005573 ]\""
      ]
     },
     "metadata": {},
     "output_type": "display_data"
    }
   ],
   "source": [
    "paste('El intervalo de confianza viene dado por [',LI,';',LS,']')"
   ]
  },
  {
   "cell_type": "markdown",
   "metadata": {},
   "source": [
    "Existe una función en R realiza el intervalo de confianza para la media cuando la varianza es desconocida, esta se denomina como prueba t-Student"
   ]
  },
  {
   "cell_type": "code",
   "execution_count": 23,
   "metadata": {},
   "outputs": [],
   "source": [
    "#help(t.test)"
   ]
  },
  {
   "cell_type": "code",
   "execution_count": 24,
   "metadata": {},
   "outputs": [
    {
     "data": {
      "text/plain": [
       "\n",
       "\tOne Sample t-test\n",
       "\n",
       "data:  data$weight\n",
       "t = 730.29, df = 10926, p-value < 2.2e-16\n",
       "alternative hypothesis: true mean is not equal to 0\n",
       "95 percent confidence interval:\n",
       " 67.42721 67.79014\n",
       "sample estimates:\n",
       "mean of x \n",
       " 67.60868 \n"
      ]
     },
     "metadata": {},
     "output_type": "display_data"
    }
   ],
   "source": [
    "t.test(data$weight,conf.level = 0.95)"
   ]
  },
  {
   "cell_type": "markdown",
   "metadata": {},
   "source": [
    "-----------\n",
    "-----------"
   ]
  },
  {
   "cell_type": "markdown",
   "metadata": {},
   "source": [
    "### IC para $\\sigma^2$ con la base de datos.\n",
    "* Como el estimador de $\\sigma^2$ dado por $S^2$ distribuye $\\chi^2$ podemos realizar los siguientes cálculos"
   ]
  },
  {
   "cell_type": "code",
   "execution_count": 25,
   "metadata": {},
   "outputs": [],
   "source": [
    "gamma=0.95"
   ]
  },
  {
   "cell_type": "code",
   "execution_count": 26,
   "metadata": {},
   "outputs": [],
   "source": [
    "data = c(50 , 45 , 27 , 66 , 43 , 96 , 45 , 90 , 69)"
   ]
  },
  {
   "cell_type": "code",
   "execution_count": 27,
   "metadata": {},
   "outputs": [],
   "source": [
    "S2=var(data)"
   ]
  },
  {
   "cell_type": "code",
   "execution_count": 28,
   "metadata": {},
   "outputs": [],
   "source": [
    "n=length(data)"
   ]
  },
  {
   "cell_type": "code",
   "execution_count": 29,
   "metadata": {},
   "outputs": [],
   "source": [
    "LI = sqrt((n-1)*S2 / qchisq( (1-gamma)/2 + gamma,n-1))\n",
    "LS =  sqrt((n-1)*S2 / qchisq( (1-gamma)/2,n-1))"
   ]
  },
  {
   "cell_type": "code",
   "execution_count": 30,
   "metadata": {},
   "outputs": [
    {
     "data": {
      "text/html": [
       "'[ 15.5355117912276 ; 44.0627303076835 ]'"
      ],
      "text/latex": [
       "'{[} 15.5355117912276 ; 44.0627303076835 {]}'"
      ],
      "text/markdown": [
       "'[ 15.5355117912276 ; 44.0627303076835 ]'"
      ],
      "text/plain": [
       "[1] \"[ 15.5355117912276 ; 44.0627303076835 ]\""
      ]
     },
     "metadata": {},
     "output_type": "display_data"
    }
   ],
   "source": [
    "paste('[',LI,';',LS,']')"
   ]
  },
  {
   "cell_type": "markdown",
   "metadata": {},
   "source": [
    "##### OBS: No existe una función en R que te entrega directamente este IC"
   ]
  }
 ],
 "metadata": {
  "kernelspec": {
   "display_name": "R",
   "language": "R",
   "name": "ir"
  },
  "language_info": {
   "codemirror_mode": "r",
   "file_extension": ".r",
   "mimetype": "text/x-r-source",
   "name": "R",
   "pygments_lexer": "r",
   "version": "3.6.3"
  }
 },
 "nbformat": 4,
 "nbformat_minor": 4
}
