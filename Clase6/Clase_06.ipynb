{
 "cells": [
  {
   "cell_type": "markdown",
   "metadata": {},
   "source": [
    "<img src=\"https://www.promocionachile.cl/img/logos/uai.JPG\" width=\"400\" alt=\"utfsm-logo\" align=\"left\"/>"
   ]
  },
  {
   "cell_type": "markdown",
   "metadata": {},
   "source": [
    "# LEC de Probabilidad y Estadística, Viña del mar.\n",
    "## Sesión 06\n",
    "### Profesores: Gustavo Arcaya - Eduardo Rubio\n",
    "\n",
    "# Objetivos:\n",
    "* Presentar distribuciones continuas especiales\n",
    "    * Distribución Chi-Cuadrado\n",
    "    * Distribución t-Student\n",
    "    \n",
    "* Realizar estimación de parámetros\n",
    "\n",
    "* Calcular intervalos de confianza\n",
    "--------------\n",
    "--------------\n"
   ]
  },
  {
   "cell_type": "markdown",
   "metadata": {},
   "source": [
    "## Distribuciones que provienen de una variable aleatoria que distribuye normal\n",
    "* **Distribución Chi-Cuadrado**\n",
    "\n",
    "Sean $X_i\\sim N(0,1)$, con $i=1,...,n$ independientes. Definamos:\n",
    "$$\n",
    "Y = \\sum_{i=1}^n X_i ^2\n",
    "$$\n",
    "Entonces diremos que $Y$ sigue una distribución chi-cuadrado con $n$ grados de libertad y lo anotaremos como $Y \\sim \\chi^2(n)$.\n",
    "\n",
    "####  Relación con la Gamma\n",
    "La distribución $\\chi^2$ es un caso especial de la distribución gamma. De hecho se tiene que:\n",
    "$$\n",
    "\\chi^2(n) =^d = \\Gamma \\left( \\dfrac{n}{2},\\dfrac{1}{2} \\right)\n",
    "$$\n",
    "-------------"
   ]
  },
  {
   "cell_type": "markdown",
   "metadata": {},
   "source": [
    "### Aplicaciones\n",
    "**Importante:** Suponga que $X_i$ es una muestra aleatoria de tamaño $n$ que viene desde una distribución normal de parámetros $\\mu$ y $\\sigma^2$. Entonces se tiene que:\n",
    "$$\n",
    "\\bar{X} = \\dfrac{1}{n}\\sum_{i=1}^n X_i \\sim N\\left(\\mu,\\dfrac{\\sigma^2}{n}\\right)\n",
    "$$\n",
    "$$\n",
    "\\dfrac{(n-1)S^2}{\\sigma^2} = \\sum_{i=1}^n \\left(\\dfrac{X_i - \\bar{X}}{\\sigma}\\right)^2 \\sim \\chi^2 (n-1)\n",
    "$$\n",
    "\n",
    "### Simulaciones, probabilidades y cuantilies\n",
    "Al igual como vimos en las clases anteriores podemos simular datos que vienen desde esta distribución, al igual que calcular cuantilies y probabilidades"
   ]
  },
  {
   "cell_type": "code",
   "execution_count": 1,
   "metadata": {},
   "outputs": [],
   "source": [
    "grados_de_libertad = 9"
   ]
  },
  {
   "cell_type": "code",
   "execution_count": 2,
   "metadata": {},
   "outputs": [],
   "source": [
    "set.seed(0)\n",
    "chi2=rchisq(10000,grados_de_libertad)"
   ]
  },
  {
   "cell_type": "code",
   "execution_count": 15,
   "metadata": {},
   "outputs": [
    {
     "data": {
      "image/png": "[encoded data removed]",
      "text/plain": [
       "Plot with title \"Histogram of chi2\""
      ]
     },
     "metadata": {
      "image/png": {
       "height": 420,
       "width": 420
      }
     },
     "output_type": "display_data"
    }
   ],
   "source": [
    "hist(chi2)"
   ]
  },
  {
   "cell_type": "markdown",
   "metadata": {},
   "source": [
    "Como antes, podemos usar los comandos `pchisq` y  `qchisq` para entontrar la probabilidad acumulada hasta un valor $x_0$ de la variable aleatoria y para encontrar el valor de $\\hat{x}$ para el cual se alcanza cierto valor de probabilidad acumulada $\\hat{P}$"
   ]
  },
  {
   "cell_type": "code",
   "execution_count": 18,
   "metadata": {},
   "outputs": [
    {
     "data": {
      "text/html": [
       "0.649514787676639"
      ],
      "text/latex": [
       "0.649514787676639"
      ],
      "text/markdown": [
       "0.649514787676639"
      ],
      "text/plain": [
       "[1] 0.6495148"
      ]
     },
     "metadata": {},
     "output_type": "display_data"
    }
   ],
   "source": [
    "pchisq(10,grados_de_libertad)        #<----- pchisq(x_0, grados de libertad) = probabilidad acumulada hasta x_0"
   ]
  },
  {
   "cell_type": "code",
   "execution_count": 19,
   "metadata": {},
   "outputs": [
    {
     "data": {
      "text/html": [
       "10.0059962378522"
      ],
      "text/latex": [
       "10.0059962378522"
      ],
      "text/markdown": [
       "10.0059962378522"
      ],
      "text/plain": [
       "[1] 10.006"
      ]
     },
     "metadata": {},
     "output_type": "display_data"
    }
   ],
   "source": [
    "qchisq(0.65,grados_de_libertad)      #<----- qchisq(P, grados de libertad) = valor en que la variable aleatoria alcanza una probabilidad acumulada P"
   ]
  },
  {
   "cell_type": "markdown",
   "metadata": {},
   "source": [
    "----------------\n",
    "\n",
    "### Distribución t-Student\n",
    "La distribución t de Student es la distribución de probabilidad del cociente\n",
    "$$\n",
    "    {\\displaystyle T={\\frac {Z}{\\sqrt {V/k }}}=Z{\\sqrt {\\frac {k }{V}}}} \n",
    "$$\n",
    "donde:\n",
    "*    Z es una variable aleatoria distribuida según una normal estándar(de media 0 y varianza 1).\n",
    "*    V es una variable continua que sigue una distribución $\\chi^2$ con ${k  }$ grados de libertad.\n",
    "*    Z y V son independientes\n",
    "Y anotaremos que $T \\sim t(k)$.\n",
    "---------------"
   ]
  },
  {
   "cell_type": "markdown",
   "metadata": {},
   "source": [
    "### Aplicaciones\n",
    "Sea $X_1,...,X_n$ una muestra aleatoria de tamaño $n$ desde una normal de parámetros $\\mu$ y $\\sigma^2$. Entonces se tiene que:\n",
    "$$\n",
    " \\dfrac{\\bar{X} - \\mu}{\\frac{S}{\\sqrt{n}}} \\sim t(n-1)\n",
    "$$\n",
    "**NOTA** La distribución $t$ es simetrica con respecto al 0.\n",
    "\n",
    "### Simulaciones, probabilidades y cuantiles\n",
    "Nota que para simular la distribución t y calcular probabilidades se debe hacer lo siguiente:"
   ]
  },
  {
   "cell_type": "code",
   "execution_count": 52,
   "metadata": {},
   "outputs": [],
   "source": [
    "grados_de_libertad2 = 15"
   ]
  },
  {
   "cell_type": "code",
   "execution_count": 53,
   "metadata": {},
   "outputs": [],
   "source": [
    "set.seed(96)\n",
    "data=rt(2000,grados_de_libertad2)"
   ]
  },
  {
   "cell_type": "code",
   "execution_count": 54,
   "metadata": {},
   "outputs": [
    {
     "data": {
      "image/png": "[encoded data removed]",
      "text/plain": [
       "Plot with title \"Histogram of dat\""
      ]
     },
     "metadata": {
      "image/png": {
       "height": 420,
       "width": 420
      }
     },
     "output_type": "display_data"
    }
   ],
   "source": [
    "hist(dat)"
   ]
  },
  {
   "cell_type": "markdown",
   "metadata": {},
   "source": [
    "Como antes, podemos usar los comandos `pt` y  `qt` para entontrar la probabilidad acumulada hasta un valor $x_0$ de la variable aleatoria y para encontrar el valor de $\\hat{x}$ para el cual se alcanza cierto valor de probabilidad acumulada $\\hat{P}$"
   ]
  },
  {
   "cell_type": "code",
   "execution_count": 55,
   "metadata": {},
   "outputs": [
    {
     "data": {
      "text/html": [
       "0.166585067957738"
      ],
      "text/latex": [
       "0.166585067957738"
      ],
      "text/markdown": [
       "0.166585067957738"
      ],
      "text/plain": [
       "[1] 0.1665851"
      ]
     },
     "metadata": {},
     "output_type": "display_data"
    }
   ],
   "source": [
    "pt(-1,grados_de_libertad2)         #<----- pt(x_0, grados de libertad) = probabilidad acumulada hasta x_0"
   ]
  },
  {
   "cell_type": "code",
   "execution_count": 56,
   "metadata": {},
   "outputs": [
    {
     "data": {
      "text/html": [
       "-1.0285328423444"
      ],
      "text/latex": [
       "-1.0285328423444"
      ],
      "text/markdown": [
       "-1.0285328423444"
      ],
      "text/plain": [
       "[1] -1.028533"
      ]
     },
     "metadata": {},
     "output_type": "display_data"
    }
   ],
   "source": [
    "qt(0.16,grados_de_libertad2)       #<----- qt(P, grados de libertad) = valor en que la variable aleatoria alcanza una probabilidad acumulada P"
   ]
  },
  {
   "cell_type": "markdown",
   "metadata": {},
   "source": [
    "--------------\n",
    "-------------\n",
    "\n",
    "## Estimación de parámetros de una distribución normal\n",
    "Suponga que $X\\sim N(\\mu,\\sigma^2)$ entonces nos gustaría estimar el valor de $\\mu$ (que llamamos media poblacional). Para ello utilizaremos una aproximación de $\\mu$ dada por la media muestral $\\bar{X}$ de $n$ datos y anotaremos la estimación $\\hat{\\mu}$ dada por este promedio\n",
    "\n",
    "\n",
    "\\begin{equation}\n",
    "\\hat{\\mu} = \\bar{X} = \\dfrac{1}{n}\\sum X_i\n",
    "\\end{equation}\n",
    "\n",
    "Además tenemos que:\n",
    "\n",
    "\\begin{equation}\n",
    "\\hat{\\mu} \\sim N\\left( \\mu , \\dfrac{\\sigma^2}{n} \\right)\n",
    "\\end{equation}\n",
    "\n",
    "Por otro lado también buscaremos estimar $\\sigma^2$. Para ello aproximaremos $\\sigma^2$ mediante la varianza muestral $S^2$ con $n$ datos y anotaremos:\n",
    "\n",
    "\\begin{equation}\n",
    "\\hat{\\sigma^2} = S^2 = \\dfrac{1}{n}\\sum (X_i - \\overline{X})^2\n",
    "\\end{equation}\n",
    "\n",
    "Además se cumple que:\n",
    "\n",
    "\\begin{equation}\n",
    "(n-1)\\dfrac{S^2}{\\sigma^2} \\sim \\chi^2 (n-1)\n",
    "\\end{equation}\n",
    "\n",
    "y\n",
    "\n",
    "\\begin{equation}\n",
    "\\dfrac{ \\bar{X} - \\mu }{ \\frac{S}{\\sqrt{n}}} \\sim t(n-1)\n",
    "\\end{equation}"
   ]
  },
  {
   "cell_type": "markdown",
   "metadata": {},
   "source": [
    "_De aquí nota que tanto $\\bar{X}$ y $S^2$ son variables aleatorias, por tanto es razonable hablar del concepto de probabilidad._"
   ]
  },
  {
   "cell_type": "markdown",
   "metadata": {},
   "source": [
    "## Intervalos de confianza para $\\mu$ y $\\sigma ^2$\n",
    "Supongamos la siguiente base de datos:"
   ]
  },
  {
   "cell_type": "code",
   "execution_count": 59,
   "metadata": {},
   "outputs": [],
   "source": [
    "data=read.csv('data_clase_6.csv')"
   ]
  },
  {
   "cell_type": "code",
   "execution_count": 60,
   "metadata": {},
   "outputs": [
    {
     "data": {
      "text/html": [
       "<table>\n",
       "<thead><tr><th scope=col>X</th><th scope=col>peso</th></tr></thead>\n",
       "<tbody>\n",
       "\t<tr><td>1        </td><td>11.236992</td></tr>\n",
       "\t<tr><td>2        </td><td>13.092935</td></tr>\n",
       "\t<tr><td>3        </td><td>14.770178</td></tr>\n",
       "\t<tr><td>4        </td><td> 8.183457</td></tr>\n",
       "\t<tr><td>5        </td><td>10.560417</td></tr>\n",
       "\t<tr><td>6        </td><td>11.756075</td></tr>\n",
       "</tbody>\n",
       "</table>\n"
      ],
      "text/latex": [
       "\\begin{tabular}{r|ll}\n",
       " X & peso\\\\\n",
       "\\hline\n",
       "\t 1         & 11.236992\\\\\n",
       "\t 2         & 13.092935\\\\\n",
       "\t 3         & 14.770178\\\\\n",
       "\t 4         &  8.183457\\\\\n",
       "\t 5         & 10.560417\\\\\n",
       "\t 6         & 11.756075\\\\\n",
       "\\end{tabular}\n"
      ],
      "text/markdown": [
       "\n",
       "| X | peso |\n",
       "|---|---|\n",
       "| 1         | 11.236992 |\n",
       "| 2         | 13.092935 |\n",
       "| 3         | 14.770178 |\n",
       "| 4         |  8.183457 |\n",
       "| 5         | 10.560417 |\n",
       "| 6         | 11.756075 |\n",
       "\n"
      ],
      "text/plain": [
       "  X peso     \n",
       "1 1 11.236992\n",
       "2 2 13.092935\n",
       "3 3 14.770178\n",
       "4 4  8.183457\n",
       "5 5 10.560417\n",
       "6 6 11.756075"
      ]
     },
     "metadata": {},
     "output_type": "display_data"
    }
   ],
   "source": [
    "head(data)"
   ]
  },
  {
   "cell_type": "markdown",
   "metadata": {},
   "source": [
    "Me gustaría saber si es razonable pensar que la variable `peso` sigue una ley normal de parametros $\\mu$ y $\\sigma^2$ por estimar. Para ello notemos que:"
   ]
  },
  {
   "cell_type": "code",
   "execution_count": 61,
   "metadata": {},
   "outputs": [
    {
     "data": {
      "image/png": "[encoded data removed]",
      "text/plain": [
       "Plot with title \"Histogram of data$peso\""
      ]
     },
     "metadata": {
      "image/png": {
       "height": 420,
       "width": 420
      }
     },
     "output_type": "display_data"
    }
   ],
   "source": [
    "hist(data$peso)"
   ]
  },
  {
   "cell_type": "markdown",
   "metadata": {},
   "source": [
    "Esto nos muestra que es bastante razonable pensar que los datos siguen una ley normal, puesto que es casi simetrica, pero no sabria decidir si es normal o t de student por tanto verificare la curtosis y el coeficiente de asimetria."
   ]
  },
  {
   "cell_type": "code",
   "execution_count": 62,
   "metadata": {},
   "outputs": [],
   "source": [
    "library(moments)"
   ]
  },
  {
   "cell_type": "code",
   "execution_count": 63,
   "metadata": {},
   "outputs": [
    {
     "data": {
      "text/html": [
       "2.9996777712642"
      ],
      "text/latex": [
       "2.9996777712642"
      ],
      "text/markdown": [
       "2.9996777712642"
      ],
      "text/plain": [
       "[1] 2.999678"
      ]
     },
     "metadata": {},
     "output_type": "display_data"
    }
   ],
   "source": [
    "kurtosis(data$peso)"
   ]
  },
  {
   "cell_type": "code",
   "execution_count": 64,
   "metadata": {},
   "outputs": [
    {
     "data": {
      "text/html": [
       "-0.0248926490882434"
      ],
      "text/latex": [
       "-0.0248926490882434"
      ],
      "text/markdown": [
       "-0.0248926490882434"
      ],
      "text/plain": [
       "[1] -0.02489265"
      ]
     },
     "metadata": {},
     "output_type": "display_data"
    }
   ],
   "source": [
    "skewness(data$peso)"
   ]
  },
  {
   "cell_type": "markdown",
   "metadata": {},
   "source": [
    "Por tanto es razonable pensar que los datos son normales. Buscaremos estimar los parámetros $\\mu$ y $\\sigma^2$, para lo que usaremos los estimadores propuestos en esta sesión "
   ]
  },
  {
   "cell_type": "code",
   "execution_count": 65,
   "metadata": {},
   "outputs": [],
   "source": [
    "barX = mean(data$peso)\n",
    "S2 = var(data$peso)"
   ]
  },
  {
   "cell_type": "code",
   "execution_count": 66,
   "metadata": {},
   "outputs": [
    {
     "data": {
      "text/html": [
       "9.96604415313377"
      ],
      "text/latex": [
       "9.96604415313377"
      ],
      "text/markdown": [
       "9.96604415313377"
      ],
      "text/plain": [
       "[1] 9.966044"
      ]
     },
     "metadata": {},
     "output_type": "display_data"
    },
    {
     "data": {
      "text/html": [
       "15.7662582839038"
      ],
      "text/latex": [
       "15.7662582839038"
      ],
      "text/markdown": [
       "15.7662582839038"
      ],
      "text/plain": [
       "[1] 15.76626"
      ]
     },
     "metadata": {},
     "output_type": "display_data"
    }
   ],
   "source": [
    "barX\n",
    "S2"
   ]
  },
  {
   "cell_type": "markdown",
   "metadata": {},
   "source": [
    "Con eso obtenemos una estimación para la media y la varianza. Ahora nos lo que haremos sera construir un intervalo de confianza para la media y para la varianza."
   ]
  },
  {
   "cell_type": "markdown",
   "metadata": {},
   "source": [
    "**Formulario:**\n",
    "\n",
    "Cuando $\\mu$ es desconocido pero $\\sigma^2$ es conocido se tiene que:\n",
    "$$\n",
    "IC_{\\mu}: \\bar{X} \\pm \\left|Z\\left( \\dfrac{1-\\gamma}{2}\\right)\\right| \\dfrac{\\sigma}{\\sqrt{n}}\n",
    "$$\n",
    "Cuando tanto $\\mu$ como $\\sigma^2$ son desconocidos se tiene que:\n",
    "$$\n",
    "IC_{\\mu}: \\bar{X} \\pm \\left|t\\left( \\dfrac{1-\\gamma}{2} ; n-1 \\right)\\right| \\dfrac{S}{\\sqrt{n}}\n",
    "$$\n",
    "y\n",
    "$$\n",
    "IC_{\\sigma^2}: \\left[\\frac{(n-1) s^{2}}{\\chi^{2}\\left(\\frac{1-\\gamma}{2}+\\gamma \\right)} ; \\frac{(n-1) s^{2}}{\\chi^{2}\\left(\\frac{1-\\gamma}{2}\\right)}\\right]\n",
    "$$"
   ]
  },
  {
   "cell_type": "markdown",
   "metadata": {},
   "source": [
    "Donde $\\gamma$ es el nivel de confianza. "
   ]
  },
  {
   "cell_type": "markdown",
   "metadata": {},
   "source": [
    "### IC para $\\mu$ con $\\sigma^2$ desconocido con la base de datos.\n",
    "Procedemos a encontrar un IC para $\\mu$ y $\\sigma$ con una confianza $\\gamma$."
   ]
  },
  {
   "cell_type": "code",
   "execution_count": 67,
   "metadata": {},
   "outputs": [],
   "source": [
    "# defino\n",
    "n = length(data$peso)\n",
    "gamma = 0.95 #nivel de confianza"
   ]
  },
  {
   "cell_type": "code",
   "execution_count": 82,
   "metadata": {},
   "outputs": [
    {
     "data": {
      "text/html": [
       "9.88822035731652"
      ],
      "text/latex": [
       "9.88822035731652"
      ],
      "text/markdown": [
       "9.88822035731652"
      ],
      "text/plain": [
       "[1] 9.88822"
      ]
     },
     "metadata": {},
     "output_type": "display_data"
    }
   ],
   "source": [
    "LI = barX - abs(qnorm((1-gamma)/2,0,1))*sqrt(S2/n)\n",
    "LI"
   ]
  },
  {
   "cell_type": "code",
   "execution_count": 84,
   "metadata": {},
   "outputs": [
    {
     "data": {
      "text/html": [
       "10.043867948951"
      ],
      "text/latex": [
       "10.043867948951"
      ],
      "text/markdown": [
       "10.043867948951"
      ],
      "text/plain": [
       "[1] 10.04387"
      ]
     },
     "metadata": {},
     "output_type": "display_data"
    }
   ],
   "source": [
    "LS = barX + abs(qnorm((1-gamma)/2,0,1))*sqrt(S2/n)\n",
    "LS"
   ]
  },
  {
   "cell_type": "code",
   "execution_count": 87,
   "metadata": {},
   "outputs": [
    {
     "data": {
      "text/html": [
       "'El intervalo de confianza viene dado por [ 9.88822035731652 ; 10.043867948951 ]'"
      ],
      "text/latex": [
       "'El intervalo de confianza viene dado por {[} 9.88822035731652 ; 10.043867948951 {]}'"
      ],
      "text/markdown": [
       "'El intervalo de confianza viene dado por [ 9.88822035731652 ; 10.043867948951 ]'"
      ],
      "text/plain": [
       "[1] \"El intervalo de confianza viene dado por [ 9.88822035731652 ; 10.043867948951 ]\""
      ]
     },
     "metadata": {},
     "output_type": "display_data"
    }
   ],
   "source": [
    "paste('El intervalo de confianza viene dado por [',LI,';',LS,']')"
   ]
  },
  {
   "cell_type": "markdown",
   "metadata": {},
   "source": [
    "Existe una función en R realiza el intervalo de confianza para la media cuando la varianza es desconocida, esta se denomina como prueba t-Student"
   ]
  },
  {
   "cell_type": "code",
   "execution_count": 93,
   "metadata": {},
   "outputs": [],
   "source": [
    "#help(t.test)"
   ]
  },
  {
   "cell_type": "code",
   "execution_count": 98,
   "metadata": {},
   "outputs": [
    {
     "data": {
      "text/plain": [
       "\n",
       "\tOne Sample t-test\n",
       "\n",
       "data:  data$peso\n",
       "t = 250.99, df = 9999, p-value < 2.2e-16\n",
       "alternative hypothesis: true mean is not equal to 0\n",
       "95 percent confidence interval:\n",
       "  9.888211 10.043877\n",
       "sample estimates:\n",
       "mean of x \n",
       " 9.966044 \n"
      ]
     },
     "metadata": {},
     "output_type": "display_data"
    }
   ],
   "source": [
    "t.test(data$peso,conf.level = 0.95)"
   ]
  },
  {
   "cell_type": "markdown",
   "metadata": {},
   "source": [
    "-----------\n",
    "-----------"
   ]
  },
  {
   "cell_type": "markdown",
   "metadata": {},
   "source": [
    "### IC para $\\sigma^2$ con la base de datos.\n",
    "* Como el estimador de $\\sigma^2$ dado por $S^2$ distribuye $\\Xi^2$ podemos realizar los siguientes cálculos"
   ]
  },
  {
   "cell_type": "code",
   "execution_count": 138,
   "metadata": {},
   "outputs": [],
   "source": [
    "gamma=0.95"
   ]
  },
  {
   "cell_type": "code",
   "execution_count": 139,
   "metadata": {},
   "outputs": [],
   "source": [
    "data = c(50 , 45 , 27 , 66 , 43 , 96 , 45 , 90 , 69)"
   ]
  },
  {
   "cell_type": "code",
   "execution_count": 140,
   "metadata": {},
   "outputs": [],
   "source": [
    "S2=var(data)"
   ]
  },
  {
   "cell_type": "code",
   "execution_count": 141,
   "metadata": {},
   "outputs": [],
   "source": [
    "n=length(data)"
   ]
  },
  {
   "cell_type": "code",
   "execution_count": 142,
   "metadata": {},
   "outputs": [],
   "source": [
    "LI = sqrt((n-1)*S2 / qchisq( (1-gamma)/2 + gamma,n-1))\n",
    "LS =  sqrt((n-1)*S2 / qchisq( (1-gamma)/2,n-1))"
   ]
  },
  {
   "cell_type": "code",
   "execution_count": 143,
   "metadata": {},
   "outputs": [
    {
     "data": {
      "text/html": [
       "'[ 15.5355117912276 ; 44.0627303076835 ]'"
      ],
      "text/latex": [
       "'{[} 15.5355117912276 ; 44.0627303076835 {]}'"
      ],
      "text/markdown": [
       "'[ 15.5355117912276 ; 44.0627303076835 ]'"
      ],
      "text/plain": [
       "[1] \"[ 15.5355117912276 ; 44.0627303076835 ]\""
      ]
     },
     "metadata": {},
     "output_type": "display_data"
    }
   ],
   "source": [
    "paste('[',LI,';',LS,']')"
   ]
  },
  {
   "cell_type": "markdown",
   "metadata": {},
   "source": [
    "##### OBS: No existe una función en R que te entrega directamente este IC"
   ]
  },
  {
   "cell_type": "code",
   "execution_count": null,
   "metadata": {},
   "outputs": [],
   "source": []
  }
 ],
 "metadata": {
  "kernelspec": {
   "display_name": "R",
   "language": "R",
   "name": "ir"
  },
  "language_info": {
   "codemirror_mode": "r",
   "file_extension": ".r",
   "mimetype": "text/x-r-source",
   "name": "R",
   "pygments_lexer": "r",
   "version": "3.6.3"
  }
 },
 "nbformat": 4,
 "nbformat_minor": 4
}
