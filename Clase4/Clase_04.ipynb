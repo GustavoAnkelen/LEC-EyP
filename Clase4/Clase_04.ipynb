{
 "cells": [
  {
   "cell_type": "markdown",
   "metadata": {},
   "source": [
    "<img src=\"https://www.promocionachile.cl/img/logos/uai.JPG\" width=\"400\" alt=\"utfsm-logo\" align=\"left\"/>"
   ]
  },
  {
   "cell_type": "markdown",
   "metadata": {
    "tags": []
   },
   "source": [
    "# LEC de Probabilidad y Estadística, Viña del mar.\n",
    "## Clase 04\n",
    "### Profesores: Eduardo Rubio, Gustavo Arcaya\n",
    "\n",
    "# Objetivos:\n",
    "* Variables Aleatorias\n",
    "* Seudo Aleatoriedad\n",
    "* Simulación, predicción y caracterización de:\n",
    "    * Distribución Bernulli\n",
    "    * Distribución Binomial\n",
    "    * Distribución Poisson\n",
    "    * Distribución Normal\n",
    "\n",
    "## Variables Aleatorias\n",
    "\n",
    "**Definición:** una variable aleatoria (v.a.) es una función cuyo dominio es un conjunto de eventos posibles y su recorrido es un subconjunto de los números reales. Existen dos tipos de variables aleatorias.\n",
    "* Discreto: si su recorrido es númerable (ya sea finito o infinito)\n",
    "* Continuo: si su recorrido es un sub-intervalo de $\\mathbb{R}$\n",
    "\n"
   ]
  },
  {
   "cell_type": "markdown",
   "metadata": {},
   "source": [
    "**Definición:** Sea $X$ una v.a., se define su **`función de distribución acumulada`** como\n",
    "$$\n",
    "F_{X}(x)=\\mathbb{P}(X \\leq x)\n",
    "$$\n",
    "la cual cumple con las siguientes propiedades:\n",
    "* $\\displaystyle \\lim _{x \\rightarrow-\\infty} F_{X}(x)=0$\n",
    "* $\\displaystyle \\lim _{x \\rightarrow+\\infty} F_{X}(x)=1$\n",
    "* $F_{X}(x)$ es una función no decreciente y continua a la derecha\n",
    "\n",
    "**Definición:** Sea $X$ una v.a. discreta, se define su **`función de cuantía o masa de probabilidad`** como:\n",
    "$$\n",
    "f_{X}(x)=\\mathbb{P}(X = x)\n",
    "$$\n",
    "la cual cumple las siguientes propiedades:\n",
    "* $f_X(x) \\geq 0, \\forall x \\in \\mathbb{R}$\n",
    "* $\\displaystyle \\sum_{x \\in \\mathcal{R}_{X}} f_{X}(x)=1$\n",
    "* $f_X(x) = F_X(x_n) - F_X(x_{n-1})$\n",
    "\n",
    "En el caso de una v.a. $X$ continua, su recorrido es no-numerable, y luego las probabilidades puntuales\n",
    "son nulas, es decir, $\\mathbb{P}(X = x) = 0, \\forall x \\in \\mathbb{R}$. En este caso, la función de cuantía es reemplazada por la\n",
    "función de densidad de probabilidad definida a continuación.\n",
    "\n",
    "**Definición:** Sea $X$ una v.a. continua, entonces $f_X(x)$ es una función de densidad de probabilidad para la v.a. $X$, si satisface las siguientes propiedades:\n",
    "* $f_X(x) \\geq 0, \\forall x \\in \\mathbb{R}$\n",
    "* $\\int_{x\\in \\mathcal{R}_X} f_X(x) dx = 1$\n",
    "\n",
    "\n",
    "**Definición:** Sean  $X$ e $Y$ una variable aleatoria continua y discreta respectivamente, se define la `esperanza de X` o `valor esperado de X` (respectivamente, esperanza de $Y$ o valor esperado de $Y$) como\n",
    "* $E[X] :=  \\int_{-\\infty}^{\\infty} f(x) \\cdot x dx =  \\int_{x\\in \\mathcal{R}_X} f(x) \\cdot x dx $\n",
    "* $E[Y] := \\displaystyle\\sum_{x\\in \\mathcal{R}_X} x \\cdot \\mathbb{P}(X=X)$\n",
    "\n",
    "\n",
    "A partir de la definición anterior, podemos considerar lo siguiente\n",
    "\n",
    "**Definición:** Sea $X$ una variable aleatoria con promedio $\\mu$, se define su `varianza` como\n",
    "* $  Var(X) = E[(X - \\mu)^2] = E[X^2] - E[X]^2$\n",
    "o de la misma manera\n",
    "* $ Var(X) = \\int_{-\\infty}^{\\infty} (x- \\mu)^2 f(x) dx$"
   ]
  },
  {
   "cell_type": "markdown",
   "metadata": {},
   "source": [
    "## Modelos Discretos Especiales\n",
    "### Bernulli\n",
    "Un experimento Bernoulli es aquel experimento que sólo tiene dos posibles resultados. Por ejemplo, al realizar una tarea, podríamos obtener éxito o fracaso con una cierta probabilidad asociada, o al extraer artículos de una muestra, el resultado podría ser un artículo defectuoso o no defectuoso.\n",
    "\n",
    "Formalmente, sea $X$ una v.a. tal que $\\mathcal{P}(X = 1) = p$ y $\\mathcal{P}(X = 0) = 1 - p$, donde $0 \\leq p \\leq 1$. Entonces,\n",
    "$X$ `se llama una variable aleatoria Bernoulli con parámetro` $p$, y se denota por $X \\sim Ber(p)$\n",
    "\n",
    "De este modo, $p$ puede interpretarse como la probabilidad de obtener un éxito en el experimento. La probabilidad de fracaso,\n",
    "en cambio, es $(1 - p)$. Como ambas probabilidades suman 1, estos son los únicos posibles resultados del\n",
    "experimento.\n",
    "\n",
    "**Propiedades:** Sea $X \\sim Ber(p)$, entonces:\n",
    "* E($X$) = $p$\n",
    "* Var($X$) = $p(1 − p)$"
   ]
  },
  {
   "cell_type": "markdown",
   "metadata": {},
   "source": [
    "#### Números seudo aleatorios\n",
    "##### Fijar una semilla\n",
    "En teoría generar números aleatorios es imposible mediante una computadora, lo que si se puede hacer es generar números pseudo aleatorios. Por ejemplo, supongamos que tenemos datos númerados del 1 al 100 para los cuales queremos obtener una muestra aleatoria de tamaño 10. Para ello se utiliza la función `sample`."
   ]
  },
  {
   "cell_type": "code",
   "execution_count": 1,
   "metadata": {},
   "outputs": [],
   "source": [
    "data = seq(1,100,1)\n",
    "#data"
   ]
  },
  {
   "cell_type": "code",
   "execution_count": 2,
   "metadata": {},
   "outputs": [
    {
     "data": {
      "text/html": [
       "<ol class=list-inline>\n",
       "\t<li>14</li>\n",
       "\t<li>68</li>\n",
       "\t<li>39</li>\n",
       "\t<li>1</li>\n",
       "\t<li>34</li>\n",
       "\t<li>87</li>\n",
       "\t<li>43</li>\n",
       "\t<li>100</li>\n",
       "\t<li>82</li>\n",
       "\t<li>59</li>\n",
       "</ol>\n"
      ],
      "text/latex": [
       "\\begin{enumerate*}\n",
       "\\item 14\n",
       "\\item 68\n",
       "\\item 39\n",
       "\\item 1\n",
       "\\item 34\n",
       "\\item 87\n",
       "\\item 43\n",
       "\\item 100\n",
       "\\item 82\n",
       "\\item 59\n",
       "\\end{enumerate*}\n"
      ],
      "text/markdown": [
       "1. 14\n",
       "2. 68\n",
       "3. 39\n",
       "4. 1\n",
       "5. 34\n",
       "6. 87\n",
       "7. 43\n",
       "8. 100\n",
       "9. 82\n",
       "10. 59\n",
       "\n",
       "\n"
      ],
      "text/plain": [
       " [1]  14  68  39   1  34  87  43 100  82  59"
      ]
     },
     "metadata": {},
     "output_type": "display_data"
    }
   ],
   "source": [
    "set.seed(0) #fija un punto de partida para la selección de numeros desde data\n",
    "sample(data,10)"
   ]
  },
  {
   "cell_type": "markdown",
   "metadata": {},
   "source": [
    "Uno puede fijar los números aleatorios que se generan en la computadora con la función `set.seed(numero)`"
   ]
  },
  {
   "cell_type": "markdown",
   "metadata": {
    "jp-MarkdownHeadingCollapsed": true,
    "tags": []
   },
   "source": [
    "### Binomial\n",
    "Suponga que $Y_i \\sim Ber(p)$ independientes, para cada $i = 1, ... , n$. Definimos la variable aleatoria $$X = \n",
    "\\sum^n_{\n",
    "i=1}\n",
    "Y_i$$\n",
    "la cual podría simbolizar el número de éxitos al realizar $n$ experimentos Bernoulli de manera independiente.\n",
    "Diremos que $X$ tiene una distribución binomial con parámetros `n: número de experimentos Bernoulli` y `p: probabilidad de éxito`. Usaremos la notación $X \\sim Bin(n, p)$.\n",
    "La función de cuantía de este modelo| está dada por:\n",
    "$$\n",
    "\\mathbb{P}(X=x)=\\left(\\begin{array}{l}\n",
    "n \\\\\n",
    "x\n",
    "\\end{array}\\right) p^{x}(1-p)^{n-x}\n",
    "$$\n",
    "donde $x \\in \\{ 0, 1, ..., n\\}$, ya que el mínimo y máximo número de éxitos posibles son $0$ y $n$, respectivamente.\n",
    "La función de cuantía debe interpretarse como sigue:\n",
    "De un total de $n$ ensayos independientes del\n",
    "experimento Bernoulli, la probabilidad de obtener $x$ éxitos es $p^\n",
    "x$. Como los restantes $(n - x)$ ensayos\n",
    "deben ser fracasos, la probabilidad de que eso ocurra es $(1 - p)^{\n",
    "n-x}$\n",
    ". Además, la colección de $x$ éxitos y\n",
    "$(n - x)$ fracasos se puede obtener de\n",
    "$\\left(\\begin{array}{l}\n",
    "n \\\\\n",
    "x\n",
    "\\end{array}\\right) = \\dfrac{n!} \n",
    "{x! (n-x)!}\n",
    "$\n",
    "formas distintas.\n",
    "#### Propiedades\n",
    "Sea $X \\sim Bin(n, p)$, entonces:\n",
    "* E($X$) = $np$\n",
    "* V($X$) = $np(1 - p)$"
   ]
  },
  {
   "cell_type": "markdown",
   "metadata": {},
   "source": [
    "# Simulación\n",
    "Para generar datos aleatorios de una binomial de parametros $n$ y $p$ se utiliza la función `rbinom(tamaño_de_la_muestra,n,p)`"
   ]
  },
  {
   "cell_type": "code",
   "execution_count": 3,
   "metadata": {},
   "outputs": [],
   "source": [
    "set.seed(0)\n",
    "data = rbinom(n= 4000,size = 12,prob = 0.5)\n",
    "#data"
   ]
  },
  {
   "cell_type": "code",
   "execution_count": 4,
   "metadata": {},
   "outputs": [
    {
     "data": {
      "image/png": "[encoded data removed]",
      "text/plain": [
       "Plot with title \"Histogram of data\""
      ]
     },
     "metadata": {
      "image/png": {
       "height": 420,
       "width": 420
      }
     },
     "output_type": "display_data"
    }
   ],
   "source": [
    "hist(data)"
   ]
  },
  {
   "cell_type": "markdown",
   "metadata": {},
   "source": [
    "Supongamos que queremos calular $\\mathbb{P}(X = x_0)$ con $X\\sim Bin(n,p)$, entonces se tiene que:\n",
    "* $\\mathbb{P}(X = x_0) =$ `dbinom(x_0,n,p)`\n",
    "* $\\mathbb{P}(X <= x_0) =$ `pbinom(x_0,n,p)`\n",
    "* $\\mathbb{P}(X <= x_0) = c$, x_0=`qbinom(c,n,p)`"
   ]
  },
  {
   "cell_type": "code",
   "execution_count": 5,
   "metadata": {},
   "outputs": [
    {
     "data": {
      "text/html": [
       "0.009765625"
      ],
      "text/latex": [
       "0.009765625"
      ],
      "text/markdown": [
       "0.009765625"
      ],
      "text/plain": [
       "[1] 0.009765625"
      ]
     },
     "metadata": {},
     "output_type": "display_data"
    }
   ],
   "source": [
    "dbinom(1,10,0.5) #Probabilidad de tener solo 1 éxito en 10 intentos en un experimento Bernoulli"
   ]
  },
  {
   "cell_type": "code",
   "execution_count": 6,
   "metadata": {},
   "outputs": [
    {
     "data": {
      "text/html": [
       "0.588098526000976"
      ],
      "text/latex": [
       "0.588098526000976"
      ],
      "text/markdown": [
       "0.588098526000976"
      ],
      "text/plain": [
       "[1] 0.5880985"
      ]
     },
     "metadata": {},
     "output_type": "display_data"
    }
   ],
   "source": [
    "pbinom(10,20,0.5) #P(X<=10), X~Bin(20,0.5). Probabilidad de tener a lo más 10 éxitos en 20 intentos en un experimento Bernoulli"
   ]
  },
  {
   "cell_type": "code",
   "execution_count": 7,
   "metadata": {},
   "outputs": [
    {
     "data": {
      "text/html": [
       "10"
      ],
      "text/latex": [
       "10"
      ],
      "text/markdown": [
       "10"
      ],
      "text/plain": [
       "[1] 10"
      ]
     },
     "metadata": {},
     "output_type": "display_data"
    }
   ],
   "source": [
    "qbinom(0.588,20,0.5) #P(X<=x0) = 0.588... X~Bin(20,0.5). Cuantos éxitos se pueden tener con cierta probabilidad acumulada en un experimento Bernoulli"
   ]
  },
  {
   "cell_type": "markdown",
   "metadata": {},
   "source": [
    "### Poisson\n",
    "Una v.a. discreta $X$, que representa el número de eventos que ocurren por unidad de tiempo, área\n",
    "o volumen, sigue una distribución de Poisson con parámetro $\\lambda > 0$, si su función de cuantía se puede\n",
    "escribir de la siguiente manera:\n",
    "$$\n",
    "f(x) = \\mathbb{P}(X=x)=\\frac{e^{-\\lambda} \\lambda^{x}}{x !}\n",
    "$$\n",
    "donde $x\\in  \\{0, 1, 2, . . .\\}$. Usaremos la notación $X \\sim Poi(\\lambda)$.\n",
    "\n"
   ]
  },
  {
   "cell_type": "markdown",
   "metadata": {},
   "source": [
    "#### Simulación\n",
    "Si queremos generar una muestra aleatoria desde una Poisson de parametro $\\lambda$ debemos ejecutar el comando `rpois(tamaño_de_la_muestra,lambda)`"
   ]
  },
  {
   "cell_type": "code",
   "execution_count": 8,
   "metadata": {},
   "outputs": [],
   "source": [
    "set.seed(0)\n",
    "x = rpois(100000,5)"
   ]
  },
  {
   "cell_type": "code",
   "execution_count": 9,
   "metadata": {},
   "outputs": [
    {
     "data": {
      "image/png": "[encoded data removed]",
      "text/plain": [
       "Plot with title \"Histogram of x\""
      ]
     },
     "metadata": {
      "image/png": {
       "height": 420,
       "width": 420
      }
     },
     "output_type": "display_data"
    }
   ],
   "source": [
    "hist(x)"
   ]
  },
  {
   "cell_type": "markdown",
   "metadata": {},
   "source": [
    "Una opción para generar gráficos más bonitos es la siguiente. Pueden además investigar alternativas que ofrece la libreria `ggplot2`"
   ]
  },
  {
   "cell_type": "code",
   "execution_count": 10,
   "metadata": {},
   "outputs": [
    {
     "data": {
      "image/png": "[encoded data removed]",
      "text/plain": [
       "plot without title"
      ]
     },
     "metadata": {
      "image/png": {
       "height": 420,
       "width": 420
      }
     },
     "output_type": "display_data"
    }
   ],
   "source": [
    "#install.packages('ggplot2')\n",
    "library(ggplot2)\n",
    "pl = ggplot(data.frame(x), aes(x))\n",
    "pl + geom_histogram(binwidth=1, aes(fill=..count..), col='black')"
   ]
  },
  {
   "cell_type": "markdown",
   "metadata": {},
   "source": [
    "Supongamos que queremos calular $\\mathbb{P}(X = x_0)$ con $X\\sim Poi(\\lambda)$, entonces se tiene que:\n",
    "* $\\mathbb{P}(X = x_0) =$ `dpois(x_0,lambda)`\n",
    "* $\\mathbb{P}(X <= x_0) =$ `ppois(x_0,lambda)`\n",
    "* $\\mathbb{P}(X <= x_0) = c,$ $x_0$ = `qpois(c,lambda)`"
   ]
  },
  {
   "cell_type": "markdown",
   "metadata": {},
   "source": [
    "X~Poi(2) , P(X <= 2)"
   ]
  },
  {
   "cell_type": "code",
   "execution_count": 11,
   "metadata": {},
   "outputs": [
    {
     "data": {
      "text/html": [
       "0.676676416183063"
      ],
      "text/latex": [
       "0.676676416183063"
      ],
      "text/markdown": [
       "0.676676416183063"
      ],
      "text/plain": [
       "[1] 0.6766764"
      ]
     },
     "metadata": {},
     "output_type": "display_data"
    }
   ],
   "source": [
    "ppois(2,2)"
   ]
  },
  {
   "cell_type": "code",
   "execution_count": 12,
   "metadata": {},
   "outputs": [
    {
     "data": {
      "text/html": [
       "0.676676416183064"
      ],
      "text/latex": [
       "0.676676416183064"
      ],
      "text/markdown": [
       "0.676676416183064"
      ],
      "text/plain": [
       "[1] 0.6766764"
      ]
     },
     "metadata": {},
     "output_type": "display_data"
    }
   ],
   "source": [
    "dpois(0,2) + dpois(1,2) + dpois(2,2)"
   ]
  },
  {
   "cell_type": "markdown",
   "metadata": {},
   "source": [
    "### Distribución Normal"
   ]
  },
  {
   "cell_type": "markdown",
   "metadata": {},
   "source": [
    "Sea $X$ una v.a. continua con función de densidad dada por:\n",
    "$$\n",
    "f_{X}(x)=\\frac{1}{\\sqrt{2 \\pi \\sigma^{2}}} e^{-\\frac{(x-\\mu)^{2}}{2 \\sigma^{2}}}, \\quad x \\in \\mathbb{R}\n",
    "$$\n",
    "entonces diremos que $X$ sigue una distribución Normal con parámetros $\\mu \\in \\mathbb{R}$ y $\\sigma > 0$. Usaremos la\n",
    "notación $X \\sim \\mathcal{N}(\\mu, \\sigma^2)$. Para esta distribución tenemos que E($X$) = $\\mu$ y V($X$)=$\\sigma^2$ "
   ]
  },
  {
   "cell_type": "markdown",
   "metadata": {},
   "source": [
    "#### Simulación\n",
    "Si queremos generar una muestra aleatoria desde una normal de parametros $\\mu$ y $\\sigma^2$ debemos ejecutar el comando `rnorm(tamaño_de_la_muestra,mu,sigma)` **Ojo que se utiliza la desviación estandar**"
   ]
  },
  {
   "cell_type": "code",
   "execution_count": 24,
   "metadata": {},
   "outputs": [],
   "source": [
    "# genera 10000 datos desde una Normal de media 3 y varianza 4. (X~N(3,4))\n",
    "x=rnorm(10000,3,sqrt(4)) #notar que la función ocupa la desviación estándar"
   ]
  },
  {
   "cell_type": "markdown",
   "metadata": {},
   "source": [
    "Supongamos que queremos calular $\\mathbb{P}(X = x_0)$ con $X\\sim \\mathcal{N}(\\mu,\\sigma^2)$, entonces se tiene que:\n",
    "* $\\mathbb{P}(X = x_0) = 0$ siempre por ser una V.A. continua **No usar dnorm puesto que esto entrega el valor de la función de densidad en x_0**\n",
    "\n",
    "* Si $\\mathbb{P}(X < x_0) = c$ entonces $x_0=$`qnorm(c,mu,sigma)`\n",
    "\n",
    "* $\\mathbb{P}(X < x_0) =$ `pnorm(x_0,mu,sigma)`"
   ]
  },
  {
   "cell_type": "markdown",
   "metadata": {},
   "source": [
    "$$\n",
    "X\\sim N(0,1) \\rightarrow f(x) = \\dfrac{1}{\\sqrt{2 \\pi}} e^{\\frac{-x^2}{2}}\n",
    "$$"
   ]
  },
  {
   "cell_type": "code",
   "execution_count": 14,
   "metadata": {},
   "outputs": [
    {
     "data": {
      "text/html": [
       "0.398942280401433"
      ],
      "text/latex": [
       "0.398942280401433"
      ],
      "text/markdown": [
       "0.398942280401433"
      ],
      "text/plain": [
       "[1] 0.3989423"
      ]
     },
     "metadata": {},
     "output_type": "display_data"
    }
   ],
   "source": [
    "#f(0) = 1/sqrt(2*pi)\n",
    "1/sqrt(2*pi)"
   ]
  },
  {
   "cell_type": "code",
   "execution_count": 15,
   "metadata": {},
   "outputs": [
    {
     "data": {
      "text/html": [
       "0.398942280401433"
      ],
      "text/latex": [
       "0.398942280401433"
      ],
      "text/markdown": [
       "0.398942280401433"
      ],
      "text/plain": [
       "[1] 0.3989423"
      ]
     },
     "metadata": {},
     "output_type": "display_data"
    }
   ],
   "source": [
    "dnorm(0,0,1)"
   ]
  },
  {
   "cell_type": "code",
   "execution_count": 25,
   "metadata": {},
   "outputs": [
    {
     "data": {
      "image/png": "[encoded data removed]",
      "text/plain": [
       "plot without title"
      ]
     },
     "metadata": {
      "image/png": {
       "height": 420,
       "width": 420
      }
     },
     "output_type": "display_data"
    }
   ],
   "source": [
    "plot(x)"
   ]
  },
  {
   "cell_type": "code",
   "execution_count": 26,
   "metadata": {},
   "outputs": [
    {
     "data": {
      "image/png": "[encoded data removed]",
      "text/plain": [
       "Plot with title \"Histogram of x\""
      ]
     },
     "metadata": {
      "image/png": {
       "height": 420,
       "width": 420
      }
     },
     "output_type": "display_data"
    }
   ],
   "source": [
    "hist(x)"
   ]
  },
  {
   "cell_type": "markdown",
   "metadata": {},
   "source": [
    "Gráficamente, la curva que representa la distribución normal de parámetros $\\mu = 0$ y $\\sigma^2 = 1$ es de la siguiente forma"
   ]
  },
  {
   "cell_type": "code",
   "execution_count": 18,
   "metadata": {},
   "outputs": [
    {
     "data": {
      "image/png": "[encoded data removed]",
      "text/plain": [
       "plot without title"
      ]
     },
     "metadata": {
      "image/png": {
       "height": 420,
       "width": 420
      }
     },
     "output_type": "display_data"
    }
   ],
   "source": [
    "x=seq(-4,4,0.001)\n",
    "y=1/sqrt(2*pi)*exp(-x^2/2)\n",
    "plot(x,y)"
   ]
  },
  {
   "cell_type": "markdown",
   "metadata": {},
   "source": [
    "### Ejercicios\n",
    "\n",
    "1. ¿Cúal es la probabilidad de que X sea menor a 0.2?"
   ]
  },
  {
   "cell_type": "code",
   "execution_count": 19,
   "metadata": {},
   "outputs": [
    {
     "data": {
      "text/html": [
       "0.0287165598160018"
      ],
      "text/latex": [
       "0.0287165598160018"
      ],
      "text/markdown": [
       "0.0287165598160018"
      ],
      "text/plain": [
       "[1] 0.02871656"
      ]
     },
     "metadata": {},
     "output_type": "display_data"
    }
   ],
   "source": [
    "pnorm(0.2,4,sqrt(4))"
   ]
  },
  {
   "cell_type": "markdown",
   "metadata": {},
   "source": [
    "2. Sea $X\\sim N(2,100)$, obtenga $P(1<X<3)$"
   ]
  },
  {
   "cell_type": "code",
   "execution_count": 20,
   "metadata": {},
   "outputs": [
    {
     "data": {
      "text/html": [
       "0.079655674554058"
      ],
      "text/latex": [
       "0.079655674554058"
      ],
      "text/markdown": [
       "0.079655674554058"
      ],
      "text/plain": [
       "[1] 0.07965567"
      ]
     },
     "metadata": {},
     "output_type": "display_data"
    }
   ],
   "source": [
    "#P(1<X<3) = P(X<3) - P(X<1)\n",
    "a = pnorm(3,2,sqrt(100))\n",
    "b = pnorm(1,2,sqrt(100))\n",
    "a-b"
   ]
  },
  {
   "cell_type": "markdown",
   "metadata": {},
   "source": [
    "3.  Sea $X\\sim N(1,10)$ Obtenga $x_0$ tal que $P(X<x_0)=0.4$"
   ]
  },
  {
   "cell_type": "code",
   "execution_count": 21,
   "metadata": {},
   "outputs": [
    {
     "data": {
      "text/html": [
       "0.198846115485286"
      ],
      "text/latex": [
       "0.198846115485286"
      ],
      "text/markdown": [
       "0.198846115485286"
      ],
      "text/plain": [
       "[1] 0.1988461"
      ]
     },
     "metadata": {},
     "output_type": "display_data"
    }
   ],
   "source": [
    "qnorm(0.4,1,sqrt(10))"
   ]
  },
  {
   "cell_type": "markdown",
   "metadata": {},
   "source": [
    "4. Sea $X\\sim N(-1,2)$ Calcular $P(X>0)$"
   ]
  },
  {
   "cell_type": "code",
   "execution_count": 22,
   "metadata": {},
   "outputs": [
    {
     "data": {
      "text/html": [
       "0.239750061093477"
      ],
      "text/latex": [
       "0.239750061093477"
      ],
      "text/markdown": [
       "0.239750061093477"
      ],
      "text/plain": [
       "[1] 0.2397501"
      ]
     },
     "metadata": {},
     "output_type": "display_data"
    }
   ],
   "source": [
    "# P(X>0) = 1 - P(X<= 0) = 1-P(X<0)\n",
    "1 - pnorm(0,-1,sqrt(2))"
   ]
  },
  {
   "cell_type": "markdown",
   "metadata": {},
   "source": [
    "5.  Sea $X\\sim N(0,4)$, obtenga $x_0$ tal que $P(X>x_0) = 0.2$              "
   ]
  },
  {
   "cell_type": "code",
   "execution_count": 23,
   "metadata": {},
   "outputs": [
    {
     "data": {
      "text/html": [
       "1.68324246714583"
      ],
      "text/latex": [
       "1.68324246714583"
      ],
      "text/markdown": [
       "1.68324246714583"
      ],
      "text/plain": [
       "[1] 1.683242"
      ]
     },
     "metadata": {},
     "output_type": "display_data"
    }
   ],
   "source": [
    "qnorm(1-0.2,0,sqrt(4))"
   ]
  }
 ],
 "metadata": {
  "kernelspec": {
   "display_name": "R",
   "language": "R",
   "name": "ir"
  },
  "language_info": {
   "codemirror_mode": "r",
   "file_extension": ".r",
   "mimetype": "text/x-r-source",
   "name": "R",
   "pygments_lexer": "r",
   "version": "3.6.3"
  }
 },
 "nbformat": 4,
 "nbformat_minor": 4
}
