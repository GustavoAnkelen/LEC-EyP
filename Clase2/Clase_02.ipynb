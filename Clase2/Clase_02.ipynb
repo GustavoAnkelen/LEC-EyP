{
 "cells": [
  {
   "cell_type": "markdown",
   "metadata": {},
   "source": [
    "<img src=\"https://www.promocionachile.cl/img/logos/uai.JPG\" width=\"400\" alt=\"utfsm-logo\" align=\"left\"/>"
   ]
  },
  {
   "cell_type": "markdown",
   "metadata": {},
   "source": [
    "# LEC de Probabilidad y Estadística, Viña del mar.\n",
    "## Clase 02\n",
    "### Profesores: Eduardo Rubio Marín - Gustavo Arcaya Espinosa"
   ]
  },
  {
   "cell_type": "markdown",
   "metadata": {},
   "source": [
    "# Objetivos:\n",
    "* Tipos de variables\n",
    "* Construir e interpretar tablas de frecuencia y contingencia.\n",
    "* Construir e interpretar gráficos descriptivos.\n",
    "* Contruir e interpretar medidas de tendencia central, dispersión."
   ]
  },
  {
   "cell_type": "markdown",
   "metadata": {},
   "source": [
    "# Tipos de variables\n",
    "* Variable cualitativa\n",
    "    - Nominal\n",
    "    - Ordinal\n",
    "    - Binaria\n",
    "* Variable cuantitativa\n",
    "    - Discreta\n",
    "    - Continua"
   ]
  },
  {
   "cell_type": "markdown",
   "metadata": {},
   "source": [
    "**Definición**: Diremos que una variable es cualitativa si la variable mide una cualidad, como por ejemplo el color del pelo, si tiene pelo o no, si la prueba estuvo fácil, normal, o difícil.\n",
    "\n",
    "Una variable cualitativa puede ser de los siguientes tres tipos:\n",
    "* Binaria: Si la variable solo tiene dos posibles casos (Verdadero o Falso, si o no, etc...)\n",
    "* Ordinal: Si la variable tiene un orden como por ejemplo primer lugar, segundo lugar, tercer lugar, o bien la cantidad de algo, que puede ser poco, normal o mucho. \n",
    "* Nominal: Si no es ni ordinal ni binaria, como por ejemplo las marcas de los autos."
   ]
  },
  {
   "cell_type": "markdown",
   "metadata": {},
   "source": [
    "**Definición**: Diremos que una variable es cuantitativa, si la variable mide una cantidad. Como por ejemplo cantidad de glucosa en la sangre, cantidad de perros en una casa, entre otras.\n",
    "\n",
    "Una variable cualitativa puede ser de los siguientes dos tipos:\n",
    "* Discreta: Si la característica se puede contar. Como por ejemplo cantidad de personas en una sala de clases. En general la variable se mide mediante números a lo más enteros.\n",
    "* Continua: Si la característica se debe medir mediante números reales (con decimales). Como por ejemplo el tamaño y peso de una persona, el tiempo necesario para que ocurra algo."
   ]
  },
  {
   "cell_type": "markdown",
   "metadata": {},
   "source": [
    "## Ejemplo:\n",
    "Mire la base de datos *INSERTAR_DB.csv*, analizaremos que tipo de variable es cada característica del pokemon:"
   ]
  },
  {
   "cell_type": "code",
   "execution_count": 1,
   "metadata": {},
   "outputs": [
    {
     "data": {
      "text/html": [
       "<table>\n",
       "<thead><tr><th scope=col>Name</th><th scope=col>Platform</th><th scope=col>Year_of_Release</th><th scope=col>Genre</th><th scope=col>Publisher</th><th scope=col>NA_Sales</th><th scope=col>EU_Sales</th><th scope=col>JP_Sales</th><th scope=col>Other_Sales</th><th scope=col>Global_Sales</th><th scope=col>Critic_Score</th><th scope=col>Critic_Count</th><th scope=col>User_Score</th><th scope=col>User_Count</th><th scope=col>Developer</th><th scope=col>Rating</th></tr></thead>\n",
       "<tbody>\n",
       "\t<tr><td>Wii Sports              </td><td>Wii                     </td><td>2006                    </td><td>Sports                  </td><td>Nintendo                </td><td>41.36                   </td><td>28.96                   </td><td> 3.77                   </td><td>8.45                    </td><td>82.53                   </td><td>76                      </td><td>51                      </td><td>8                       </td><td>322                     </td><td>Nintendo                </td><td>E                       </td></tr>\n",
       "\t<tr><td>Super Mario Bros.       </td><td>NES                     </td><td>1985                    </td><td>Platform                </td><td>Nintendo                </td><td>29.08                   </td><td> 3.58                   </td><td> 6.81                   </td><td>0.77                    </td><td>40.24                   </td><td>NA                      </td><td>NA                      </td><td>                        </td><td> NA                     </td><td>                        </td><td>                        </td></tr>\n",
       "\t<tr><td>Mario Kart Wii          </td><td>Wii                     </td><td>2008                    </td><td>Racing                  </td><td>Nintendo                </td><td>15.68                   </td><td>12.76                   </td><td> 3.79                   </td><td>3.29                    </td><td>35.52                   </td><td>82                      </td><td>73                      </td><td>8.3                     </td><td>709                     </td><td>Nintendo                </td><td>E                       </td></tr>\n",
       "\t<tr><td>Wii Sports Resort       </td><td>Wii                     </td><td>2009                    </td><td>Sports                  </td><td>Nintendo                </td><td>15.61                   </td><td>10.93                   </td><td> 3.28                   </td><td>2.95                    </td><td>32.77                   </td><td>80                      </td><td>73                      </td><td>8                       </td><td>192                     </td><td>Nintendo                </td><td>E                       </td></tr>\n",
       "\t<tr><td>Pokemon Red/Pokemon Blue</td><td>GB                      </td><td>1996                    </td><td>Role-Playing            </td><td>Nintendo                </td><td>11.27                   </td><td> 8.89                   </td><td>10.22                   </td><td>1.00                    </td><td>31.37                   </td><td>NA                      </td><td>NA                      </td><td>                        </td><td> NA                     </td><td>                        </td><td>                        </td></tr>\n",
       "\t<tr><td>Tetris                  </td><td>GB                      </td><td>1989                    </td><td>Puzzle                  </td><td>Nintendo                </td><td>23.20                   </td><td> 2.26                   </td><td> 4.22                   </td><td>0.58                    </td><td>30.26                   </td><td>NA                      </td><td>NA                      </td><td>                        </td><td> NA                     </td><td>                        </td><td>                        </td></tr>\n",
       "</tbody>\n",
       "</table>\n"
      ],
      "text/latex": [
       "\\begin{tabular}{r|llllllllllllllll}\n",
       " Name & Platform & Year\\_of\\_Release & Genre & Publisher & NA\\_Sales & EU\\_Sales & JP\\_Sales & Other\\_Sales & Global\\_Sales & Critic\\_Score & Critic\\_Count & User\\_Score & User\\_Count & Developer & Rating\\\\\n",
       "\\hline\n",
       "\t Wii Sports               & Wii                      & 2006                     & Sports                   & Nintendo                 & 41.36                    & 28.96                    &  3.77                    & 8.45                     & 82.53                    & 76                       & 51                       & 8                        & 322                      & Nintendo                 & E                       \\\\\n",
       "\t Super Mario Bros.        & NES                      & 1985                     & Platform                 & Nintendo                 & 29.08                    &  3.58                    &  6.81                    & 0.77                     & 40.24                    & NA                       & NA                       &                          &  NA                      &                          &                         \\\\\n",
       "\t Mario Kart Wii           & Wii                      & 2008                     & Racing                   & Nintendo                 & 15.68                    & 12.76                    &  3.79                    & 3.29                     & 35.52                    & 82                       & 73                       & 8.3                      & 709                      & Nintendo                 & E                       \\\\\n",
       "\t Wii Sports Resort        & Wii                      & 2009                     & Sports                   & Nintendo                 & 15.61                    & 10.93                    &  3.28                    & 2.95                     & 32.77                    & 80                       & 73                       & 8                        & 192                      & Nintendo                 & E                       \\\\\n",
       "\t Pokemon Red/Pokemon Blue & GB                       & 1996                     & Role-Playing             & Nintendo                 & 11.27                    &  8.89                    & 10.22                    & 1.00                     & 31.37                    & NA                       & NA                       &                          &  NA                      &                          &                         \\\\\n",
       "\t Tetris                   & GB                       & 1989                     & Puzzle                   & Nintendo                 & 23.20                    &  2.26                    &  4.22                    & 0.58                     & 30.26                    & NA                       & NA                       &                          &  NA                      &                          &                         \\\\\n",
       "\\end{tabular}\n"
      ],
      "text/markdown": [
       "\n",
       "| Name | Platform | Year_of_Release | Genre | Publisher | NA_Sales | EU_Sales | JP_Sales | Other_Sales | Global_Sales | Critic_Score | Critic_Count | User_Score | User_Count | Developer | Rating |\n",
       "|---|---|---|---|---|---|---|---|---|---|---|---|---|---|---|---|\n",
       "| Wii Sports               | Wii                      | 2006                     | Sports                   | Nintendo                 | 41.36                    | 28.96                    |  3.77                    | 8.45                     | 82.53                    | 76                       | 51                       | 8                        | 322                      | Nintendo                 | E                        |\n",
       "| Super Mario Bros.        | NES                      | 1985                     | Platform                 | Nintendo                 | 29.08                    |  3.58                    |  6.81                    | 0.77                     | 40.24                    | NA                       | NA                       |                          |  NA                      |                          |                          |\n",
       "| Mario Kart Wii           | Wii                      | 2008                     | Racing                   | Nintendo                 | 15.68                    | 12.76                    |  3.79                    | 3.29                     | 35.52                    | 82                       | 73                       | 8.3                      | 709                      | Nintendo                 | E                        |\n",
       "| Wii Sports Resort        | Wii                      | 2009                     | Sports                   | Nintendo                 | 15.61                    | 10.93                    |  3.28                    | 2.95                     | 32.77                    | 80                       | 73                       | 8                        | 192                      | Nintendo                 | E                        |\n",
       "| Pokemon Red/Pokemon Blue | GB                       | 1996                     | Role-Playing             | Nintendo                 | 11.27                    |  8.89                    | 10.22                    | 1.00                     | 31.37                    | NA                       | NA                       |                          |  NA                      |                          |                          |\n",
       "| Tetris                   | GB                       | 1989                     | Puzzle                   | Nintendo                 | 23.20                    |  2.26                    |  4.22                    | 0.58                     | 30.26                    | NA                       | NA                       |                          |  NA                      |                          |                          |\n",
       "\n"
      ],
      "text/plain": [
       "  Name                     Platform Year_of_Release Genre        Publisher\n",
       "1 Wii Sports               Wii      2006            Sports       Nintendo \n",
       "2 Super Mario Bros.        NES      1985            Platform     Nintendo \n",
       "3 Mario Kart Wii           Wii      2008            Racing       Nintendo \n",
       "4 Wii Sports Resort        Wii      2009            Sports       Nintendo \n",
       "5 Pokemon Red/Pokemon Blue GB       1996            Role-Playing Nintendo \n",
       "6 Tetris                   GB       1989            Puzzle       Nintendo \n",
       "  NA_Sales EU_Sales JP_Sales Other_Sales Global_Sales Critic_Score Critic_Count\n",
       "1 41.36    28.96     3.77    8.45        82.53        76           51          \n",
       "2 29.08     3.58     6.81    0.77        40.24        NA           NA          \n",
       "3 15.68    12.76     3.79    3.29        35.52        82           73          \n",
       "4 15.61    10.93     3.28    2.95        32.77        80           73          \n",
       "5 11.27     8.89    10.22    1.00        31.37        NA           NA          \n",
       "6 23.20     2.26     4.22    0.58        30.26        NA           NA          \n",
       "  User_Score User_Count Developer Rating\n",
       "1 8          322        Nintendo  E     \n",
       "2             NA                        \n",
       "3 8.3        709        Nintendo  E     \n",
       "4 8          192        Nintendo  E     \n",
       "5             NA                        \n",
       "6             NA                        "
      ]
     },
     "metadata": {},
     "output_type": "display_data"
    }
   ],
   "source": [
    "data = read.csv('videogames-sales.csv')\n",
    "head(data)"
   ]
  },
  {
   "cell_type": "markdown",
   "metadata": {},
   "source": [
    "*  **Name**, **Platform**, **Genre**, **Publisher** y **Developer** son variables nominales\n",
    "*  **Rating** y **Year_of_Release** son variables ordinales\n",
    "*  ***_Sales*** , **User_Count**, **Critic_Score**, **Critic_Count**, **User_Score** son variables discretas"
   ]
  },
  {
   "cell_type": "markdown",
   "metadata": {},
   "source": [
    "# Tablas de frecuencia\n",
    "En primer lugar lo que haremos sera leer la base de datos `pokemon.csv`"
   ]
  },
  {
   "cell_type": "code",
   "execution_count": 2,
   "metadata": {},
   "outputs": [
    {
     "data": {
      "text/html": [
       "<table>\n",
       "<thead><tr><th scope=col>Name</th><th scope=col>Platform</th><th scope=col>Year_of_Release</th><th scope=col>Genre</th><th scope=col>Publisher</th><th scope=col>NA_Sales</th><th scope=col>EU_Sales</th><th scope=col>JP_Sales</th><th scope=col>Other_Sales</th><th scope=col>Global_Sales</th><th scope=col>Critic_Score</th><th scope=col>Critic_Count</th><th scope=col>User_Score</th><th scope=col>User_Count</th><th scope=col>Developer</th><th scope=col>Rating</th></tr></thead>\n",
       "<tbody>\n",
       "\t<tr><td>Wii Sports              </td><td>Wii                     </td><td>2006                    </td><td>Sports                  </td><td>Nintendo                </td><td>41.36                   </td><td>28.96                   </td><td> 3.77                   </td><td>8.45                    </td><td>82.53                   </td><td>76                      </td><td>51                      </td><td>8                       </td><td>322                     </td><td>Nintendo                </td><td>E                       </td></tr>\n",
       "\t<tr><td>Super Mario Bros.       </td><td>NES                     </td><td>1985                    </td><td>Platform                </td><td>Nintendo                </td><td>29.08                   </td><td> 3.58                   </td><td> 6.81                   </td><td>0.77                    </td><td>40.24                   </td><td>NA                      </td><td>NA                      </td><td>                        </td><td> NA                     </td><td>                        </td><td>                        </td></tr>\n",
       "\t<tr><td>Mario Kart Wii          </td><td>Wii                     </td><td>2008                    </td><td>Racing                  </td><td>Nintendo                </td><td>15.68                   </td><td>12.76                   </td><td> 3.79                   </td><td>3.29                    </td><td>35.52                   </td><td>82                      </td><td>73                      </td><td>8.3                     </td><td>709                     </td><td>Nintendo                </td><td>E                       </td></tr>\n",
       "\t<tr><td>Wii Sports Resort       </td><td>Wii                     </td><td>2009                    </td><td>Sports                  </td><td>Nintendo                </td><td>15.61                   </td><td>10.93                   </td><td> 3.28                   </td><td>2.95                    </td><td>32.77                   </td><td>80                      </td><td>73                      </td><td>8                       </td><td>192                     </td><td>Nintendo                </td><td>E                       </td></tr>\n",
       "\t<tr><td>Pokemon Red/Pokemon Blue</td><td>GB                      </td><td>1996                    </td><td>Role-Playing            </td><td>Nintendo                </td><td>11.27                   </td><td> 8.89                   </td><td>10.22                   </td><td>1.00                    </td><td>31.37                   </td><td>NA                      </td><td>NA                      </td><td>                        </td><td> NA                     </td><td>                        </td><td>                        </td></tr>\n",
       "\t<tr><td>Tetris                  </td><td>GB                      </td><td>1989                    </td><td>Puzzle                  </td><td>Nintendo                </td><td>23.20                   </td><td> 2.26                   </td><td> 4.22                   </td><td>0.58                    </td><td>30.26                   </td><td>NA                      </td><td>NA                      </td><td>                        </td><td> NA                     </td><td>                        </td><td>                        </td></tr>\n",
       "</tbody>\n",
       "</table>\n"
      ],
      "text/latex": [
       "\\begin{tabular}{r|llllllllllllllll}\n",
       " Name & Platform & Year\\_of\\_Release & Genre & Publisher & NA\\_Sales & EU\\_Sales & JP\\_Sales & Other\\_Sales & Global\\_Sales & Critic\\_Score & Critic\\_Count & User\\_Score & User\\_Count & Developer & Rating\\\\\n",
       "\\hline\n",
       "\t Wii Sports               & Wii                      & 2006                     & Sports                   & Nintendo                 & 41.36                    & 28.96                    &  3.77                    & 8.45                     & 82.53                    & 76                       & 51                       & 8                        & 322                      & Nintendo                 & E                       \\\\\n",
       "\t Super Mario Bros.        & NES                      & 1985                     & Platform                 & Nintendo                 & 29.08                    &  3.58                    &  6.81                    & 0.77                     & 40.24                    & NA                       & NA                       &                          &  NA                      &                          &                         \\\\\n",
       "\t Mario Kart Wii           & Wii                      & 2008                     & Racing                   & Nintendo                 & 15.68                    & 12.76                    &  3.79                    & 3.29                     & 35.52                    & 82                       & 73                       & 8.3                      & 709                      & Nintendo                 & E                       \\\\\n",
       "\t Wii Sports Resort        & Wii                      & 2009                     & Sports                   & Nintendo                 & 15.61                    & 10.93                    &  3.28                    & 2.95                     & 32.77                    & 80                       & 73                       & 8                        & 192                      & Nintendo                 & E                       \\\\\n",
       "\t Pokemon Red/Pokemon Blue & GB                       & 1996                     & Role-Playing             & Nintendo                 & 11.27                    &  8.89                    & 10.22                    & 1.00                     & 31.37                    & NA                       & NA                       &                          &  NA                      &                          &                         \\\\\n",
       "\t Tetris                   & GB                       & 1989                     & Puzzle                   & Nintendo                 & 23.20                    &  2.26                    &  4.22                    & 0.58                     & 30.26                    & NA                       & NA                       &                          &  NA                      &                          &                         \\\\\n",
       "\\end{tabular}\n"
      ],
      "text/markdown": [
       "\n",
       "| Name | Platform | Year_of_Release | Genre | Publisher | NA_Sales | EU_Sales | JP_Sales | Other_Sales | Global_Sales | Critic_Score | Critic_Count | User_Score | User_Count | Developer | Rating |\n",
       "|---|---|---|---|---|---|---|---|---|---|---|---|---|---|---|---|\n",
       "| Wii Sports               | Wii                      | 2006                     | Sports                   | Nintendo                 | 41.36                    | 28.96                    |  3.77                    | 8.45                     | 82.53                    | 76                       | 51                       | 8                        | 322                      | Nintendo                 | E                        |\n",
       "| Super Mario Bros.        | NES                      | 1985                     | Platform                 | Nintendo                 | 29.08                    |  3.58                    |  6.81                    | 0.77                     | 40.24                    | NA                       | NA                       |                          |  NA                      |                          |                          |\n",
       "| Mario Kart Wii           | Wii                      | 2008                     | Racing                   | Nintendo                 | 15.68                    | 12.76                    |  3.79                    | 3.29                     | 35.52                    | 82                       | 73                       | 8.3                      | 709                      | Nintendo                 | E                        |\n",
       "| Wii Sports Resort        | Wii                      | 2009                     | Sports                   | Nintendo                 | 15.61                    | 10.93                    |  3.28                    | 2.95                     | 32.77                    | 80                       | 73                       | 8                        | 192                      | Nintendo                 | E                        |\n",
       "| Pokemon Red/Pokemon Blue | GB                       | 1996                     | Role-Playing             | Nintendo                 | 11.27                    |  8.89                    | 10.22                    | 1.00                     | 31.37                    | NA                       | NA                       |                          |  NA                      |                          |                          |\n",
       "| Tetris                   | GB                       | 1989                     | Puzzle                   | Nintendo                 | 23.20                    |  2.26                    |  4.22                    | 0.58                     | 30.26                    | NA                       | NA                       |                          |  NA                      |                          |                          |\n",
       "\n"
      ],
      "text/plain": [
       "  Name                     Platform Year_of_Release Genre        Publisher\n",
       "1 Wii Sports               Wii      2006            Sports       Nintendo \n",
       "2 Super Mario Bros.        NES      1985            Platform     Nintendo \n",
       "3 Mario Kart Wii           Wii      2008            Racing       Nintendo \n",
       "4 Wii Sports Resort        Wii      2009            Sports       Nintendo \n",
       "5 Pokemon Red/Pokemon Blue GB       1996            Role-Playing Nintendo \n",
       "6 Tetris                   GB       1989            Puzzle       Nintendo \n",
       "  NA_Sales EU_Sales JP_Sales Other_Sales Global_Sales Critic_Score Critic_Count\n",
       "1 41.36    28.96     3.77    8.45        82.53        76           51          \n",
       "2 29.08     3.58     6.81    0.77        40.24        NA           NA          \n",
       "3 15.68    12.76     3.79    3.29        35.52        82           73          \n",
       "4 15.61    10.93     3.28    2.95        32.77        80           73          \n",
       "5 11.27     8.89    10.22    1.00        31.37        NA           NA          \n",
       "6 23.20     2.26     4.22    0.58        30.26        NA           NA          \n",
       "  User_Score User_Count Developer Rating\n",
       "1 8          322        Nintendo  E     \n",
       "2             NA                        \n",
       "3 8.3        709        Nintendo  E     \n",
       "4 8          192        Nintendo  E     \n",
       "5             NA                        \n",
       "6             NA                        "
      ]
     },
     "metadata": {},
     "output_type": "display_data"
    }
   ],
   "source": [
    "data = read.csv('videogames-sales.csv')\n",
    "head(data)"
   ]
  },
  {
   "cell_type": "markdown",
   "metadata": {},
   "source": [
    "Para empezar a trabajar ya con los datos lo que haremos sera trabajar con una sola variable numérica. En este caso trabajaremos solo con los valores `Attack` es decir analizaremos la siguiente data"
   ]
  },
  {
   "cell_type": "code",
   "execution_count": 3,
   "metadata": {},
   "outputs": [],
   "source": [
    "ventasJP = data$JP_Sales"
   ]
  },
  {
   "cell_type": "markdown",
   "metadata": {},
   "source": [
    "Ver los datos de esta forma es muy incomodo pues no se ve alguna tendencia o repetición de los datos. Por tanto es adecuado agruparlo en una tabla de frecuencias.\n",
    "\n",
    "**Definición**: Se le llama _frecuencia_ de un dato a la cantidad de veces que se repite cierto dato, y se denota por la letra minuscula $f$.\n",
    "\n",
    "**Definición**: Una _tabla de frecuencias_ corresponde a agrupar los datos en dos columnas. En la primera estan los datos y en la segunda va la cantidad la frecuencia del dato.\n",
    "\n",
    "En R esta tabla se puede obtener mediante la función `table(#base de datos)`."
   ]
  },
  {
   "cell_type": "code",
   "execution_count": 4,
   "metadata": {},
   "outputs": [
    {
     "data": {
      "text/plain": [
       "ventasJP\n",
       "    0  0.01  0.02  0.03  0.04  0.05  0.06  0.07  0.08  0.09   0.1  0.11  0.12 \n",
       "10515   708   741   546   398   322   296   228   220   156   155   146   147 \n",
       " 0.13  0.14  0.15  0.16  0.17  0.18  0.19   0.2  0.21  0.22  0.23  0.24  0.25 \n",
       "  124   100    91    84    73    54    81    68    55    54    51    36    45 \n",
       " 0.26  0.27  0.28  0.29   0.3  0.31  0.32  0.33  0.34  0.35  0.36  0.37  0.38 \n",
       "   49    45    46    39    53    35    34    21    22    27    32    18    30 \n",
       " 0.39   0.4  0.41  0.42  0.43  0.44  0.45  0.46  0.47  0.48  0.49   0.5  0.51 \n",
       "   18    18    28    25     9    17    21    27    14     6    16     9    11 \n",
       " 0.52  0.53  0.54  0.55  0.56  0.57  0.58  0.59   0.6  0.61  0.62  0.63  0.64 \n",
       "   11    11    16    18    13    10     7     8     6     3    15    10     8 \n",
       " 0.65  0.66  0.67  0.68  0.69   0.7  0.71  0.72  0.73  0.74  0.75  0.76  0.77 \n",
       "    8     9     4     1     4     8     6     4    12     8     6     8     6 \n",
       " 0.78  0.79   0.8  0.81  0.82  0.83  0.84  0.85  0.86  0.87  0.88  0.89   0.9 \n",
       "    3     4     5     9     2     8     3     3     3     6     2     8     5 \n",
       " 0.91  0.92  0.93  0.94  0.95  0.96  0.97  0.98  0.99     1  1.01  1.02  1.03 \n",
       "    6     6     2     3     2     5     1     3     3     4     3     1     5 \n",
       " 1.04  1.05  1.06  1.07  1.08  1.09   1.1  1.11  1.12  1.13  1.14  1.15  1.16 \n",
       "    2     7     4     6     3     4     9     2     2     3     1     4     1 \n",
       " 1.17  1.18  1.19   1.2  1.21  1.24  1.25  1.26  1.27  1.28  1.29   1.3  1.31 \n",
       "    1     1     1     5     1     1     3     1     3     2     3     3     1 \n",
       " 1.32  1.33  1.34  1.35  1.36  1.37  1.38  1.39   1.4  1.42  1.44  1.45  1.46 \n",
       "    1     3     1     2     3     1     3     3     2     3     2     4     2 \n",
       " 1.48  1.49   1.5  1.51  1.52  1.53  1.54  1.56  1.57  1.58   1.6  1.61  1.63 \n",
       "    2     3     1     1     2     1     2     2     2     1     1     2     1 \n",
       " 1.65  1.69   1.7  1.71  1.75  1.76  1.81  1.87   1.9  1.91  1.93  1.96  1.97 \n",
       "    1     3     1     1     2     1     1     2     1     1     2     2     1 \n",
       " 1.98     2  2.02  2.05  2.06   2.1  2.11  2.12  2.13  2.14  2.17   2.2  2.23 \n",
       "    2     1     2     1     1     1     1     1     2     1     1     1     1 \n",
       " 2.26  2.29  2.32  2.33  2.34  2.35  2.41  2.43  2.46  2.47  2.49  2.53  2.54 \n",
       "    1     1     1     1     1     1     1     2     1     1     1     1     1 \n",
       " 2.55  2.62  2.65  2.66  2.68  2.69  2.73  2.78  2.79  2.87  2.93     3  3.03 \n",
       "    1     1     1     1     1     3     1     2     1     1     1     1     1 \n",
       "  3.1  3.12  3.14  3.15  3.18  3.19  3.28  3.44  3.54   3.6  3.61  3.63  3.67 \n",
       "    1     1     1     1     1     1     2     1     1     1     1     1     1 \n",
       " 3.77  3.79  3.81  3.84  3.96   4.1  4.13  4.16  4.18  4.22  4.35  4.39   4.7 \n",
       "    2     1     1     1     1     1     2     1     1     1     2     1     1 \n",
       " 4.87  5.32  5.33  5.38  5.65  6.04   6.5  6.81   7.2 10.22 \n",
       "    1     1     1     1     1     1     1     1     1     1 "
      ]
     },
     "metadata": {},
     "output_type": "display_data"
    }
   ],
   "source": [
    "table(ventasJP)"
   ]
  },
  {
   "cell_type": "markdown",
   "metadata": {},
   "source": [
    "Esta tabla indica cuantas veces se repite un cierto dato. Por ejemplo existen 708 juegos cuya venta ha sido de 0.01 millones de copias en Japon.."
   ]
  },
  {
   "cell_type": "markdown",
   "metadata": {},
   "source": [
    "Recordemos un método de filtración de datos para encontrar el juego que tiene la mayor cantidad de ventas:"
   ]
  },
  {
   "cell_type": "code",
   "execution_count": 5,
   "metadata": {},
   "outputs": [
    {
     "data": {
      "text/html": [
       "<table>\n",
       "<thead><tr><th></th><th scope=col>Name</th><th scope=col>Platform</th><th scope=col>Year_of_Release</th><th scope=col>Genre</th><th scope=col>Publisher</th><th scope=col>NA_Sales</th><th scope=col>EU_Sales</th><th scope=col>JP_Sales</th><th scope=col>Other_Sales</th><th scope=col>Global_Sales</th><th scope=col>Critic_Score</th><th scope=col>Critic_Count</th><th scope=col>User_Score</th><th scope=col>User_Count</th><th scope=col>Developer</th><th scope=col>Rating</th></tr></thead>\n",
       "<tbody>\n",
       "\t<tr><th scope=row>5</th><td>Pokemon Red/Pokemon Blue</td><td>GB                      </td><td>1996                    </td><td>Role-Playing            </td><td>Nintendo                </td><td>11.27                   </td><td>8.89                    </td><td>10.22                   </td><td>1                       </td><td>31.37                   </td><td>NA                      </td><td>NA                      </td><td>                        </td><td>NA                      </td><td>                        </td><td>                        </td></tr>\n",
       "</tbody>\n",
       "</table>\n"
      ],
      "text/latex": [
       "\\begin{tabular}{r|llllllllllllllll}\n",
       "  & Name & Platform & Year\\_of\\_Release & Genre & Publisher & NA\\_Sales & EU\\_Sales & JP\\_Sales & Other\\_Sales & Global\\_Sales & Critic\\_Score & Critic\\_Count & User\\_Score & User\\_Count & Developer & Rating\\\\\n",
       "\\hline\n",
       "\t5 & Pokemon Red/Pokemon Blue & GB                       & 1996                     & Role-Playing             & Nintendo                 & 11.27                    & 8.89                     & 10.22                    & 1                        & 31.37                    & NA                       & NA                       &                          & NA                       &                          &                         \\\\\n",
       "\\end{tabular}\n"
      ],
      "text/markdown": [
       "\n",
       "| <!--/--> | Name | Platform | Year_of_Release | Genre | Publisher | NA_Sales | EU_Sales | JP_Sales | Other_Sales | Global_Sales | Critic_Score | Critic_Count | User_Score | User_Count | Developer | Rating |\n",
       "|---|---|---|---|---|---|---|---|---|---|---|---|---|---|---|---|---|\n",
       "| 5 | Pokemon Red/Pokemon Blue | GB                       | 1996                     | Role-Playing             | Nintendo                 | 11.27                    | 8.89                     | 10.22                    | 1                        | 31.37                    | NA                       | NA                       |                          | NA                       |                          |                          |\n",
       "\n"
      ],
      "text/plain": [
       "  Name                     Platform Year_of_Release Genre        Publisher\n",
       "5 Pokemon Red/Pokemon Blue GB       1996            Role-Playing Nintendo \n",
       "  NA_Sales EU_Sales JP_Sales Other_Sales Global_Sales Critic_Score Critic_Count\n",
       "5 11.27    8.89     10.22    1           31.37        NA           NA          \n",
       "  User_Score User_Count Developer Rating\n",
       "5            NA                         "
      ]
     },
     "metadata": {},
     "output_type": "display_data"
    }
   ],
   "source": [
    "subset(data, data$JP_Sales == max(data$JP_Sales))"
   ]
  },
  {
   "cell_type": "markdown",
   "metadata": {},
   "source": [
    "Como no debería sorprendernos, el videojuego de mayor éxito en Japón es la primera entrega de Pokemon."
   ]
  },
  {
   "cell_type": "markdown",
   "metadata": {},
   "source": [
    "# Visualización de los datos"
   ]
  },
  {
   "cell_type": "markdown",
   "metadata": {},
   "source": [
    "La visualización de los datos es una parte muy importante, puesto que es una forma de simplificar la ilustración al público de los datos y su comportamiento. Además resume de forma muy apropiada la información para su facil visualización y comprensión, pero aún así existen personas que utilizan de forma erronea los graficos y llevan a falsas conclusiones a las personas que ven los graficos. Como por ejemplo:\n",
    "\n",
    "<img src=\"https://media.biobiochile.cl/wp-content/uploads/2017/11/grafico-sebastian-piera-victimizacion-730x350.jpg\" alt=\"\" align=\"middle\"/>\n",
    "\n",
    "**¿Cúal es el problema de este gráfico?** \n",
    "\n",
    "Veamos otro gráfico:\n",
    "\n",
    "![covid](covid.jpg)\n",
    "\n",
    "**¿Cúal es el problema de este gráfico?** \n",
    "\n",
    "Es importante elegir el gráfico adecuado dependiendo de cada contexto y además poder saber cuando un gráfico entrega una información adecuada o no.\n",
    "\n",
    "A continuación presentamos varias formas de visualizar los datos en R. Las funciones para hacer gráficos son:\n",
    "* `plot(datos)`\n",
    "* `plot(table(datos))`\n",
    "* `hist(datos)`\n",
    "* `hist(table(datos))`\n",
    "* `pairs(table(datos))`\n",
    "* `pie(datos)`\n",
    "* `pie(table(datos))`"
   ]
  },
  {
   "cell_type": "code",
   "execution_count": 6,
   "metadata": {},
   "outputs": [
    {
     "data": {
      "image/png": "[encoded data removed]",
      "text/plain": [
       "plot without title"
      ]
     },
     "metadata": {},
     "output_type": "display_data"
    }
   ],
   "source": [
    "plot(ventasJP)"
   ]
  },
  {
   "cell_type": "code",
   "execution_count": 7,
   "metadata": {},
   "outputs": [
    {
     "data": {
      "image/png": "[encoded data removed]",
      "text/plain": [
       "Plot with title \"Histogram of ventasJP\""
      ]
     },
     "metadata": {},
     "output_type": "display_data"
    }
   ],
   "source": [
    "hist(ventasJP)"
   ]
  },
  {
   "cell_type": "code",
   "execution_count": 8,
   "metadata": {},
   "outputs": [
    {
     "data": {
      "image/png": "[encoded data removed]",
      "text/plain": [
       "plot without title"
      ]
     },
     "metadata": {},
     "output_type": "display_data"
    }
   ],
   "source": [
    "pie(table(ventasJP))"
   ]
  },
  {
   "cell_type": "markdown",
   "metadata": {},
   "source": [
    "Estoy son los graficos mas simples de hacer en el lenguaje R, existen más tipos de gráficos y mas atractivos visualmente pero de momento se utilizarán los que acabamos de mostrar. Por otro lado viendo los gráficos podemos realizar dos preguntas\n",
    "* ¿Cúal grafico prefieres?\n",
    "* ¿Por qué lo prefieres?"
   ]
  },
  {
   "cell_type": "markdown",
   "metadata": {},
   "source": [
    "## Ejercicio: Estudiar las ventas de las demás regiones, es decir, NA, EU y Others"
   ]
  },
  {
   "cell_type": "markdown",
   "metadata": {},
   "source": [
    "Veamos que ocurre si el conjunto de datos es distinto, para ello trabajaremos con la variable `Legendary` de la base de datos."
   ]
  },
  {
   "cell_type": "code",
   "execution_count": 9,
   "metadata": {},
   "outputs": [],
   "source": [
    "genero = data$Genre"
   ]
  },
  {
   "cell_type": "markdown",
   "metadata": {},
   "source": [
    "Primero veamos la tabla de frecuencias:"
   ]
  },
  {
   "cell_type": "code",
   "execution_count": 10,
   "metadata": {},
   "outputs": [
    {
     "data": {
      "text/plain": [
       "genero\n",
       "                   Action    Adventure     Fighting         Misc     Platform \n",
       "           2         3370         1303          849         1750          888 \n",
       "      Puzzle       Racing Role-Playing      Shooter   Simulation       Sports \n",
       "         580         1249         1500         1323          874         2348 \n",
       "    Strategy \n",
       "         683 "
      ]
     },
     "metadata": {},
     "output_type": "display_data"
    }
   ],
   "source": [
    "table(genero)"
   ]
  },
  {
   "cell_type": "markdown",
   "metadata": {},
   "source": [
    "Ahora los gráficos que se pueden realizar."
   ]
  },
  {
   "cell_type": "code",
   "execution_count": 11,
   "metadata": {},
   "outputs": [
    {
     "data": {
      "image/png": "[encoded data removed]",
      "text/plain": [
       "plot without title"
      ]
     },
     "metadata": {},
     "output_type": "display_data"
    }
   ],
   "source": [
    "plot(genero)"
   ]
  },
  {
   "cell_type": "markdown",
   "metadata": {},
   "source": [
    "El histograma tira un error pues la entrada de la función `hist` deben ser números!"
   ]
  },
  {
   "cell_type": "code",
   "execution_count": 12,
   "metadata": {},
   "outputs": [
    {
     "data": {
      "image/png": "[encoded data removed]",
      "text/plain": [
       "plot without title"
      ]
     },
     "metadata": {},
     "output_type": "display_data"
    }
   ],
   "source": [
    "pie(table(genero))"
   ]
  },
  {
   "cell_type": "code",
   "execution_count": 13,
   "metadata": {},
   "outputs": [
    {
     "data": {
      "image/png": "[encoded data removed]",
      "text/plain": [
       "plot without title"
      ]
     },
     "metadata": {},
     "output_type": "display_data"
    }
   ],
   "source": [
    "barplot(table(genero))"
   ]
  },
  {
   "cell_type": "markdown",
   "metadata": {},
   "source": [
    "De la misma forma que con los datos anteriores.\n",
    "* ¿Cúal grafico prefieres?\n",
    "* ¿Por qué lo prefieres?"
   ]
  },
  {
   "cell_type": "markdown",
   "metadata": {},
   "source": [
    "# Medidas \n",
    "* Utilizaremos la puntuación de la crítica para calcular las siguientes"
   ]
  },
  {
   "cell_type": "code",
   "execution_count": 14,
   "metadata": {},
   "outputs": [],
   "source": [
    "criticas = na.omit(data$Critic_Score)"
   ]
  },
  {
   "cell_type": "markdown",
   "metadata": {},
   "source": [
    "## Medidas de tendencia central"
   ]
  },
  {
   "cell_type": "markdown",
   "metadata": {},
   "source": [
    "Las medidas de tendencia central son una forma de resumir la información de un conjunto de datos mediante un número o dato. Estas medidas son:\n",
    "* **Promedio o media muestral**: Corresponde a sumar todos los datos y dividirlos por el total de datos, es decir, si el conjunto de datos es $x_1,x_2,...,x_n$ entonces tenemos que el promedio denotado por $\\bar{x}$ viene dado por:\n",
    "$$\n",
    "    \\bar{x} = \\dfrac{1}{n}\\sum_{i=1}^n x_i \n",
    "$$\n",
    "en R el comando para calcular el promedio es `mean(datos)`. Por ejemplo para los dos conjuntos de datos anteriores tenemos que:"
   ]
  },
  {
   "cell_type": "code",
   "execution_count": 15,
   "metadata": {},
   "outputs": [
    {
     "data": {
      "text/html": [
       "68.9676785055917"
      ],
      "text/latex": [
       "68.9676785055917"
      ],
      "text/markdown": [
       "68.9676785055917"
      ],
      "text/plain": [
       "[1] 68.96768"
      ]
     },
     "metadata": {},
     "output_type": "display_data"
    }
   ],
   "source": [
    "mean(criticas)"
   ]
  },
  {
   "cell_type": "markdown",
   "metadata": {},
   "source": [
    "* **Mediana**: Corresponde al dato en la posición central si es que los datos estan ordenados de menor a mayor. Para obtenerlo se debe usar el comando `median(data)`. Por ejemplo para los dos conjuntos de datos anteriores tenemos que:"
   ]
  },
  {
   "cell_type": "code",
   "execution_count": 16,
   "metadata": {},
   "outputs": [
    {
     "data": {
      "text/html": [
       "71"
      ],
      "text/latex": [
       "71"
      ],
      "text/markdown": [
       "71"
      ],
      "text/plain": [
       "[1] 71"
      ]
     },
     "metadata": {},
     "output_type": "display_data"
    }
   ],
   "source": [
    "median(criticas)"
   ]
  },
  {
   "cell_type": "markdown",
   "metadata": {},
   "source": [
    "* **Moda**: corresponde al dato que mas se repite. En el R se puede obtener mediante el maximo de las frecuencias. Para calcularla en R se necesita *instalar una librería* mediante la función `install.packages(\"modeest\")`. Una vez instalada en tu computadora debes incluirla en tu codigo mediandte la función `library(modeest)`.Finalmente luego utlizar el comando `mlv(datos)`"
   ]
  },
  {
   "cell_type": "code",
   "execution_count": 17,
   "metadata": {},
   "outputs": [
    {
     "name": "stderr",
     "output_type": "stream",
     "text": [
      "Warning message:\n",
      "\"package 'modeest' was built under R version 3.6.3\""
     ]
    }
   ],
   "source": [
    "# install.packages(\"modeest\") \n",
    "library(modeest)"
   ]
  },
  {
   "cell_type": "code",
   "execution_count": 18,
   "metadata": {},
   "outputs": [
    {
     "data": {
      "text/html": [
       "70"
      ],
      "text/latex": [
       "70"
      ],
      "text/markdown": [
       "70"
      ],
      "text/plain": [
       "[1] 70"
      ]
     },
     "metadata": {},
     "output_type": "display_data"
    }
   ],
   "source": [
    "mlv(criticas)"
   ]
  },
  {
   "cell_type": "markdown",
   "metadata": {},
   "source": [
    "## Medidas de dispersión"
   ]
  },
  {
   "cell_type": "markdown",
   "metadata": {},
   "source": [
    "**Definición:** Una medida de dispersión es una función de los datos cuyo objetivo es medir que distintos son los datos entre si. La principal y mas común medida de dispersión es la varianza.\n",
    "\n",
    "Supongamos que tenemos los siguientes conjuntos de datos:\n",
    "* base_1 = {-1,0,1}\n",
    "* base_2 = {-2,0,2}\n",
    "\n",
    "Para ingresar datos manualmente se debe ocupar la función `c(dato_1,dato_2,...,dato_n)` de esta forma los datos seran guardados en un vector. Básicamente obtendremos un vector con los datos.\n",
    "Ahora veremos sus plots:"
   ]
  },
  {
   "cell_type": "markdown",
   "metadata": {},
   "source": [
    "Entonces viendo sólo los gráficos podriamos preguntarnos que base de datos presenta una mayor variabilidad. Ahora para poder responder esta pregunta mediante un estadístico.\n",
    "\n",
    "**Definición:** Dado un conjunto de datos $x_1,...,x_n$ se define la varianza muestral como:\n",
    "$$\n",
    "S^2 = \\dfrac{1}{n-1} \\sum_{i=1}^n (x_i-\\bar{x})^2\n",
    "$$\n",
    "En el R se puede obtener mediante la función `var(datos)`.\n",
    "\n",
    "**Definición:** Dado un conjunto de datos $x_1,...,x_n$ se define la desviación estandar de este conjunto de datos como:\n",
    "$$\n",
    "S = \\sqrt{S^2}\n",
    "$$\n",
    "En el R se puede obtener mediante la función `sd(datos)`.\n",
    "\n",
    "**Interpretación** El conjunto de datos con menor varianza o desviación estandar tiene menor variabilidad en sus datos; en otras palabras \n",
    "* _Mientras mas pequeña sea la varianza los datos suelen ser mas parecidos._\n",
    "* _Mientras que si la varianza es grande entonces los datos suelen ser muy distintos._\n",
    "\n",
    "Utilizando la interpretación deberiamos concluir que `base_2` tiene mayor varianza que la `base_1` puesto que la distancia entre los datos es mayor en la `base_2` que en la `base_1`. Revisemos con el R"
   ]
  },
  {
   "cell_type": "code",
   "execution_count": 19,
   "metadata": {},
   "outputs": [],
   "source": [
    "base1= c(-1,0,1)\n",
    "base2= c(-2,0,2)"
   ]
  },
  {
   "cell_type": "code",
   "execution_count": 20,
   "metadata": {},
   "outputs": [
    {
     "name": "stdout",
     "output_type": "stream",
     "text": [
      "[1] 1\n"
     ]
    }
   ],
   "source": [
    "print(sd(base1))"
   ]
  },
  {
   "cell_type": "code",
   "execution_count": 21,
   "metadata": {},
   "outputs": [
    {
     "name": "stdout",
     "output_type": "stream",
     "text": [
      "[1] 2\n"
     ]
    }
   ],
   "source": [
    "print(sd(base2))"
   ]
  },
  {
   "cell_type": "markdown",
   "metadata": {
    "tags": []
   },
   "source": [
    "## Otras definiciones\n",
    "**Rango:** Corresponde a la diferencia entre el dato mayor y el dato menor."
   ]
  },
  {
   "cell_type": "code",
   "execution_count": 22,
   "metadata": {},
   "outputs": [
    {
     "data": {
      "text/html": [
       "10.22"
      ],
      "text/latex": [
       "10.22"
      ],
      "text/markdown": [
       "10.22"
      ],
      "text/plain": [
       "[1] 10.22"
      ]
     },
     "metadata": {},
     "output_type": "display_data"
    }
   ],
   "source": [
    "max(data$JP_Sales) - min(data$JP_Sales)"
   ]
  },
  {
   "cell_type": "markdown",
   "metadata": {},
   "source": [
    "# Ejercicios\n",
    "### Obtenga el promedio de `Notas de la crítica` de los juegos que hayan vendido a lo menos 5 millones de copias en cada región."
   ]
  },
  {
   "cell_type": "code",
   "execution_count": 23,
   "metadata": {},
   "outputs": [
    {
     "data": {
      "text/html": [
       "<table>\n",
       "<thead><tr><th scope=col>Name</th><th scope=col>Platform</th><th scope=col>Year_of_Release</th><th scope=col>Genre</th><th scope=col>Publisher</th><th scope=col>NA_Sales</th><th scope=col>EU_Sales</th><th scope=col>JP_Sales</th><th scope=col>Other_Sales</th><th scope=col>Global_Sales</th><th scope=col>Critic_Score</th><th scope=col>Critic_Count</th><th scope=col>User_Score</th><th scope=col>User_Count</th><th scope=col>Developer</th><th scope=col>Rating</th></tr></thead>\n",
       "<tbody>\n",
       "\t<tr><td>Wii Sports              </td><td>Wii                     </td><td>2006                    </td><td>Sports                  </td><td>Nintendo                </td><td>41.36                   </td><td>28.96                   </td><td> 3.77                   </td><td>8.45                    </td><td>82.53                   </td><td>76                      </td><td>51                      </td><td>8                       </td><td>322                     </td><td>Nintendo                </td><td>E                       </td></tr>\n",
       "\t<tr><td>Super Mario Bros.       </td><td>NES                     </td><td>1985                    </td><td>Platform                </td><td>Nintendo                </td><td>29.08                   </td><td> 3.58                   </td><td> 6.81                   </td><td>0.77                    </td><td>40.24                   </td><td>NA                      </td><td>NA                      </td><td>                        </td><td> NA                     </td><td>                        </td><td>                        </td></tr>\n",
       "\t<tr><td>Mario Kart Wii          </td><td>Wii                     </td><td>2008                    </td><td>Racing                  </td><td>Nintendo                </td><td>15.68                   </td><td>12.76                   </td><td> 3.79                   </td><td>3.29                    </td><td>35.52                   </td><td>82                      </td><td>73                      </td><td>8.3                     </td><td>709                     </td><td>Nintendo                </td><td>E                       </td></tr>\n",
       "\t<tr><td>Wii Sports Resort       </td><td>Wii                     </td><td>2009                    </td><td>Sports                  </td><td>Nintendo                </td><td>15.61                   </td><td>10.93                   </td><td> 3.28                   </td><td>2.95                    </td><td>32.77                   </td><td>80                      </td><td>73                      </td><td>8                       </td><td>192                     </td><td>Nintendo                </td><td>E                       </td></tr>\n",
       "\t<tr><td>Pokemon Red/Pokemon Blue</td><td>GB                      </td><td>1996                    </td><td>Role-Playing            </td><td>Nintendo                </td><td>11.27                   </td><td> 8.89                   </td><td>10.22                   </td><td>1.00                    </td><td>31.37                   </td><td>NA                      </td><td>NA                      </td><td>                        </td><td> NA                     </td><td>                        </td><td>                        </td></tr>\n",
       "\t<tr><td>Tetris                  </td><td>GB                      </td><td>1989                    </td><td>Puzzle                  </td><td>Nintendo                </td><td>23.20                   </td><td> 2.26                   </td><td> 4.22                   </td><td>0.58                    </td><td>30.26                   </td><td>NA                      </td><td>NA                      </td><td>                        </td><td> NA                     </td><td>                        </td><td>                        </td></tr>\n",
       "</tbody>\n",
       "</table>\n"
      ],
      "text/latex": [
       "\\begin{tabular}{r|llllllllllllllll}\n",
       " Name & Platform & Year\\_of\\_Release & Genre & Publisher & NA\\_Sales & EU\\_Sales & JP\\_Sales & Other\\_Sales & Global\\_Sales & Critic\\_Score & Critic\\_Count & User\\_Score & User\\_Count & Developer & Rating\\\\\n",
       "\\hline\n",
       "\t Wii Sports               & Wii                      & 2006                     & Sports                   & Nintendo                 & 41.36                    & 28.96                    &  3.77                    & 8.45                     & 82.53                    & 76                       & 51                       & 8                        & 322                      & Nintendo                 & E                       \\\\\n",
       "\t Super Mario Bros.        & NES                      & 1985                     & Platform                 & Nintendo                 & 29.08                    &  3.58                    &  6.81                    & 0.77                     & 40.24                    & NA                       & NA                       &                          &  NA                      &                          &                         \\\\\n",
       "\t Mario Kart Wii           & Wii                      & 2008                     & Racing                   & Nintendo                 & 15.68                    & 12.76                    &  3.79                    & 3.29                     & 35.52                    & 82                       & 73                       & 8.3                      & 709                      & Nintendo                 & E                       \\\\\n",
       "\t Wii Sports Resort        & Wii                      & 2009                     & Sports                   & Nintendo                 & 15.61                    & 10.93                    &  3.28                    & 2.95                     & 32.77                    & 80                       & 73                       & 8                        & 192                      & Nintendo                 & E                       \\\\\n",
       "\t Pokemon Red/Pokemon Blue & GB                       & 1996                     & Role-Playing             & Nintendo                 & 11.27                    &  8.89                    & 10.22                    & 1.00                     & 31.37                    & NA                       & NA                       &                          &  NA                      &                          &                         \\\\\n",
       "\t Tetris                   & GB                       & 1989                     & Puzzle                   & Nintendo                 & 23.20                    &  2.26                    &  4.22                    & 0.58                     & 30.26                    & NA                       & NA                       &                          &  NA                      &                          &                         \\\\\n",
       "\\end{tabular}\n"
      ],
      "text/markdown": [
       "\n",
       "| Name | Platform | Year_of_Release | Genre | Publisher | NA_Sales | EU_Sales | JP_Sales | Other_Sales | Global_Sales | Critic_Score | Critic_Count | User_Score | User_Count | Developer | Rating |\n",
       "|---|---|---|---|---|---|---|---|---|---|---|---|---|---|---|---|\n",
       "| Wii Sports               | Wii                      | 2006                     | Sports                   | Nintendo                 | 41.36                    | 28.96                    |  3.77                    | 8.45                     | 82.53                    | 76                       | 51                       | 8                        | 322                      | Nintendo                 | E                        |\n",
       "| Super Mario Bros.        | NES                      | 1985                     | Platform                 | Nintendo                 | 29.08                    |  3.58                    |  6.81                    | 0.77                     | 40.24                    | NA                       | NA                       |                          |  NA                      |                          |                          |\n",
       "| Mario Kart Wii           | Wii                      | 2008                     | Racing                   | Nintendo                 | 15.68                    | 12.76                    |  3.79                    | 3.29                     | 35.52                    | 82                       | 73                       | 8.3                      | 709                      | Nintendo                 | E                        |\n",
       "| Wii Sports Resort        | Wii                      | 2009                     | Sports                   | Nintendo                 | 15.61                    | 10.93                    |  3.28                    | 2.95                     | 32.77                    | 80                       | 73                       | 8                        | 192                      | Nintendo                 | E                        |\n",
       "| Pokemon Red/Pokemon Blue | GB                       | 1996                     | Role-Playing             | Nintendo                 | 11.27                    |  8.89                    | 10.22                    | 1.00                     | 31.37                    | NA                       | NA                       |                          |  NA                      |                          |                          |\n",
       "| Tetris                   | GB                       | 1989                     | Puzzle                   | Nintendo                 | 23.20                    |  2.26                    |  4.22                    | 0.58                     | 30.26                    | NA                       | NA                       |                          |  NA                      |                          |                          |\n",
       "\n"
      ],
      "text/plain": [
       "  Name                     Platform Year_of_Release Genre        Publisher\n",
       "1 Wii Sports               Wii      2006            Sports       Nintendo \n",
       "2 Super Mario Bros.        NES      1985            Platform     Nintendo \n",
       "3 Mario Kart Wii           Wii      2008            Racing       Nintendo \n",
       "4 Wii Sports Resort        Wii      2009            Sports       Nintendo \n",
       "5 Pokemon Red/Pokemon Blue GB       1996            Role-Playing Nintendo \n",
       "6 Tetris                   GB       1989            Puzzle       Nintendo \n",
       "  NA_Sales EU_Sales JP_Sales Other_Sales Global_Sales Critic_Score Critic_Count\n",
       "1 41.36    28.96     3.77    8.45        82.53        76           51          \n",
       "2 29.08     3.58     6.81    0.77        40.24        NA           NA          \n",
       "3 15.68    12.76     3.79    3.29        35.52        82           73          \n",
       "4 15.61    10.93     3.28    2.95        32.77        80           73          \n",
       "5 11.27     8.89    10.22    1.00        31.37        NA           NA          \n",
       "6 23.20     2.26     4.22    0.58        30.26        NA           NA          \n",
       "  User_Score User_Count Developer Rating\n",
       "1 8          322        Nintendo  E     \n",
       "2             NA                        \n",
       "3 8.3        709        Nintendo  E     \n",
       "4 8          192        Nintendo  E     \n",
       "5             NA                        \n",
       "6             NA                        "
      ]
     },
     "metadata": {},
     "output_type": "display_data"
    }
   ],
   "source": [
    "head(data)"
   ]
  },
  {
   "cell_type": "code",
   "execution_count": 24,
   "metadata": {},
   "outputs": [],
   "source": [
    "ventaNA = subset(data, data$NA_Sales >= 5)\n",
    "ventaEU = subset(data, data$EU_Sales >= 5)\n",
    "ventaJP = subset(data, data$JP_Sales >= 5)\n",
    "ventaOtro = subset(data, data$Other_Sales >= 5)"
   ]
  },
  {
   "cell_type": "code",
   "execution_count": 25,
   "metadata": {},
   "outputs": [
    {
     "data": {
      "text/html": [
       "86.8285714285714"
      ],
      "text/latex": [
       "86.8285714285714"
      ],
      "text/markdown": [
       "86.8285714285714"
      ],
      "text/plain": [
       "[1] 86.82857"
      ]
     },
     "metadata": {},
     "output_type": "display_data"
    }
   ],
   "source": [
    "mean(na.omit(ventaNA$Critic_Score)) # Notas de los criticos en NA"
   ]
  },
  {
   "cell_type": "code",
   "execution_count": 26,
   "metadata": {},
   "outputs": [
    {
     "data": {
      "text/html": [
       "85.3478260869565"
      ],
      "text/latex": [
       "85.3478260869565"
      ],
      "text/markdown": [
       "85.3478260869565"
      ],
      "text/plain": [
       "[1] 85.34783"
      ]
     },
     "metadata": {},
     "output_type": "display_data"
    }
   ],
   "source": [
    "mean(na.omit(ventaEU$Critic_Score)) # Notas de los criticos en EU"
   ]
  },
  {
   "cell_type": "code",
   "execution_count": 27,
   "metadata": {},
   "outputs": [
    {
     "data": {
      "text/html": [
       "84"
      ],
      "text/latex": [
       "84"
      ],
      "text/markdown": [
       "84"
      ],
      "text/plain": [
       "[1] 84"
      ]
     },
     "metadata": {},
     "output_type": "display_data"
    }
   ],
   "source": [
    "mean(na.omit(ventaJP$Critic_Score)) # Notas de los criticos en Japón"
   ]
  },
  {
   "cell_type": "code",
   "execution_count": 28,
   "metadata": {},
   "outputs": [
    {
     "data": {
      "text/html": [
       "86.6666666666667"
      ],
      "text/latex": [
       "86.6666666666667"
      ],
      "text/markdown": [
       "86.6666666666667"
      ],
      "text/plain": [
       "[1] 86.66667"
      ]
     },
     "metadata": {},
     "output_type": "display_data"
    }
   ],
   "source": [
    "mean(na.omit(ventaOtro$Critic_Score)) # Notas de los criticos en el resto del mundo"
   ]
  },
  {
   "cell_type": "markdown",
   "metadata": {},
   "source": [
    "### Obtenga el género de videojuegos que tiene en promedio mejores ventas"
   ]
  },
  {
   "cell_type": "code",
   "execution_count": 29,
   "metadata": {},
   "outputs": [
    {
     "data": {
      "text/html": [
       "<dl class=dl-horizontal>\n",
       "\t<dt>1</dt>\n",
       "\t\t<dd>2</dd>\n",
       "\t<dt>Action</dt>\n",
       "\t\t<dd>3370</dd>\n",
       "\t<dt>Adventure</dt>\n",
       "\t\t<dd>1303</dd>\n",
       "\t<dt>Fighting</dt>\n",
       "\t\t<dd>849</dd>\n",
       "\t<dt>Misc</dt>\n",
       "\t\t<dd>1750</dd>\n",
       "\t<dt>Platform</dt>\n",
       "\t\t<dd>888</dd>\n",
       "\t<dt>Puzzle</dt>\n",
       "\t\t<dd>580</dd>\n",
       "\t<dt>Racing</dt>\n",
       "\t\t<dd>1249</dd>\n",
       "\t<dt>Role-Playing</dt>\n",
       "\t\t<dd>1500</dd>\n",
       "\t<dt>Shooter</dt>\n",
       "\t\t<dd>1323</dd>\n",
       "\t<dt>Simulation</dt>\n",
       "\t\t<dd>874</dd>\n",
       "\t<dt>Sports</dt>\n",
       "\t\t<dd>2348</dd>\n",
       "\t<dt>Strategy</dt>\n",
       "\t\t<dd>683</dd>\n",
       "</dl>\n"
      ],
      "text/latex": [
       "\\begin{description*}\n",
       "\\item[1] 2\n",
       "\\item[Action] 3370\n",
       "\\item[Adventure] 1303\n",
       "\\item[Fighting] 849\n",
       "\\item[Misc] 1750\n",
       "\\item[Platform] 888\n",
       "\\item[Puzzle] 580\n",
       "\\item[Racing] 1249\n",
       "\\item[Role-Playing] 1500\n",
       "\\item[Shooter] 1323\n",
       "\\item[Simulation] 874\n",
       "\\item[Sports] 2348\n",
       "\\item[Strategy] 683\n",
       "\\end{description*}\n"
      ],
      "text/markdown": [
       "1\n",
       ":   2Action\n",
       ":   3370Adventure\n",
       ":   1303Fighting\n",
       ":   849Misc\n",
       ":   1750Platform\n",
       ":   888Puzzle\n",
       ":   580Racing\n",
       ":   1249Role-Playing\n",
       ":   1500Shooter\n",
       ":   1323Simulation\n",
       ":   874Sports\n",
       ":   2348Strategy\n",
       ":   683\n",
       "\n"
      ],
      "text/plain": [
       "                   Action    Adventure     Fighting         Misc     Platform \n",
       "           2         3370         1303          849         1750          888 \n",
       "      Puzzle       Racing Role-Playing      Shooter   Simulation       Sports \n",
       "         580         1249         1500         1323          874         2348 \n",
       "    Strategy \n",
       "         683 "
      ]
     },
     "metadata": {},
     "output_type": "display_data"
    }
   ],
   "source": [
    "summary(genero)"
   ]
  },
  {
   "cell_type": "code",
   "execution_count": 30,
   "metadata": {},
   "outputs": [
    {
     "data": {
      "text/html": [
       "0.517884272997033"
      ],
      "text/latex": [
       "0.517884272997033"
      ],
      "text/markdown": [
       "0.517884272997033"
      ],
      "text/plain": [
       "[1] 0.5178843"
      ]
     },
     "metadata": {},
     "output_type": "display_data"
    }
   ],
   "source": [
    "action = subset(data, data$Genre == 'Action')\n",
    "mean(na.omit(action$Global_Sales))"
   ]
  },
  {
   "cell_type": "code",
   "execution_count": 31,
   "metadata": {},
   "outputs": [
    {
     "data": {
      "text/html": [
       "0.182417498081351"
      ],
      "text/latex": [
       "0.182417498081351"
      ],
      "text/markdown": [
       "0.182417498081351"
      ],
      "text/plain": [
       "[1] 0.1824175"
      ]
     },
     "metadata": {},
     "output_type": "display_data"
    }
   ],
   "source": [
    "adventure = subset(data, data$Genre == 'Adventure')\n",
    "mean(na.omit(adventure$Global_Sales))"
   ]
  },
  {
   "cell_type": "code",
   "execution_count": 32,
   "metadata": {},
   "outputs": [
    {
     "data": {
      "text/html": [
       "0.527067137809187"
      ],
      "text/latex": [
       "0.527067137809187"
      ],
      "text/markdown": [
       "0.527067137809187"
      ],
      "text/plain": [
       "[1] 0.5270671"
      ]
     },
     "metadata": {},
     "output_type": "display_data"
    }
   ],
   "source": [
    "fighting = subset(data, data$Genre == 'Fighting')\n",
    "mean(na.omit(fighting$Global_Sales))"
   ]
  },
  {
   "cell_type": "code",
   "execution_count": 33,
   "metadata": {},
   "outputs": [
    {
     "data": {
      "text/html": [
       "0.45896"
      ],
      "text/latex": [
       "0.45896"
      ],
      "text/markdown": [
       "0.45896"
      ],
      "text/plain": [
       "[1] 0.45896"
      ]
     },
     "metadata": {},
     "output_type": "display_data"
    }
   ],
   "source": [
    "misc = subset(data, data$Genre == 'Misc')\n",
    "mean(na.omit(misc$Global_Sales))"
   ]
  },
  {
   "cell_type": "code",
   "execution_count": 34,
   "metadata": {},
   "outputs": [
    {
     "data": {
      "text/html": [
       "0.932522522522523"
      ],
      "text/latex": [
       "0.932522522522523"
      ],
      "text/markdown": [
       "0.932522522522523"
      ],
      "text/plain": [
       "[1] 0.9325225"
      ]
     },
     "metadata": {},
     "output_type": "display_data"
    }
   ],
   "source": [
    "platform = subset(data, data$Genre == 'Platform')\n",
    "mean(na.omit(platform$Global_Sales))"
   ]
  },
  {
   "cell_type": "code",
   "execution_count": 35,
   "metadata": {},
   "outputs": [
    {
     "data": {
      "text/html": [
       "0.419"
      ],
      "text/latex": [
       "0.419"
      ],
      "text/markdown": [
       "0.419"
      ],
      "text/plain": [
       "[1] 0.419"
      ]
     },
     "metadata": {},
     "output_type": "display_data"
    }
   ],
   "source": [
    "puzzle = subset(data, data$Genre == 'Puzzle')\n",
    "mean(na.omit(puzzle$Global_Sales))"
   ]
  },
  {
   "cell_type": "code",
   "execution_count": 36,
   "metadata": {},
   "outputs": [
    {
     "data": {
      "text/html": [
       "0.583586869495596"
      ],
      "text/latex": [
       "0.583586869495596"
      ],
      "text/markdown": [
       "0.583586869495596"
      ],
      "text/plain": [
       "[1] 0.5835869"
      ]
     },
     "metadata": {},
     "output_type": "display_data"
    }
   ],
   "source": [
    "racing = subset(data, data$Genre == 'Racing')\n",
    "mean(na.omit(racing$Global_Sales))"
   ]
  },
  {
   "cell_type": "code",
   "execution_count": 37,
   "metadata": {},
   "outputs": [
    {
     "data": {
      "text/html": [
       "0.622933333333333"
      ],
      "text/latex": [
       "0.622933333333333"
      ],
      "text/markdown": [
       "0.622933333333333"
      ],
      "text/plain": [
       "[1] 0.6229333"
      ]
     },
     "metadata": {},
     "output_type": "display_data"
    }
   ],
   "source": [
    "RPG = subset(data, data$Genre == 'Role-Playing')\n",
    "mean(na.omit(RPG$Global_Sales))"
   ]
  },
  {
   "cell_type": "code",
   "execution_count": 38,
   "metadata": {},
   "outputs": [
    {
     "data": {
      "text/html": [
       "0.795873015873016"
      ],
      "text/latex": [
       "0.795873015873016"
      ],
      "text/markdown": [
       "0.795873015873016"
      ],
      "text/plain": [
       "[1] 0.795873"
      ]
     },
     "metadata": {},
     "output_type": "display_data"
    }
   ],
   "source": [
    "shooter = subset(data, data$Genre == 'Shooter')\n",
    "mean(na.omit(shooter$Global_Sales))"
   ]
  },
  {
   "cell_type": "code",
   "execution_count": 39,
   "metadata": {},
   "outputs": [
    {
     "data": {
      "text/html": [
       "0.446704805491991"
      ],
      "text/latex": [
       "0.446704805491991"
      ],
      "text/markdown": [
       "0.446704805491991"
      ],
      "text/plain": [
       "[1] 0.4467048"
      ]
     },
     "metadata": {},
     "output_type": "display_data"
    }
   ],
   "source": [
    "sim = subset(data, data$Genre == 'Simulation')\n",
    "mean(na.omit(sim$Global_Sales))"
   ]
  },
  {
   "cell_type": "code",
   "execution_count": 40,
   "metadata": {},
   "outputs": [
    {
     "data": {
      "text/html": [
       "0.567291311754685"
      ],
      "text/latex": [
       "0.567291311754685"
      ],
      "text/markdown": [
       "0.567291311754685"
      ],
      "text/plain": [
       "[1] 0.5672913"
      ]
     },
     "metadata": {},
     "output_type": "display_data"
    }
   ],
   "source": [
    "sport = subset(data, data$Genre == 'Sports')\n",
    "mean(na.omit(sport$Global_Sales))"
   ]
  },
  {
   "cell_type": "code",
   "execution_count": 41,
   "metadata": {},
   "outputs": [
    {
     "data": {
      "text/html": [
       "0.255490483162518"
      ],
      "text/latex": [
       "0.255490483162518"
      ],
      "text/markdown": [
       "0.255490483162518"
      ],
      "text/plain": [
       "[1] 0.2554905"
      ]
     },
     "metadata": {},
     "output_type": "display_data"
    }
   ],
   "source": [
    "RTS = subset(data, data$Genre == 'Strategy')\n",
    "mean(na.omit(RTS$Global_Sales))"
   ]
  }
 ],
 "metadata": {
  "kernelspec": {
   "display_name": "R",
   "language": "R",
   "name": "ir"
  },
  "language_info": {
   "codemirror_mode": "r",
   "file_extension": ".r",
   "mimetype": "text/x-r-source",
   "name": "R",
   "pygments_lexer": "r",
   "version": "3.6.1"
  }
 },
 "nbformat": 4,
 "nbformat_minor": 4
}
