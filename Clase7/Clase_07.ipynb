{
 "cells": [
  {
   "cell_type": "markdown",
   "metadata": {},
   "source": [
    "<img src=\"https://www.promocionachile.cl/img/logos/uai.JPG\" width=\"400\" alt=\"utfsm-logo\" align=\"left\"/>"
   ]
  },
  {
   "cell_type": "markdown",
   "metadata": {
    "tags": []
   },
   "source": [
    "# LEC de Probabilidad y Estadística, Viña del mar.\n",
    "## Clase 07\n",
    "### Profesores: Eduardo Rúbio - Gustavo Arcaya\n",
    "\n",
    "# Objetivos:\n",
    "* Introducir Intervalos de confianza para la proporción.\n",
    "* Estudiar pruebas de hipótesis."
   ]
  },
  {
   "cell_type": "markdown",
   "metadata": {},
   "source": [
    "### Resumen\n",
    "En la clase anterior vimos la creación de intervalos de confianza para los siguientes casos:"
   ]
  },
  {
   "cell_type": "markdown",
   "metadata": {},
   "source": [
    "* Para la media poblacional con varianza poblacional conocida.\n",
    "* Para la media poblacional con varianza poblacional desconocida.\n",
    "* Para la varianza con media poblacional desconocida."
   ]
  },
  {
   "cell_type": "markdown",
   "metadata": {},
   "source": [
    "--------------\n",
    "----------\n",
    "## Intervalos de confianza para una proporción\n",
    "Suponga que en una población se tienen 2 posibles elecciones, `x1` y `x2`. Nos gustaría estudiar qué proporción de la población prefiere `x1` en lugar de `x2`. Como no podemos preguntar a toda la población su preferencia para sacar un porcentaje (en general la población se considera infinita), debemos seleccionar al azar una muestra de tamaño $n$ a quienes preguntar su preferencia. Entonces para estimar la proporción utilizaremos el estadístico:\n",
    "$$\n",
    "\\hat{p} = \\dfrac{\\text{Cantidad de personas que prefieren $x_1$}}{\\text{Cantidad de personas de la muestra}}\n",
    "$$\n",
    "Queremos además conocer la certeza con la que el estimador aproxima a la proporción poblacional , para ello utilizaremos el siguiente resultado:\n",
    "\n",
    "#### Intervalo de confianza para $\\hat{p}$:\n",
    "\n",
    "\n",
    "El intervalo de confianza para $\\hat{p}$ viene dado por:\n",
    "$$\n",
    "\\hat{p} \\pm \\left|Z\\left( \\dfrac{1-\\gamma}{2}\\right)\\right| \\sqrt{\n",
    "\\dfrac{ \\hat{p}(1-\\hat{p})}{n}\n",
    "}\n",
    "$$"
   ]
  },
  {
   "cell_type": "markdown",
   "metadata": {},
   "source": [
    "### Ejemplo"
   ]
  },
  {
   "cell_type": "code",
   "execution_count": 1,
   "metadata": {},
   "outputs": [
    {
     "data": {
      "text/html": [
       "<table>\n",
       "<thead><tr><th scope=col>user_id</th><th scope=col>country</th><th scope=col>sex</th><th scope=col>height</th><th scope=col>weight</th><th scope=col>age</th><th scope=col>years_cl</th><th scope=col>date_first</th><th scope=col>date_last</th><th scope=col>grades_count</th><th scope=col>grades_first</th><th scope=col>grades_last</th><th scope=col>grades_max</th><th scope=col>grades_mean</th><th scope=col>year_first</th><th scope=col>year_last</th></tr></thead>\n",
       "<tbody>\n",
       "\t<tr><td> 1                 </td><td>SWE                </td><td>0                  </td><td>177                </td><td>73                 </td><td>41                 </td><td>21                 </td><td>1999-02-06 23:00:00</td><td>2001-07-31 22:00:00</td><td> 84                </td><td>36                 </td><td>55                 </td><td>62                 </td><td>46.75000           </td><td>1999               </td><td>2001               </td></tr>\n",
       "\t<tr><td> 3                 </td><td>SWE                </td><td>0                  </td><td>180                </td><td>78                 </td><td>44                 </td><td>22                 </td><td>1999-03-31 22:00:00</td><td>2000-07-19 22:00:00</td><td> 12                </td><td>53                 </td><td>51                 </td><td>59                 </td><td>52.83333           </td><td>1999               </td><td>2000               </td></tr>\n",
       "\t<tr><td> 4                 </td><td>SWE                </td><td>1                  </td><td>165                </td><td>58                 </td><td>33                 </td><td>16                 </td><td>2004-06-30 22:00:00</td><td>2009-05-26 22:00:00</td><td>119                </td><td>53                 </td><td>49                 </td><td>64                 </td><td>53.89076           </td><td>2004               </td><td>2009               </td></tr>\n",
       "\t<tr><td>10                 </td><td>SWE                </td><td>0                  </td><td>167                </td><td>63                 </td><td>52                 </td><td>25                 </td><td>2000-01-14 23:00:00</td><td>2017-06-01 22:00:00</td><td>298                </td><td>53                 </td><td>49                 </td><td>63                 </td><td>49.40604           </td><td>2000               </td><td>2017               </td></tr>\n",
       "\t<tr><td>16                 </td><td>NOR                </td><td>0                  </td><td>177                </td><td>68                 </td><td>44                 </td><td>21                 </td><td>1998-02-27 23:00:00</td><td>2010-05-13 22:00:00</td><td>  5                </td><td>53                 </td><td>49                 </td><td>53                 </td><td>51.40000           </td><td>1998               </td><td>2010               </td></tr>\n",
       "\t<tr><td>17                 </td><td>SWE                </td><td>0                  </td><td>193                </td><td>78                 </td><td>42                 </td><td>17                 </td><td>2001-06-19 22:00:00</td><td>2002-04-30 22:00:00</td><td>  4                </td><td>36                 </td><td>36                 </td><td>36                 </td><td>34.50000           </td><td>2001               </td><td>2002               </td></tr>\n",
       "</tbody>\n",
       "</table>\n"
      ],
      "text/latex": [
       "\\begin{tabular}{r|llllllllllllllll}\n",
       " user\\_id & country & sex & height & weight & age & years\\_cl & date\\_first & date\\_last & grades\\_count & grades\\_first & grades\\_last & grades\\_max & grades\\_mean & year\\_first & year\\_last\\\\\n",
       "\\hline\n",
       "\t  1                  & SWE                 & 0                   & 177                 & 73                  & 41                  & 21                  & 1999-02-06 23:00:00 & 2001-07-31 22:00:00 &  84                 & 36                  & 55                  & 62                  & 46.75000            & 1999                & 2001               \\\\\n",
       "\t  3                  & SWE                 & 0                   & 180                 & 78                  & 44                  & 22                  & 1999-03-31 22:00:00 & 2000-07-19 22:00:00 &  12                 & 53                  & 51                  & 59                  & 52.83333            & 1999                & 2000               \\\\\n",
       "\t  4                  & SWE                 & 1                   & 165                 & 58                  & 33                  & 16                  & 2004-06-30 22:00:00 & 2009-05-26 22:00:00 & 119                 & 53                  & 49                  & 64                  & 53.89076            & 2004                & 2009               \\\\\n",
       "\t 10                  & SWE                 & 0                   & 167                 & 63                  & 52                  & 25                  & 2000-01-14 23:00:00 & 2017-06-01 22:00:00 & 298                 & 53                  & 49                  & 63                  & 49.40604            & 2000                & 2017               \\\\\n",
       "\t 16                  & NOR                 & 0                   & 177                 & 68                  & 44                  & 21                  & 1998-02-27 23:00:00 & 2010-05-13 22:00:00 &   5                 & 53                  & 49                  & 53                  & 51.40000            & 1998                & 2010               \\\\\n",
       "\t 17                  & SWE                 & 0                   & 193                 & 78                  & 42                  & 17                  & 2001-06-19 22:00:00 & 2002-04-30 22:00:00 &   4                 & 36                  & 36                  & 36                  & 34.50000            & 2001                & 2002               \\\\\n",
       "\\end{tabular}\n"
      ],
      "text/markdown": [
       "\n",
       "| user_id | country | sex | height | weight | age | years_cl | date_first | date_last | grades_count | grades_first | grades_last | grades_max | grades_mean | year_first | year_last |\n",
       "|---|---|---|---|---|---|---|---|---|---|---|---|---|---|---|---|\n",
       "|  1                  | SWE                 | 0                   | 177                 | 73                  | 41                  | 21                  | 1999-02-06 23:00:00 | 2001-07-31 22:00:00 |  84                 | 36                  | 55                  | 62                  | 46.75000            | 1999                | 2001                |\n",
       "|  3                  | SWE                 | 0                   | 180                 | 78                  | 44                  | 22                  | 1999-03-31 22:00:00 | 2000-07-19 22:00:00 |  12                 | 53                  | 51                  | 59                  | 52.83333            | 1999                | 2000                |\n",
       "|  4                  | SWE                 | 1                   | 165                 | 58                  | 33                  | 16                  | 2004-06-30 22:00:00 | 2009-05-26 22:00:00 | 119                 | 53                  | 49                  | 64                  | 53.89076            | 2004                | 2009                |\n",
       "| 10                  | SWE                 | 0                   | 167                 | 63                  | 52                  | 25                  | 2000-01-14 23:00:00 | 2017-06-01 22:00:00 | 298                 | 53                  | 49                  | 63                  | 49.40604            | 2000                | 2017                |\n",
       "| 16                  | NOR                 | 0                   | 177                 | 68                  | 44                  | 21                  | 1998-02-27 23:00:00 | 2010-05-13 22:00:00 |   5                 | 53                  | 49                  | 53                  | 51.40000            | 1998                | 2010                |\n",
       "| 17                  | SWE                 | 0                   | 193                 | 78                  | 42                  | 17                  | 2001-06-19 22:00:00 | 2002-04-30 22:00:00 |   4                 | 36                  | 36                  | 36                  | 34.50000            | 2001                | 2002                |\n",
       "\n"
      ],
      "text/plain": [
       "  user_id country sex height weight age years_cl date_first         \n",
       "1  1      SWE     0   177    73     41  21       1999-02-06 23:00:00\n",
       "2  3      SWE     0   180    78     44  22       1999-03-31 22:00:00\n",
       "3  4      SWE     1   165    58     33  16       2004-06-30 22:00:00\n",
       "4 10      SWE     0   167    63     52  25       2000-01-14 23:00:00\n",
       "5 16      NOR     0   177    68     44  21       1998-02-27 23:00:00\n",
       "6 17      SWE     0   193    78     42  17       2001-06-19 22:00:00\n",
       "  date_last           grades_count grades_first grades_last grades_max\n",
       "1 2001-07-31 22:00:00  84          36           55          62        \n",
       "2 2000-07-19 22:00:00  12          53           51          59        \n",
       "3 2009-05-26 22:00:00 119          53           49          64        \n",
       "4 2017-06-01 22:00:00 298          53           49          63        \n",
       "5 2010-05-13 22:00:00   5          53           49          53        \n",
       "6 2002-04-30 22:00:00   4          36           36          36        \n",
       "  grades_mean year_first year_last\n",
       "1 46.75000    1999       2001     \n",
       "2 52.83333    1999       2000     \n",
       "3 53.89076    2004       2009     \n",
       "4 49.40604    2000       2017     \n",
       "5 51.40000    1998       2010     \n",
       "6 34.50000    2001       2002     "
      ]
     },
     "metadata": {},
     "output_type": "display_data"
    }
   ],
   "source": [
    "data = read.csv('climber_df.csv')\n",
    "head(data)"
   ]
  },
  {
   "cell_type": "markdown",
   "metadata": {},
   "source": [
    "Notemos que la variable `sex` es binaria, podemos entonces buscar la proporcion que representan los hombres o mujeres respecto al total de escalador@s"
   ]
  },
  {
   "cell_type": "code",
   "execution_count": 2,
   "metadata": {},
   "outputs": [
    {
     "data": {
      "text/html": [
       "10927"
      ],
      "text/latex": [
       "10927"
      ],
      "text/markdown": [
       "10927"
      ],
      "text/plain": [
       "[1] 10927"
      ]
     },
     "metadata": {},
     "output_type": "display_data"
    }
   ],
   "source": [
    "n=length(data$sex)\n",
    "n"
   ]
  },
  {
   "cell_type": "code",
   "execution_count": 3,
   "metadata": {},
   "outputs": [
    {
     "data": {
      "text/html": [
       "1367"
      ],
      "text/latex": [
       "1367"
      ],
      "text/markdown": [
       "1367"
      ],
      "text/plain": [
       "[1] 1367"
      ]
     },
     "metadata": {},
     "output_type": "display_data"
    }
   ],
   "source": [
    "casos_fav1 = subset(data, data$sex == 1)\n",
    "n1= length(casos_fav1$sex)\n",
    "n1"
   ]
  },
  {
   "cell_type": "code",
   "execution_count": 4,
   "metadata": {},
   "outputs": [
    {
     "data": {
      "text/html": [
       "0.125102955980599"
      ],
      "text/latex": [
       "0.125102955980599"
      ],
      "text/markdown": [
       "0.125102955980599"
      ],
      "text/plain": [
       "[1] 0.125103"
      ]
     },
     "metadata": {},
     "output_type": "display_data"
    }
   ],
   "source": [
    "p1 = n1/n\n",
    "p1"
   ]
  },
  {
   "cell_type": "code",
   "execution_count": 5,
   "metadata": {},
   "outputs": [
    {
     "data": {
      "text/html": [
       "0.118899840306853"
      ],
      "text/latex": [
       "0.118899840306853"
      ],
      "text/markdown": [
       "0.118899840306853"
      ],
      "text/plain": [
       "[1] 0.1188998"
      ]
     },
     "metadata": {},
     "output_type": "display_data"
    },
    {
     "data": {
      "text/html": [
       "0.131306071654344"
      ],
      "text/latex": [
       "0.131306071654344"
      ],
      "text/markdown": [
       "0.131306071654344"
      ],
      "text/plain": [
       "[1] 0.1313061"
      ]
     },
     "metadata": {},
     "output_type": "display_data"
    }
   ],
   "source": [
    "LI = p1 - abs(qnorm((1-0.95)/2))*sqrt(p1*(1-p1)/n)\n",
    "LS = p1 + abs(qnorm((1-0.95)/2))*sqrt(p1*(1-p1)/n)\n",
    "LI\n",
    "LS"
   ]
  },
  {
   "cell_type": "code",
   "execution_count": 6,
   "metadata": {},
   "outputs": [
    {
     "data": {
      "text/plain": [
       "\n",
       "\tExact binomial test\n",
       "\n",
       "data:  1367 and 10927\n",
       "number of successes = 1367, number of trials = 10927, p-value = 0.9769\n",
       "alternative hypothesis: true probability of success is not equal to 0.125\n",
       "95 percent confidence interval:\n",
       " 0.1189546 0.1314519\n",
       "sample estimates:\n",
       "probability of success \n",
       "              0.125103 \n"
      ]
     },
     "metadata": {},
     "output_type": "display_data"
    }
   ],
   "source": [
    "binom.test(1367,10927,0.125)  # binom.test(casos favorales, casos totales, proporcion muestral)"
   ]
  },
  {
   "cell_type": "markdown",
   "metadata": {},
   "source": [
    "-----------------\n",
    "----------------- \n",
    "## Tests de hipotesis"
   ]
  },
  {
   "cell_type": "markdown",
   "metadata": {},
   "source": [
    "**Definición:** Se define la significancia como 1 - confianza. Entonces:\n",
    "$$\n",
    "\\alpha = 1-\\gamma\n",
    "$$\n",
    "con $\\alpha$ la significancia y $\\gamma$ la confianza."
   ]
  },
  {
   "cell_type": "markdown",
   "metadata": {},
   "source": [
    "### Construcción de un test de hipótesis.\n",
    "\n",
    "Supongamos tenemos una V.A. $X$ que sigue una distribución normal de parámetros $\\mu$ y $\\sigma^2$.\n",
    "\n",
    "En primer lugar supongamos que $\\sigma^2$ es conocido. Supongamos que una persona afirma rotundamente que $\\mu = \\mu_0$ con una confianza $\\gamma$ mientras que otra persona afirma que $\\mu > \\mu_0$. Para tomar una decisión con respecto a esta problematica se decide realizar un test de hipótesis:\n",
    "\\begin{align*}\n",
    "H_0: &\\mu = \\mu_0 \\quad (\\textit{hipótesis nula})\\\\\n",
    "&v/s\\\\\n",
    "H_1: &\\mu > \\mu_0 \\quad (\\textit{hipótesis alternativa})\n",
    "\\end{align*}\n",
    "\n",
    "Para tomar una decisión debemos hacer lo siguiente, calcularemos un $z$ de prueba que llamaremos $z^\\ast$, este viene dado por:\n",
    "$$\n",
    "z^\\ast = \\dfrac{\\bar{x} - \\mu_0}{\\frac{\\sigma}{\\sqrt{n}}}\n",
    "$$"
   ]
  },
  {
   "cell_type": "markdown",
   "metadata": {},
   "source": [
    "Si $z^\\ast$ > $Z\\left(1 - \\alpha \\right)$ entonces rechazo $H_0$, en caso contrario no rechazo $H_0$."
   ]
  },
  {
   "cell_type": "markdown",
   "metadata": {},
   "source": [
    "---------------\n",
    "**Definición** \n",
    "\n",
    "Llamaremos valor p a la probabilidad de obtener un resultado extremo dado que $H_0$ es verdadero. La interpretación de este valor es que el valor p es la significancia mínima para rechazar $H_0$."
   ]
  },
  {
   "cell_type": "markdown",
   "metadata": {},
   "source": [
    "**Se suele decir que valores altos de p no permiten rechazar $H_0$, mientras que valores bajos de $p$ si permiten rechazar  $H_0$.**"
   ]
  },
  {
   "cell_type": "markdown",
   "metadata": {},
   "source": [
    "Para el test anterior (llamado test de media con cola derecha y varianza conocida), para obtener el valor p debemos utilizar el siguiente resultado:"
   ]
  },
  {
   "cell_type": "markdown",
   "metadata": {},
   "source": [
    "$$\n",
    "Valor.p = P( Z > z^\\ast)\n",
    "$$"
   ]
  },
  {
   "cell_type": "markdown",
   "metadata": {},
   "source": [
    "### Ejemplo"
   ]
  },
  {
   "cell_type": "code",
   "execution_count": 7,
   "metadata": {},
   "outputs": [
    {
     "data": {
      "text/html": [
       "<ol class=list-inline>\n",
       "\t<li>12.3085985852259</li>\n",
       "\t<li>9.60914321802567</li>\n",
       "\t<li>9.16444201849793</li>\n",
       "\t<li>9.62974558429824</li>\n",
       "\t<li>8.60737349631716</li>\n",
       "\t<li>8.25342533854071</li>\n",
       "\t<li>10.1261456106077</li>\n",
       "\t<li>7.92891782944499</li>\n",
       "\t<li>7.6105590768993</li>\n",
       "\t<li>12.5943148250228</li>\n",
       "\t<li>6.08860169575549</li>\n",
       "\t<li>9.61744603299271</li>\n",
       "\t<li>13.3166161525069</li>\n",
       "\t<li>9.31995419322071</li>\n",
       "\t<li>9.95187604297739</li>\n",
       "\t<li>10.2142353638465</li>\n",
       "\t<li>7.17221623404215</li>\n",
       "\t<li>8.82931114950352</li>\n",
       "\t<li>12.4173283494449</li>\n",
       "\t<li>9.97688170111527</li>\n",
       "\t<li>10.2295500327319</li>\n",
       "\t<li>10.5908423637726</li>\n",
       "\t<li>9.67030862767844</li>\n",
       "\t<li>6.58860790181546</li>\n",
       "\t<li>7.05340674091002</li>\n",
       "\t<li>11.9318727540078</li>\n",
       "\t<li>14.334789594068</li>\n",
       "\t<li>9.79691399430815</li>\n",
       "\t<li>10.367427213141</li>\n",
       "\t<li>9.34678567325076</li>\n",
       "\t<li>13.2725984129463</li>\n",
       "\t<li>8.13691466393207</li>\n",
       "\t<li>6.96324817429086</li>\n",
       "\t<li>10.2727506863315</li>\n",
       "\t<li>13.1147520855723</li>\n",
       "\t<li>7.09698458589548</li>\n",
       "\t<li>11.0157710731097</li>\n",
       "\t<li>11.2881534757829</li>\n",
       "\t<li>8.81243960733644</li>\n",
       "\t<li>12.815784837575</li>\n",
       "\t<li>10.0302760668522</li>\n",
       "\t<li>8.31434658202586</li>\n",
       "\t<li>14.3434900764751</li>\n",
       "\t<li>10.80546724778</li>\n",
       "\t<li>12.4974947900781</li>\n",
       "\t<li>10.9123599231943</li>\n",
       "\t<li>7.54227904531741</li>\n",
       "\t<li>12.1788376973013</li>\n",
       "\t<li>11.9335769840264</li>\n",
       "\t<li>9.83109550040394</li>\n",
       "\t<li>12.0443988310469</li>\n",
       "\t<li>11.8350981193456</li>\n",
       "\t<li>12.0846847946767</li>\n",
       "\t<li>10.8051904145473</li>\n",
       "\t<li>8.00363836506561</li>\n",
       "\t<li>5.46343082643864</li>\n",
       "\t<li>8.37941802444028</li>\n",
       "\t<li>8.37063350412668</li>\n",
       "\t<li>8.35724648118337</li>\n",
       "\t<li>15.1922110069639</li>\n",
       "\t<li>8.58804075318493</li>\n",
       "\t<li>7.97616144786307</li>\n",
       "\t<li>12.6201965060316</li>\n",
       "\t<li>10.0333695811854</li>\n",
       "\t<li>12.8293478197237</li>\n",
       "\t<li>9.48129935423763</li>\n",
       "\t<li>11.5597121313774</li>\n",
       "\t<li>9.05786480034664</li>\n",
       "\t<li>8.69960949116339</li>\n",
       "\t<li>9.75541158077763</li>\n",
       "\t<li>13.8238052256942</li>\n",
       "\t<li>5.09840495265788</li>\n",
       "\t<li>7.02880458915002</li>\n",
       "\t<li>9.8307152346196</li>\n",
       "\t<li>4.8097978921952</li>\n",
       "\t<li>9.19916241046466</li>\n",
       "\t<li>7.53497017968171</li>\n",
       "\t<li>8.64735521293959</li>\n",
       "\t<li>8.97038661209704</li>\n",
       "\t<li>8.55531596064074</li>\n",
       "\t<li>8.11749095201328</li>\n",
       "\t<li>9.05137922424498</li>\n",
       "\t<li>6.25872221470446</li>\n",
       "\t<li>11.6626310142727</li>\n",
       "\t<li>7.10783423862182</li>\n",
       "\t<li>12.2672234660927</li>\n",
       "\t<li>8.21574460484268</li>\n",
       "\t<li>12.5690702023085</li>\n",
       "\t<li>8.75654238484534</li>\n",
       "\t<li>11.3730925500735</li>\n",
       "\t<li>10.6463837615244</li>\n",
       "\t<li>12.4724309344419</li>\n",
       "\t<li>10.1324345212913</li>\n",
       "\t<li>8.12738859806742</li>\n",
       "\t<li>10.2746017886565</li>\n",
       "\t<li>9.93624946556198</li>\n",
       "\t<li>11.1715469852706</li>\n",
       "\t<li>10.3296904093201</li>\n",
       "\t<li>9.72796524229725</li>\n",
       "\t<li>4.04938102854618</li>\n",
       "</ol>\n"
      ],
      "text/latex": [
       "\\begin{enumerate*}\n",
       "\\item 12.3085985852259\n",
       "\\item 9.60914321802567\n",
       "\\item 9.16444201849793\n",
       "\\item 9.62974558429824\n",
       "\\item 8.60737349631716\n",
       "\\item 8.25342533854071\n",
       "\\item 10.1261456106077\n",
       "\\item 7.92891782944499\n",
       "\\item 7.6105590768993\n",
       "\\item 12.5943148250228\n",
       "\\item 6.08860169575549\n",
       "\\item 9.61744603299271\n",
       "\\item 13.3166161525069\n",
       "\\item 9.31995419322071\n",
       "\\item 9.95187604297739\n",
       "\\item 10.2142353638465\n",
       "\\item 7.17221623404215\n",
       "\\item 8.82931114950352\n",
       "\\item 12.4173283494449\n",
       "\\item 9.97688170111527\n",
       "\\item 10.2295500327319\n",
       "\\item 10.5908423637726\n",
       "\\item 9.67030862767844\n",
       "\\item 6.58860790181546\n",
       "\\item 7.05340674091002\n",
       "\\item 11.9318727540078\n",
       "\\item 14.334789594068\n",
       "\\item 9.79691399430815\n",
       "\\item 10.367427213141\n",
       "\\item 9.34678567325076\n",
       "\\item 13.2725984129463\n",
       "\\item 8.13691466393207\n",
       "\\item 6.96324817429086\n",
       "\\item 10.2727506863315\n",
       "\\item 13.1147520855723\n",
       "\\item 7.09698458589548\n",
       "\\item 11.0157710731097\n",
       "\\item 11.2881534757829\n",
       "\\item 8.81243960733644\n",
       "\\item 12.815784837575\n",
       "\\item 10.0302760668522\n",
       "\\item 8.31434658202586\n",
       "\\item 14.3434900764751\n",
       "\\item 10.80546724778\n",
       "\\item 12.4974947900781\n",
       "\\item 10.9123599231943\n",
       "\\item 7.54227904531741\n",
       "\\item 12.1788376973013\n",
       "\\item 11.9335769840264\n",
       "\\item 9.83109550040394\n",
       "\\item 12.0443988310469\n",
       "\\item 11.8350981193456\n",
       "\\item 12.0846847946767\n",
       "\\item 10.8051904145473\n",
       "\\item 8.00363836506561\n",
       "\\item 5.46343082643864\n",
       "\\item 8.37941802444028\n",
       "\\item 8.37063350412668\n",
       "\\item 8.35724648118337\n",
       "\\item 15.1922110069639\n",
       "\\item 8.58804075318493\n",
       "\\item 7.97616144786307\n",
       "\\item 12.6201965060316\n",
       "\\item 10.0333695811854\n",
       "\\item 12.8293478197237\n",
       "\\item 9.48129935423763\n",
       "\\item 11.5597121313774\n",
       "\\item 9.05786480034664\n",
       "\\item 8.69960949116339\n",
       "\\item 9.75541158077763\n",
       "\\item 13.8238052256942\n",
       "\\item 5.09840495265788\n",
       "\\item 7.02880458915002\n",
       "\\item 9.8307152346196\n",
       "\\item 4.8097978921952\n",
       "\\item 9.19916241046466\n",
       "\\item 7.53497017968171\n",
       "\\item 8.64735521293959\n",
       "\\item 8.97038661209704\n",
       "\\item 8.55531596064074\n",
       "\\item 8.11749095201328\n",
       "\\item 9.05137922424498\n",
       "\\item 6.25872221470446\n",
       "\\item 11.6626310142727\n",
       "\\item 7.10783423862182\n",
       "\\item 12.2672234660927\n",
       "\\item 8.21574460484268\n",
       "\\item 12.5690702023085\n",
       "\\item 8.75654238484534\n",
       "\\item 11.3730925500735\n",
       "\\item 10.6463837615244\n",
       "\\item 12.4724309344419\n",
       "\\item 10.1324345212913\n",
       "\\item 8.12738859806742\n",
       "\\item 10.2746017886565\n",
       "\\item 9.93624946556198\n",
       "\\item 11.1715469852706\n",
       "\\item 10.3296904093201\n",
       "\\item 9.72796524229725\n",
       "\\item 4.04938102854618\n",
       "\\end{enumerate*}\n"
      ],
      "text/markdown": [
       "1. 12.3085985852259\n",
       "2. 9.60914321802567\n",
       "3. 9.16444201849793\n",
       "4. 9.62974558429824\n",
       "5. 8.60737349631716\n",
       "6. 8.25342533854071\n",
       "7. 10.1261456106077\n",
       "8. 7.92891782944499\n",
       "9. 7.6105590768993\n",
       "10. 12.5943148250228\n",
       "11. 6.08860169575549\n",
       "12. 9.61744603299271\n",
       "13. 13.3166161525069\n",
       "14. 9.31995419322071\n",
       "15. 9.95187604297739\n",
       "16. 10.2142353638465\n",
       "17. 7.17221623404215\n",
       "18. 8.82931114950352\n",
       "19. 12.4173283494449\n",
       "20. 9.97688170111527\n",
       "21. 10.2295500327319\n",
       "22. 10.5908423637726\n",
       "23. 9.67030862767844\n",
       "24. 6.58860790181546\n",
       "25. 7.05340674091002\n",
       "26. 11.9318727540078\n",
       "27. 14.334789594068\n",
       "28. 9.79691399430815\n",
       "29. 10.367427213141\n",
       "30. 9.34678567325076\n",
       "31. 13.2725984129463\n",
       "32. 8.13691466393207\n",
       "33. 6.96324817429086\n",
       "34. 10.2727506863315\n",
       "35. 13.1147520855723\n",
       "36. 7.09698458589548\n",
       "37. 11.0157710731097\n",
       "38. 11.2881534757829\n",
       "39. 8.81243960733644\n",
       "40. 12.815784837575\n",
       "41. 10.0302760668522\n",
       "42. 8.31434658202586\n",
       "43. 14.3434900764751\n",
       "44. 10.80546724778\n",
       "45. 12.4974947900781\n",
       "46. 10.9123599231943\n",
       "47. 7.54227904531741\n",
       "48. 12.1788376973013\n",
       "49. 11.9335769840264\n",
       "50. 9.83109550040394\n",
       "51. 12.0443988310469\n",
       "52. 11.8350981193456\n",
       "53. 12.0846847946767\n",
       "54. 10.8051904145473\n",
       "55. 8.00363836506561\n",
       "56. 5.46343082643864\n",
       "57. 8.37941802444028\n",
       "58. 8.37063350412668\n",
       "59. 8.35724648118337\n",
       "60. 15.1922110069639\n",
       "61. 8.58804075318493\n",
       "62. 7.97616144786307\n",
       "63. 12.6201965060316\n",
       "64. 10.0333695811854\n",
       "65. 12.8293478197237\n",
       "66. 9.48129935423763\n",
       "67. 11.5597121313774\n",
       "68. 9.05786480034664\n",
       "69. 8.69960949116339\n",
       "70. 9.75541158077763\n",
       "71. 13.8238052256942\n",
       "72. 5.09840495265788\n",
       "73. 7.02880458915002\n",
       "74. 9.8307152346196\n",
       "75. 4.8097978921952\n",
       "76. 9.19916241046466\n",
       "77. 7.53497017968171\n",
       "78. 8.64735521293959\n",
       "79. 8.97038661209704\n",
       "80. 8.55531596064074\n",
       "81. 8.11749095201328\n",
       "82. 9.05137922424498\n",
       "83. 6.25872221470446\n",
       "84. 11.6626310142727\n",
       "85. 7.10783423862182\n",
       "86. 12.2672234660927\n",
       "87. 8.21574460484268\n",
       "88. 12.5690702023085\n",
       "89. 8.75654238484534\n",
       "90. 11.3730925500735\n",
       "91. 10.6463837615244\n",
       "92. 12.4724309344419\n",
       "93. 10.1324345212913\n",
       "94. 8.12738859806742\n",
       "95. 10.2746017886565\n",
       "96. 9.93624946556198\n",
       "97. 11.1715469852706\n",
       "98. 10.3296904093201\n",
       "99. 9.72796524229725\n",
       "100. 4.04938102854618\n",
       "\n",
       "\n"
      ],
      "text/plain": [
       "  [1] 12.308599  9.609143  9.164442  9.629746  8.607373  8.253425 10.126146\n",
       "  [8]  7.928918  7.610559 12.594315  6.088602  9.617446 13.316616  9.319954\n",
       " [15]  9.951876 10.214235  7.172216  8.829311 12.417328  9.976882 10.229550\n",
       " [22] 10.590842  9.670309  6.588608  7.053407 11.931873 14.334790  9.796914\n",
       " [29] 10.367427  9.346786 13.272598  8.136915  6.963248 10.272751 13.114752\n",
       " [36]  7.096985 11.015771 11.288153  8.812440 12.815785 10.030276  8.314347\n",
       " [43] 14.343490 10.805467 12.497495 10.912360  7.542279 12.178838 11.933577\n",
       " [50]  9.831096 12.044399 11.835098 12.084685 10.805190  8.003638  5.463431\n",
       " [57]  8.379418  8.370634  8.357246 15.192211  8.588041  7.976161 12.620197\n",
       " [64] 10.033370 12.829348  9.481299 11.559712  9.057865  8.699609  9.755412\n",
       " [71] 13.823805  5.098405  7.028805  9.830715  4.809798  9.199162  7.534970\n",
       " [78]  8.647355  8.970387  8.555316  8.117491  9.051379  6.258722 11.662631\n",
       " [85]  7.107834 12.267223  8.215745 12.569070  8.756542 11.373093 10.646384\n",
       " [92] 12.472431 10.132435  8.127389 10.274602  9.936249 11.171547 10.329690\n",
       " [99]  9.727965  4.049381"
      ]
     },
     "metadata": {},
     "output_type": "display_data"
    }
   ],
   "source": [
    "x5 = rnorm(100,10,2)\n",
    "x5"
   ]
  },
  {
   "cell_type": "code",
   "execution_count": 8,
   "metadata": {},
   "outputs": [
    {
     "data": {
      "text/html": [
       "2.21924992233819"
      ],
      "text/latex": [
       "2.21924992233819"
      ],
      "text/markdown": [
       "2.21924992233819"
      ],
      "text/plain": [
       "[1] 2.21925"
      ]
     },
     "metadata": {},
     "output_type": "display_data"
    },
    {
     "data": {
      "text/html": [
       "9.80709744601062"
      ],
      "text/latex": [
       "9.80709744601062"
      ],
      "text/markdown": [
       "9.80709744601062"
      ],
      "text/plain": [
       "[1] 9.807097"
      ]
     },
     "metadata": {},
     "output_type": "display_data"
    }
   ],
   "source": [
    "sd(x5)\n",
    "mean(x5)"
   ]
  },
  {
   "cell_type": "code",
   "execution_count": 9,
   "metadata": {},
   "outputs": [
    {
     "data": {
      "text/html": [
       "4.03548723005309"
      ],
      "text/latex": [
       "4.03548723005309"
      ],
      "text/markdown": [
       "4.03548723005309"
      ],
      "text/plain": [
       "[1] 4.035487"
      ]
     },
     "metadata": {},
     "output_type": "display_data"
    }
   ],
   "source": [
    "# H_0: mu = 9\n",
    "# H_1: mu > 9\n",
    "# significancia 0.05\n",
    "alpha = 0.05\n",
    "z.ast = (mean(x5)-9)/(2/sqrt(length(x5)))\n",
    "z.ast"
   ]
  },
  {
   "cell_type": "code",
   "execution_count": 10,
   "metadata": {},
   "outputs": [
    {
     "data": {
      "text/html": [
       "1.64485362695147"
      ],
      "text/latex": [
       "1.64485362695147"
      ],
      "text/markdown": [
       "1.64485362695147"
      ],
      "text/plain": [
       "[1] 1.644854"
      ]
     },
     "metadata": {},
     "output_type": "display_data"
    }
   ],
   "source": [
    "Z = qnorm(1-alpha)\n",
    "Z"
   ]
  },
  {
   "cell_type": "code",
   "execution_count": 11,
   "metadata": {},
   "outputs": [
    {
     "data": {
      "text/html": [
       "TRUE"
      ],
      "text/latex": [
       "TRUE"
      ],
      "text/markdown": [
       "TRUE"
      ],
      "text/plain": [
       "[1] TRUE"
      ]
     },
     "metadata": {},
     "output_type": "display_data"
    }
   ],
   "source": [
    "z.ast > Z"
   ]
  },
  {
   "cell_type": "markdown",
   "metadata": {},
   "source": [
    "Por tanto rechazo $H_0$. Por tanto deberia pensar que $\\mu>9$."
   ]
  },
  {
   "cell_type": "code",
   "execution_count": 12,
   "metadata": {},
   "outputs": [
    {
     "data": {
      "text/html": [
       "-0.964512769946912"
      ],
      "text/latex": [
       "-0.964512769946912"
      ],
      "text/markdown": [
       "-0.964512769946912"
      ],
      "text/plain": [
       "[1] -0.9645128"
      ]
     },
     "metadata": {},
     "output_type": "display_data"
    }
   ],
   "source": [
    "# H_0: mu = 10\n",
    "# H_1: mu > 10\n",
    "# significancia 0.05\n",
    "alpha = 0.05\n",
    "z.ast = (mean(x5)-10)/(2/sqrt(length(x5)))\n",
    "z.ast"
   ]
  },
  {
   "cell_type": "code",
   "execution_count": 13,
   "metadata": {},
   "outputs": [
    {
     "data": {
      "text/html": [
       "FALSE"
      ],
      "text/latex": [
       "FALSE"
      ],
      "text/markdown": [
       "FALSE"
      ],
      "text/plain": [
       "[1] FALSE"
      ]
     },
     "metadata": {},
     "output_type": "display_data"
    }
   ],
   "source": [
    "z.ast > Z"
   ]
  },
  {
   "cell_type": "markdown",
   "metadata": {},
   "source": [
    "Por tanto no rechazo $H_0$ y podria pensar que $\\mu = 10$."
   ]
  },
  {
   "cell_type": "markdown",
   "metadata": {},
   "source": [
    "Además el valor p para este test viene dado por:"
   ]
  },
  {
   "cell_type": "code",
   "execution_count": 14,
   "metadata": {},
   "outputs": [
    {
     "data": {
      "text/html": [
       "0.832605545374512"
      ],
      "text/latex": [
       "0.832605545374512"
      ],
      "text/markdown": [
       "0.832605545374512"
      ],
      "text/plain": [
       "[1] 0.8326055"
      ]
     },
     "metadata": {},
     "output_type": "display_data"
    }
   ],
   "source": [
    "1-pnorm(z.ast)"
   ]
  },
  {
   "cell_type": "markdown",
   "metadata": {},
   "source": [
    "Supongamos ahora que el amigo dijo otra alternativa que $\\mu < \\mu_0$ entonces el test toma la siguiente forma:\n",
    "\\begin{align*}\n",
    "H_0: &\\mu = \\mu_0\\\\\n",
    "&v/s\\\\\n",
    "H_1: &\\mu < \\mu_0\n",
    "\\end{align*}\n",
    "Para tomar una decisión utilizaremos el siguiente criterio:\n",
    "\n",
    "Si $z^\\ast$ < $Z\\left(\\alpha\\right)$ entonces rechazo $H_0$, en caso contrario no rechazo $H_0$. **Nunca apruebo $H_1$**"
   ]
  },
  {
   "cell_type": "markdown",
   "metadata": {},
   "source": [
    "Supongamos ahora que el amigo dijo otra alternativa que $\\mu < \\mu_0$ entonces el test toma la siguiente forma:\n",
    "\\begin{align*}\n",
    "H_0: &\\mu = \\mu_0\\\\\n",
    "&v/s\\\\\n",
    "H_1: &\\mu \\neq \\mu_0\n",
    "\\end{align*}\n",
    "Para tomar una decisión utilizaremos el siguiente criterio:\n",
    "\n",
    "Si $z^\\ast > Z\\left(1 - \\dfrac{\\alpha}{2}\\right)$ o bien $z^\\ast < Z\\left( \\dfrac{\\alpha}{2} \\right)$ entonces rechazo $H_0$, en caso contrario no rechazo $H_0$. **Nunca apruebo $H_0,H_1$**"
   ]
  },
  {
   "cell_type": "markdown",
   "metadata": {},
   "source": [
    "Supongamos ahora que la varianza no es conocida. Para estos casos debemos recordar que se puede armar una distribución $t$. Entonces en caso de hacer las mismas pruebas de hipótesis que mencionamos antes tendremos que usar la función `t.test`.\n",
    "\n",
    "$t^\\ast = \\dfrac{\\bar{x} - \\mu_0}{\\frac{S}{\\sqrt{n}}} $"
   ]
  },
  {
   "cell_type": "code",
   "execution_count": 15,
   "metadata": {},
   "outputs": [
    {
     "data": {
      "text/plain": [
       "\n",
       "\tOne Sample t-test\n",
       "\n",
       "data:  x5\n",
       "t = -0.86922, df = 99, p-value = 0.3868\n",
       "alternative hypothesis: true mean is not equal to 10\n",
       "95 percent confidence interval:\n",
       "  9.36675 10.24744\n",
       "sample estimates:\n",
       "mean of x \n",
       " 9.807097 \n"
      ]
     },
     "metadata": {},
     "output_type": "display_data"
    }
   ],
   "source": [
    "t.test(x=x5,alternative='two.sided',mu=10,conf.level=0.95)"
   ]
  },
  {
   "cell_type": "code",
   "execution_count": 16,
   "metadata": {},
   "outputs": [
    {
     "data": {
      "text/plain": [
       "\n",
       "\tOne Sample t-test\n",
       "\n",
       "data:  x5\n",
       "t = -5.3753, df = 99, p-value = 2.549e-07\n",
       "alternative hypothesis: true mean is less than 11\n",
       "95 percent confidence interval:\n",
       "     -Inf 10.17558\n",
       "sample estimates:\n",
       "mean of x \n",
       " 9.807097 \n"
      ]
     },
     "metadata": {},
     "output_type": "display_data"
    }
   ],
   "source": [
    "t.test(x=x5,alternative='less',mu=11,conf.level=0.95)"
   ]
  },
  {
   "cell_type": "code",
   "execution_count": 17,
   "metadata": {},
   "outputs": [
    {
     "data": {
      "text/plain": [
       "\n",
       "\tOne Sample t-test\n",
       "\n",
       "data:  x5\n",
       "t = -9.8813, df = 99, p-value = 1\n",
       "alternative hypothesis: true mean is greater than 12\n",
       "95 percent confidence interval:\n",
       " 9.438615      Inf\n",
       "sample estimates:\n",
       "mean of x \n",
       " 9.807097 \n"
      ]
     },
     "metadata": {},
     "output_type": "display_data"
    }
   ],
   "source": [
    "t.test(x=x5,alternative='greater',mu=12,conf.level=0.95)"
   ]
  },
  {
   "cell_type": "markdown",
   "metadata": {},
   "source": [
    "## RESUMEN\n",
    "\n",
    "![resumen](estimadormu.png)\n",
    "\n",
    "\n",
    "\n",
    "## EJERCICIOS"
   ]
  },
  {
   "cell_type": "code",
   "execution_count": 18,
   "metadata": {},
   "outputs": [],
   "source": [
    "dataex = read.csv('DBEXS7.csv')"
   ]
  },
  {
   "cell_type": "code",
   "execution_count": 19,
   "metadata": {},
   "outputs": [
    {
     "data": {
      "text/html": [
       "<table>\n",
       "<thead><tr><th scope=col>Litros_diarios</th><th scope=col>Genero</th><th scope=col>Cant_Clientes</th><th scope=col>Satisfecho</th><th scope=col>Plomeros</th><th scope=col>Electricista</th><th scope=col>Temperatura</th><th scope=col>Concentracion_de_Cloro</th><th scope=col>Presencia_de_microorganismos</th><th scope=col>Pacientes_graves</th><th scope=col>Pacientes_leves</th></tr></thead>\n",
       "<tbody>\n",
       "\t<tr><td>1.5  </td><td>M    </td><td>120  </td><td>0    </td><td>18.55</td><td>18.70</td><td>15.30</td><td>35.21</td><td>0    </td><td>85   </td><td>111  </td></tr>\n",
       "\t<tr><td>1.6  </td><td>M    </td><td>108  </td><td>1    </td><td>32.75</td><td>31.48</td><td>12.25</td><td>33.81</td><td>0    </td><td>88   </td><td>114  </td></tr>\n",
       "\t<tr><td>1.5  </td><td>M    </td><td>120  </td><td>1    </td><td>31.53</td><td>30.38</td><td>15.16</td><td>34.54</td><td>0    </td><td>86   </td><td>112  </td></tr>\n",
       "\t<tr><td>1.4  </td><td>F    </td><td>114  </td><td>1    </td><td>33.78</td><td>32.41</td><td>14.67</td><td>34.90</td><td>0    </td><td>86   </td><td>112  </td></tr>\n",
       "\t<tr><td>1.9  </td><td>M    </td><td>118  </td><td>0    </td><td>29.16</td><td>28.24</td><td>14.64</td><td>34.97</td><td>0    </td><td>80   </td><td>104  </td></tr>\n",
       "\t<tr><td>1.4  </td><td>M    </td><td> 91  </td><td>0    </td><td>26.20</td><td>25.58</td><td>15.51</td><td>37.68</td><td>0    </td><td>86   </td><td>112  </td></tr>\n",
       "</tbody>\n",
       "</table>\n"
      ],
      "text/latex": [
       "\\begin{tabular}{r|lllllllllll}\n",
       " Litros\\_diarios & Genero & Cant\\_Clientes & Satisfecho & Plomeros & Electricista & Temperatura & Concentracion\\_de\\_Cloro & Presencia\\_de\\_microorganismos & Pacientes\\_graves & Pacientes\\_leves\\\\\n",
       "\\hline\n",
       "\t 1.5   & M     & 120   & 0     & 18.55 & 18.70 & 15.30 & 35.21 & 0     & 85    & 111  \\\\\n",
       "\t 1.6   & M     & 108   & 1     & 32.75 & 31.48 & 12.25 & 33.81 & 0     & 88    & 114  \\\\\n",
       "\t 1.5   & M     & 120   & 1     & 31.53 & 30.38 & 15.16 & 34.54 & 0     & 86    & 112  \\\\\n",
       "\t 1.4   & F     & 114   & 1     & 33.78 & 32.41 & 14.67 & 34.90 & 0     & 86    & 112  \\\\\n",
       "\t 1.9   & M     & 118   & 0     & 29.16 & 28.24 & 14.64 & 34.97 & 0     & 80    & 104  \\\\\n",
       "\t 1.4   & M     &  91   & 0     & 26.20 & 25.58 & 15.51 & 37.68 & 0     & 86    & 112  \\\\\n",
       "\\end{tabular}\n"
      ],
      "text/markdown": [
       "\n",
       "| Litros_diarios | Genero | Cant_Clientes | Satisfecho | Plomeros | Electricista | Temperatura | Concentracion_de_Cloro | Presencia_de_microorganismos | Pacientes_graves | Pacientes_leves |\n",
       "|---|---|---|---|---|---|---|---|---|---|---|\n",
       "| 1.5   | M     | 120   | 0     | 18.55 | 18.70 | 15.30 | 35.21 | 0     | 85    | 111   |\n",
       "| 1.6   | M     | 108   | 1     | 32.75 | 31.48 | 12.25 | 33.81 | 0     | 88    | 114   |\n",
       "| 1.5   | M     | 120   | 1     | 31.53 | 30.38 | 15.16 | 34.54 | 0     | 86    | 112   |\n",
       "| 1.4   | F     | 114   | 1     | 33.78 | 32.41 | 14.67 | 34.90 | 0     | 86    | 112   |\n",
       "| 1.9   | M     | 118   | 0     | 29.16 | 28.24 | 14.64 | 34.97 | 0     | 80    | 104   |\n",
       "| 1.4   | M     |  91   | 0     | 26.20 | 25.58 | 15.51 | 37.68 | 0     | 86    | 112   |\n",
       "\n"
      ],
      "text/plain": [
       "  Litros_diarios Genero Cant_Clientes Satisfecho Plomeros Electricista\n",
       "1 1.5            M      120           0          18.55    18.70       \n",
       "2 1.6            M      108           1          32.75    31.48       \n",
       "3 1.5            M      120           1          31.53    30.38       \n",
       "4 1.4            F      114           1          33.78    32.41       \n",
       "5 1.9            M      118           0          29.16    28.24       \n",
       "6 1.4            M       91           0          26.20    25.58       \n",
       "  Temperatura Concentracion_de_Cloro Presencia_de_microorganismos\n",
       "1 15.30       35.21                  0                           \n",
       "2 12.25       33.81                  0                           \n",
       "3 15.16       34.54                  0                           \n",
       "4 14.67       34.90                  0                           \n",
       "5 14.64       34.97                  0                           \n",
       "6 15.51       37.68                  0                           \n",
       "  Pacientes_graves Pacientes_leves\n",
       "1 85               111            \n",
       "2 88               114            \n",
       "3 86               112            \n",
       "4 86               112            \n",
       "5 80               104            \n",
       "6 86               112            "
      ]
     },
     "metadata": {},
     "output_type": "display_data"
    }
   ],
   "source": [
    "head(dataex)"
   ]
  },
  {
   "cell_type": "markdown",
   "metadata": {},
   "source": [
    "1) Muchos supermercados y grandes tiendas de menudeo instalaron sistemas de autopago con el fin de que los clientes registren sus artículos y los paguen. Se presenta en la base de datos una muestra de 60 días con la cantidad de clientes que utilizaron el servicio, asumiendo una población normal. \n",
    "            \n",
    "**Las variables a utilizar en el problema son: Cant_clientes y Satisfecho, utilize la correspondiente para determinar el límite inferior del intervalo de confianza para la media de clientes utilizando un nivel de confianza del 95%.**"
   ]
  },
  {
   "cell_type": "code",
   "execution_count": 20,
   "metadata": {},
   "outputs": [
    {
     "data": {
      "text/html": [
       "108.183333333333"
      ],
      "text/latex": [
       "108.183333333333"
      ],
      "text/markdown": [
       "108.183333333333"
      ],
      "text/plain": [
       "[1] 108.1833"
      ]
     },
     "metadata": {},
     "output_type": "display_data"
    }
   ],
   "source": [
    "media = mean(dataex$Cant_Clientes)\n",
    "media"
   ]
  },
  {
   "cell_type": "code",
   "execution_count": 21,
   "metadata": {},
   "outputs": [
    {
     "data": {
      "text/html": [
       "90.2878531073446"
      ],
      "text/latex": [
       "90.2878531073446"
      ],
      "text/markdown": [
       "90.2878531073446"
      ],
      "text/plain": [
       "[1] 90.28785"
      ]
     },
     "metadata": {},
     "output_type": "display_data"
    }
   ],
   "source": [
    "varClientes = var(dataex$Cant_Clientes)\n",
    "varClientes"
   ]
  },
  {
   "cell_type": "code",
   "execution_count": 22,
   "metadata": {},
   "outputs": [
    {
     "data": {
      "text/html": [
       "105.728708500876"
      ],
      "text/latex": [
       "105.728708500876"
      ],
      "text/markdown": [
       "105.728708500876"
      ],
      "text/plain": [
       "[1] 105.7287"
      ]
     },
     "metadata": {},
     "output_type": "display_data"
    },
    {
     "data": {
      "text/html": [
       "110.637958165791"
      ],
      "text/latex": [
       "110.637958165791"
      ],
      "text/markdown": [
       "110.637958165791"
      ],
      "text/plain": [
       "[1] 110.638"
      ]
     },
     "metadata": {},
     "output_type": "display_data"
    }
   ],
   "source": [
    "gamma =0.95\n",
    "LI = media - abs(qt((1-gamma)/2,60-1))*sqrt(varClientes/60)\n",
    "LS = media + abs(qt((1-gamma)/2,60-1))*sqrt(varClientes/60)\n",
    "LI\n",
    "LS"
   ]
  },
  {
   "cell_type": "markdown",
   "metadata": {},
   "source": [
    "#### Utilizando t.test"
   ]
  },
  {
   "cell_type": "code",
   "execution_count": 23,
   "metadata": {},
   "outputs": [
    {
     "data": {
      "text/plain": [
       "\n",
       "\tOne Sample t-test\n",
       "\n",
       "data:  dataex$Cant_Clientes\n",
       "t = 88.19, df = 59, p-value < 2.2e-16\n",
       "alternative hypothesis: true mean is not equal to 0\n",
       "95 percent confidence interval:\n",
       " 105.7287 110.6380\n",
       "sample estimates:\n",
       "mean of x \n",
       " 108.1833 \n"
      ]
     },
     "metadata": {},
     "output_type": "display_data"
    }
   ],
   "source": [
    "t.test(dataex$Cant_Clientes,conf.level = 0.95)"
   ]
  },
  {
   "cell_type": "markdown",
   "metadata": {},
   "source": [
    "--------------"
   ]
  },
  {
   "cell_type": "markdown",
   "metadata": {},
   "source": [
    "2) La concentración de cloro (en ppm) de una piscina, en un instante del tiempo, se comporta de acuerdo con una distribución normal. Puede observar las 60 mediciones en las variables Temperatura, Concentracion_de_Cloro, y Presencia_de_microorganismos. \n",
    "\n",
    "**Determine entre que valores de variabilidad se encuentra la Concentración de Cloro en un instante de tiempo con una certeza del 92%**"
   ]
  },
  {
   "cell_type": "code",
   "execution_count": 24,
   "metadata": {},
   "outputs": [
    {
     "data": {
      "text/html": [
       "1.90172327683616"
      ],
      "text/latex": [
       "1.90172327683616"
      ],
      "text/markdown": [
       "1.90172327683616"
      ],
      "text/plain": [
       "[1] 1.901723"
      ]
     },
     "metadata": {},
     "output_type": "display_data"
    }
   ],
   "source": [
    "Varianza = var(dataex$Concentracion_de_Cloro)\n",
    "Varianza"
   ]
  },
  {
   "cell_type": "code",
   "execution_count": 25,
   "metadata": {},
   "outputs": [],
   "source": [
    "S2 = Varianza\n",
    "gamma= 0.92\n",
    "n=60"
   ]
  },
  {
   "cell_type": "code",
   "execution_count": 26,
   "metadata": {},
   "outputs": [],
   "source": [
    "LI = (n-1)*S2 / qchisq( (1-gamma)/2 + gamma,n-1)\n",
    "LS =  (n-1)*S2 / qchisq( (1-gamma)/2,n-1)"
   ]
  },
  {
   "cell_type": "code",
   "execution_count": 27,
   "metadata": {},
   "outputs": [
    {
     "data": {
      "text/html": [
       "1.41452936508705"
      ],
      "text/latex": [
       "1.41452936508705"
      ],
      "text/markdown": [
       "1.41452936508705"
      ],
      "text/plain": [
       "[1] 1.414529"
      ]
     },
     "metadata": {},
     "output_type": "display_data"
    },
    {
     "data": {
      "text/html": [
       "2.70844214465878"
      ],
      "text/latex": [
       "2.70844214465878"
      ],
      "text/markdown": [
       "2.70844214465878"
      ],
      "text/plain": [
       "[1] 2.708442"
      ]
     },
     "metadata": {},
     "output_type": "display_data"
    }
   ],
   "source": [
    "LI\n",
    "LS"
   ]
  },
  {
   "cell_type": "markdown",
   "metadata": {},
   "source": [
    "------------------"
   ]
  }
 ],
 "metadata": {
  "kernelspec": {
   "display_name": "R",
   "language": "R",
   "name": "ir"
  },
  "language_info": {
   "codemirror_mode": "r",
   "file_extension": ".r",
   "mimetype": "text/x-r-source",
   "name": "R",
   "pygments_lexer": "r",
   "version": "3.6.3"
  }
 },
 "nbformat": 4,
 "nbformat_minor": 4
}
