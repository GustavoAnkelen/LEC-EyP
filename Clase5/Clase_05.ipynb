{
 "cells": [
  {
   "cell_type": "markdown",
   "metadata": {},
   "source": [
    "<img src=\"https://www.promocionachile.cl/img/logos/uai.JPG\" width=\"400\" alt=\"utfsm-logo\" align=\"left\"/>"
   ]
  },
  {
   "cell_type": "markdown",
   "metadata": {},
   "source": [
    "# LEC de Probabilidad y Estadística, Viña del mar.\n",
    "## Clase 05\n",
    "### Profesores: Eduardo Rubio - Gustavo Arcaya\n",
    "\n",
    "# Objetivos:\n",
    "* Simulación, predicción y caracterización de:\n",
    "    * Gamma, Weibull y Log-Normal."
   ]
  },
  {
   "cell_type": "markdown",
   "metadata": {},
   "source": [
    "-------------\n",
    "-----------\n",
    "### Recuerdo de la sesión anterior\n",
    "**Definición:** \n",
    "\n",
    "Sean  $X$ e $Y$ una variable aleatoria continua y discreta respectivamente, se define la `esperanza de X` o `valor esperado de X` (respectivamente, esperanza de $Y$ o valor esperado de $Y$) como\n",
    "* $E[X] :=  \\int_{-\\infty}^{\\infty} f(x) \\cdot x dx =  \\int_{x\\in \\mathcal{R}_X} f(x) \\cdot x dx $\n",
    "* $E[Y] := \\displaystyle\\sum_{x\\in \\mathcal{R}_X} x \\cdot \\mathbb{P}(X=X)$\n",
    "\n",
    "\n",
    "A partir de la definición anterior, podemos considerar lo siguiente\n",
    "\n",
    "**Definición:** Sea $X$ una variable aleatoria con promedio $\\mu$, se define su `varianza` como\n",
    "* $  Var(X) = E[(X - \\mu)^2] = E[X^2] - E[X]^2$\n",
    "o de la misma manera\n",
    "* $ Var(X) = \\int_{-\\infty}^{\\infty} (x- \\mu)^2 f(x) dx$\n",
    "-------------------------------\n",
    "---------------------"
   ]
  },
  {
   "cell_type": "markdown",
   "metadata": {},
   "source": [
    "### Modelos Continuos Especiales\n",
    "La distribución Gamma es un modelo muy popular debido a su flexibilidad. Una variable aleatoria Gamma toma\n",
    "valores en el intervalo $(0, +\\infty)$ y su función de densidad está dada por:\n",
    "\n",
    "\\begin{equation}\n",
    "    f_{X}(x)=\\frac{x^{\\alpha-1} e^{-x / \\beta}}{\\Gamma(\\alpha) \\beta^{\\alpha}}, \\quad x>0\n",
    "\\end{equation}\n",
    "\n",
    "donde $\\alpha$ y $\\beta$ son parámetros positivos, mientras que $\\Gamma(\\cdot)$ es la función Gamma:\n",
    "\n",
    "\\begin{equation}\n",
    "    \\Gamma(\\alpha)=\\int_{0}^{\\infty} u^{\\alpha-1} e^{-u} \\mathrm{d} u\n",
    "\\end{equation}\n",
    "que satisface las siguientes propiedades:\n",
    "* $\\Gamma(n)=(n-1) !, \\quad n \\in \\mathbb{N}$\n",
    "* $\\Gamma(\\alpha+1)=\\alpha \\Gamma(\\alpha)$"
   ]
  },
  {
   "cell_type": "markdown",
   "metadata": {},
   "source": [
    "#### Comprobemos estas propiedades con unos ejemplos\n",
    "* Propiedad 1)"
   ]
  },
  {
   "cell_type": "code",
   "execution_count": 1,
   "metadata": {},
   "outputs": [
    {
     "data": {
      "text/html": [
       "24"
      ],
      "text/latex": [
       "24"
      ],
      "text/markdown": [
       "24"
      ],
      "text/plain": [
       "[1] 24"
      ]
     },
     "metadata": {},
     "output_type": "display_data"
    }
   ],
   "source": [
    "gamma(5)"
   ]
  },
  {
   "cell_type": "code",
   "execution_count": 2,
   "metadata": {},
   "outputs": [
    {
     "data": {
      "text/html": [
       "24"
      ],
      "text/latex": [
       "24"
      ],
      "text/markdown": [
       "24"
      ],
      "text/plain": [
       "[1] 24"
      ]
     },
     "metadata": {},
     "output_type": "display_data"
    }
   ],
   "source": [
    "factorial(5-1)"
   ]
  },
  {
   "cell_type": "markdown",
   "metadata": {},
   "source": [
    "* Propiedad 2)"
   ]
  },
  {
   "cell_type": "code",
   "execution_count": 3,
   "metadata": {},
   "outputs": [
    {
     "data": {
      "text/html": [
       "120"
      ],
      "text/latex": [
       "120"
      ],
      "text/markdown": [
       "120"
      ],
      "text/plain": [
       "[1] 120"
      ]
     },
     "metadata": {},
     "output_type": "display_data"
    }
   ],
   "source": [
    "gamma(6)"
   ]
  },
  {
   "cell_type": "code",
   "execution_count": 4,
   "metadata": {},
   "outputs": [
    {
     "data": {
      "text/html": [
       "120"
      ],
      "text/latex": [
       "120"
      ],
      "text/markdown": [
       "120"
      ],
      "text/plain": [
       "[1] 120"
      ]
     },
     "metadata": {},
     "output_type": "display_data"
    }
   ],
   "source": [
    "5*gamma(5)"
   ]
  },
  {
   "cell_type": "markdown",
   "metadata": {},
   "source": [
    "#### Usaremos la notación $X \\sim $Gamma$(\\alpha, \\beta)$. También debemos notar que la función de distribución acumulada para una variable aleatoria Gamma, no tiene una representación sencilla."
   ]
  },
  {
   "cell_type": "markdown",
   "metadata": {},
   "source": []
  },
  {
   "cell_type": "markdown",
   "metadata": {},
   "source": [
    "### Propiedades\n",
    "Sea $X\\sim$Gamma$(\\alpha,\\beta)$, entonces:\n",
    "* $\\mathbb{E}(X)=\\alpha \\beta$\n",
    "* $\\mathbb{V}(X)=\\alpha \\beta^{2}$"
   ]
  },
  {
   "cell_type": "code",
   "execution_count": 5,
   "metadata": {},
   "outputs": [
    {
     "data": {
      "image/png": "[encoded data removed]",
      "text/plain": [
       "Plot with title \"Histogram of data1\""
      ]
     },
     "metadata": {
      "image/png": {
       "height": 420,
       "width": 420
      }
     },
     "output_type": "display_data"
    }
   ],
   "source": [
    "set.seed(0)\n",
    "data1 = rgamma(1000,4,1)  #rgamma(número de datos, alpha, beta)\n",
    "hist(data1)"
   ]
  },
  {
   "cell_type": "markdown",
   "metadata": {},
   "source": [
    "### Observación\n",
    "\n",
    "Cuando $\\alpha= 1$ es fijo, obtenemos en particular la distribuci\\'on Exponencial. Formalmente, la v.a. $X$\n",
    "sigue una distribuci´on Exponencial con parámetro $\\beta$, denotado como $X \\sim $exp$(\\beta)$, si tiene la siguiente\n",
    "función de densidad:\n",
    "$$\n",
    "f_{X}(x)=\\frac{1}{\\beta} e^{-x / \\beta}\n",
    "$$"
   ]
  },
  {
   "cell_type": "code",
   "execution_count": 6,
   "metadata": {},
   "outputs": [
    {
     "data": {
      "image/png": "[encoded data removed]",
      "text/plain": [
       "Plot with title \"Histogram of data2\""
      ]
     },
     "metadata": {
      "image/png": {
       "height": 420,
       "width": 420
      }
     },
     "output_type": "display_data"
    }
   ],
   "source": [
    "set.seed(0)\n",
    "data2 = rexp(1000,1) #rexp(numero de datos, beta)\n",
    "hist(data2)"
   ]
  },
  {
   "cell_type": "markdown",
   "metadata": {},
   "source": [
    "Como antes, podemos encontrar la probabilidad acumulada hasta cierto valor de la variable aleatoria X. Para esta y otras operaciones podemos utilizar los siguientes comandos\n",
    "* Como en el caso de la distribución normal, no debemos utilizar el comando `dgamma` para evaluar la probabilidad puntual, pues esta nos entrega la evaluación de la función de densidad evaluada en un valor dado"
   ]
  },
  {
   "cell_type": "code",
   "execution_count": 7,
   "metadata": {},
   "outputs": [
    {
     "data": {
      "text/html": [
       "0.606530659712633"
      ],
      "text/latex": [
       "0.606530659712633"
      ],
      "text/markdown": [
       "0.606530659712633"
      ],
      "text/plain": [
       "[1] 0.6065307"
      ]
     },
     "metadata": {},
     "output_type": "display_data"
    }
   ],
   "source": [
    "dgamma(0.5,1,1)"
   ]
  },
  {
   "cell_type": "code",
   "execution_count": 8,
   "metadata": {},
   "outputs": [
    {
     "data": {
      "text/html": [
       "0.606530659712633"
      ],
      "text/latex": [
       "0.606530659712633"
      ],
      "text/markdown": [
       "0.606530659712633"
      ],
      "text/plain": [
       "[1] 0.6065307"
      ]
     },
     "metadata": {},
     "output_type": "display_data"
    }
   ],
   "source": [
    "1*exp(-0.5*1)"
   ]
  },
  {
   "cell_type": "markdown",
   "metadata": {},
   "source": [
    "* Por otro lado, podemos operar con los valores de probabilidad acumulada con los siguientes métodos"
   ]
  },
  {
   "cell_type": "code",
   "execution_count": 9,
   "metadata": {},
   "outputs": [
    {
     "data": {
      "text/html": [
       "0.00017211562995584"
      ],
      "text/latex": [
       "0.00017211562995584"
      ],
      "text/markdown": [
       "0.00017211562995584"
      ],
      "text/plain": [
       "[1] 0.0001721156"
      ]
     },
     "metadata": {},
     "output_type": "display_data"
    }
   ],
   "source": [
    "a = pgamma(0.5,5,1) # pgamma(valor de v.a, alpha, beta) ---> Entrega el valor de probabilidad acumulada hasta esa cantidad (área bajo la curva)\n",
    "a"
   ]
  },
  {
   "cell_type": "code",
   "execution_count": 10,
   "metadata": {},
   "outputs": [
    {
     "data": {
      "text/html": [
       "0.5"
      ],
      "text/latex": [
       "0.5"
      ],
      "text/markdown": [
       "0.5"
      ],
      "text/plain": [
       "[1] 0.5"
      ]
     },
     "metadata": {},
     "output_type": "display_data"
    }
   ],
   "source": [
    "qgamma(a,5,1) # pgamma(valor de probabilidad acumulada, alpha, beta) ---> Entrega el valor de la v.a asociado a tal probabilidad acumulada"
   ]
  },
  {
   "cell_type": "markdown",
   "metadata": {},
   "source": [
    "* De igual manera, para $\\alpha = 1$ podemos tambien usar la exponencial"
   ]
  },
  {
   "cell_type": "code",
   "execution_count": 11,
   "metadata": {},
   "outputs": [],
   "source": [
    "a2 = pexp(0.5)\n",
    "a3 = pgamma(0.5,1,1)"
   ]
  },
  {
   "cell_type": "code",
   "execution_count": 12,
   "metadata": {},
   "outputs": [
    {
     "data": {
      "text/html": [
       "0.393469340287367"
      ],
      "text/latex": [
       "0.393469340287367"
      ],
      "text/markdown": [
       "0.393469340287367"
      ],
      "text/plain": [
       "[1] 0.3934693"
      ]
     },
     "metadata": {},
     "output_type": "display_data"
    }
   ],
   "source": [
    "a2"
   ]
  },
  {
   "cell_type": "code",
   "execution_count": 13,
   "metadata": {},
   "outputs": [
    {
     "data": {
      "text/html": [
       "0.393469340287367"
      ],
      "text/latex": [
       "0.393469340287367"
      ],
      "text/markdown": [
       "0.393469340287367"
      ],
      "text/plain": [
       "[1] 0.3934693"
      ]
     },
     "metadata": {},
     "output_type": "display_data"
    }
   ],
   "source": [
    "a3"
   ]
  },
  {
   "cell_type": "code",
   "execution_count": 14,
   "metadata": {},
   "outputs": [
    {
     "data": {
      "text/html": [
       "0.5"
      ],
      "text/latex": [
       "0.5"
      ],
      "text/markdown": [
       "0.5"
      ],
      "text/plain": [
       "[1] 0.5"
      ]
     },
     "metadata": {},
     "output_type": "display_data"
    }
   ],
   "source": [
    "qexp(a2)"
   ]
  },
  {
   "cell_type": "code",
   "execution_count": 15,
   "metadata": {},
   "outputs": [
    {
     "data": {
      "text/html": [
       "0.5"
      ],
      "text/latex": [
       "0.5"
      ],
      "text/markdown": [
       "0.5"
      ],
      "text/plain": [
       "[1] 0.5"
      ]
     },
     "metadata": {},
     "output_type": "display_data"
    }
   ],
   "source": [
    "qgamma(a3,1,1)"
   ]
  },
  {
   "cell_type": "markdown",
   "metadata": {
    "tags": []
   },
   "source": [
    "--------------\n",
    "--------------\n",
    "\n",
    "## Distribución Weibull\n",
    "Sea $X$ una variable aleatoria continua tal que su función de densidad está dada por\n",
    "\n",
    "\\begin{equation}\n",
    "f_X(x) = \\dfrac{\\alpha}{\\lambda} \\left(\\dfrac{x}{\\lambda}\\right)\n",
    "^{\\alpha-1}\n",
    "e^{\n",
    "-(\\lambda x)\n",
    "\\alpha}\n",
    ", \\quad x > 0\n",
    "\\end{equation}\n",
    "\n",
    "decimos que $X$ sigue una distribución Weibull con parámetros $\\alpha$ y $\\lambda$ positivos. Usaremos la\n",
    "notación $X \\sim $Weibull$(\\alpha, \\lambda)$.\n",
    "\n",
    "### Propiedades:\n",
    "Para una variable aleatoria $X \\sim \\ Weibull(\\alpha,\\lambda)$, se tiene que\n",
    "* $E[X] = \\lambda \\Gamma\\left(1 + \\frac{1}{\\alpha}\\right)$\n",
    "* $Var(X) = \\lambda^2 \\left( \\Gamma\\left( 1+ \\frac{2}{\\alpha} \\right) - \\Gamma\\left( 1  + \\frac{1}{\\alpha}\\right)^2\\right)$\n",
    "\n"
   ]
  },
  {
   "cell_type": "code",
   "execution_count": 16,
   "metadata": {},
   "outputs": [
    {
     "data": {
      "image/png": "[encoded data removed]",
      "text/plain": [
       "Plot with title \"Histogram of data3\""
      ]
     },
     "metadata": {
      "image/png": {
       "height": 420,
       "width": 420
      }
     },
     "output_type": "display_data"
    }
   ],
   "source": [
    "set.seed(665)\n",
    "data3 = rweibull(1000, 3, 1/2)  #rweibull(número de datos, alpha, 1/lambda)\n",
    "hist(data3)"
   ]
  },
  {
   "cell_type": "markdown",
   "metadata": {},
   "source": [
    "Como antes, podemos encontrar la probabilidad acumulada hasta cierto valor de la variable aleatoria X. Para esta y otras operaciones podemos utilizar los siguientes comandos\n",
    "* Como en el caso de la distribución normal y gamma, no debemos utilizar el comando `dweibull` para evaluar la probabilidad puntual, pues esta nos entrega la evaluación de la función de densidad evaluada en un valor dado."
   ]
  },
  {
   "cell_type": "code",
   "execution_count": 17,
   "metadata": {},
   "outputs": [
    {
     "data": {
      "text/html": [
       "0.632120558828558"
      ],
      "text/latex": [
       "0.632120558828558"
      ],
      "text/markdown": [
       "0.632120558828558"
      ],
      "text/plain": [
       "[1] 0.6321206"
      ]
     },
     "metadata": {},
     "output_type": "display_data"
    }
   ],
   "source": [
    "a4 = pweibull(0.3,190,0.3)\n",
    "a4"
   ]
  },
  {
   "cell_type": "code",
   "execution_count": 18,
   "metadata": {},
   "outputs": [
    {
     "data": {
      "text/html": [
       "0.3"
      ],
      "text/latex": [
       "0.3"
      ],
      "text/markdown": [
       "0.3"
      ],
      "text/plain": [
       "[1] 0.3"
      ]
     },
     "metadata": {},
     "output_type": "display_data"
    }
   ],
   "source": [
    "qweibull(a4,190,0.3)"
   ]
  },
  {
   "cell_type": "markdown",
   "metadata": {},
   "source": [
    "--------------------\n",
    "---------------------"
   ]
  },
  {
   "cell_type": "markdown",
   "metadata": {},
   "source": [
    "## Log-Normal\n",
    "* Si una variable aleatoria $X$ es tal ${\\displaystyle X\\sim \\ N(\\mu ,\\sigma ^{2})}{\\displaystyle}$ (es decir, $X$ sigue una distribución normal), entonces ${\\displaystyle \\exp(X)\\sim \\operatorname {Log-N} (\\mu ,\\sigma ^{2})}{\\displaystyle}$.\n",
    "* Asímismo, si $Y \\sim Log-N (\\mu, \\sigma^{2})$ entonces $\\log(Y) \\sim N(\\mu, \\sigma^{2})$\n",
    "### Propiedades\n",
    "* $E[X] = exp\\left( \\mu + \\frac{1}{2}\\sigma^2 \\right)$\n",
    "* $Var(X) = exp(2\\mu + \\sigma^2)\\cdot (exp(\\sigma^2) - 1)$"
   ]
  },
  {
   "cell_type": "code",
   "execution_count": 19,
   "metadata": {},
   "outputs": [
    {
     "data": {
      "image/png": "[encoded data removed]",
      "text/plain": [
       "Plot with title \"Histogram of data5\""
      ]
     },
     "metadata": {
      "image/png": {
       "height": 420,
       "width": 420
      }
     },
     "output_type": "display_data"
    }
   ],
   "source": [
    "data5 = rlnorm(1000,1,0.5) #rlnorm(número de datos, media, sigma^2)\n",
    "hist(data5)"
   ]
  },
  {
   "cell_type": "markdown",
   "metadata": {},
   "source": [
    "Como antes, podemos encontrar la probabilidad acumulada hasta cierto valor de la variable aleatoria X. Para esta y otras operaciones podemos utilizar los siguientes comandos\n",
    "* Como en el caso de la distribución normal, gamma y weibull, no debemos utilizar el comando `dweibull` para evaluar la probabilidad puntual, pues esta nos entrega la evaluación de la función de densidad evaluada en un valor dado."
   ]
  },
  {
   "cell_type": "code",
   "execution_count": 20,
   "metadata": {},
   "outputs": [
    {
     "data": {
      "text/html": [
       "0.415512437946091"
      ],
      "text/latex": [
       "0.415512437946091"
      ],
      "text/markdown": [
       "0.415512437946091"
      ],
      "text/plain": [
       "[1] 0.4155124"
      ]
     },
     "metadata": {},
     "output_type": "display_data"
    }
   ],
   "source": [
    "a5 = plnorm(0.21,1,12)\n",
    "a5"
   ]
  },
  {
   "cell_type": "code",
   "execution_count": 21,
   "metadata": {},
   "outputs": [
    {
     "data": {
      "text/html": [
       "0.21"
      ],
      "text/latex": [
       "0.21"
      ],
      "text/markdown": [
       "0.21"
      ],
      "text/plain": [
       "[1] 0.21"
      ]
     },
     "metadata": {},
     "output_type": "display_data"
    }
   ],
   "source": [
    "qlnorm(a5,1,12)"
   ]
  }
 ],
 "metadata": {
  "kernelspec": {
   "display_name": "R",
   "language": "R",
   "name": "ir"
  },
  "language_info": {
   "codemirror_mode": "r",
   "file_extension": ".r",
   "mimetype": "text/x-r-source",
   "name": "R",
   "pygments_lexer": "r",
   "version": "3.6.3"
  }
 },
 "nbformat": 4,
 "nbformat_minor": 4
}
